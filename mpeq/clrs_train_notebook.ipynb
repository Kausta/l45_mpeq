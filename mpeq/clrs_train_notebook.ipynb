{
 "cells": [
  {
   "cell_type": "markdown",
   "id": "f3acdd8b",
   "metadata": {},
   "source": [
    "# Run training of CLRS algorithm\n",
    "\n",
    "Copied main function from clrs_train.py. Helper functions are located in clrs_train_funcs.py"
   ]
  },
  {
   "cell_type": "code",
   "execution_count": 1,
   "id": "9b11198c",
   "metadata": {},
   "outputs": [
    {
     "name": "stderr",
     "output_type": "stream",
     "text": [
      "2023-03-26 17:17:19.859534: W tensorflow/compiler/xla/stream_executor/platform/default/dso_loader.cc:64] Could not load dynamic library 'libnvinfer.so.7'; dlerror: libnvinfer.so.7: cannot open shared object file: No such file or directory; LD_LIBRARY_PATH: /usr/local/cuda/lib64:\n",
      "2023-03-26 17:17:19.859628: W tensorflow/compiler/xla/stream_executor/platform/default/dso_loader.cc:64] Could not load dynamic library 'libnvinfer_plugin.so.7'; dlerror: libnvinfer_plugin.so.7: cannot open shared object file: No such file or directory; LD_LIBRARY_PATH: /usr/local/cuda/lib64:\n",
      "2023-03-26 17:17:19.859633: W tensorflow/compiler/tf2tensorrt/utils/py_utils.cc:38] TF-TRT Warning: Cannot dlopen some TensorRT libraries. If you would like to use Nvidia GPU with TensorRT, please make sure the missing libraries mentioned above are installed properly.\n"
     ]
    }
   ],
   "source": [
    "import functools\n",
    "import os\n",
    "import shutil\n",
    "from typing import Any, Dict, List\n",
    "\n",
    "import logging\n",
    "import clrs\n",
    "import jax\n",
    "import jax.numpy as jnp\n",
    "import numpy as np\n",
    "import requests\n",
    "import tensorflow as tf\n",
    "import haiku as hk\n",
    "\n",
    "import model\n",
    "\n",
    "import flags\n",
    "from clrs_train_funcs import *"
   ]
  },
  {
   "cell_type": "code",
   "execution_count": 2,
   "id": "27a69895",
   "metadata": {},
   "outputs": [
    {
     "name": "stdout",
     "output_type": "stream",
     "text": [
      "Sun Mar 26 17:17:21 2023       \n",
      "+-----------------------------------------------------------------------------+\n",
      "| NVIDIA-SMI 525.65       Driver Version: 527.56       CUDA Version: 12.0     |\n",
      "|-------------------------------+----------------------+----------------------+\n",
      "| GPU  Name        Persistence-M| Bus-Id        Disp.A | Volatile Uncorr. ECC |\n",
      "| Fan  Temp  Perf  Pwr:Usage/Cap|         Memory-Usage | GPU-Util  Compute M. |\n",
      "|                               |                      |               MIG M. |\n",
      "|===============================+======================+======================|\n",
      "|   0  NVIDIA GeForce ...  On   | 00000000:01:00.0 Off |                  N/A |\n",
      "| N/A   39C    P8    13W / 146W |      0MiB /  8192MiB |      0%      Default |\n",
      "|                               |                      |                  N/A |\n",
      "+-------------------------------+----------------------+----------------------+\n",
      "                                                                               \n",
      "+-----------------------------------------------------------------------------+\n",
      "| Processes:                                                                  |\n",
      "|  GPU   GI   CI        PID   Type   Process name                  GPU Memory |\n",
      "|        ID   ID                                                   Usage      |\n",
      "|=============================================================================|\n",
      "|    0   N/A  N/A      4807      G   /Xwayland                       N/A      |\n",
      "+-----------------------------------------------------------------------------+\n"
     ]
    }
   ],
   "source": [
    "!nvidia-smi"
   ]
  },
  {
   "cell_type": "code",
   "execution_count": 3,
   "id": "771141dd",
   "metadata": {},
   "outputs": [],
   "source": [
    "FLAGS = flags.FLAGS"
   ]
  },
  {
   "cell_type": "code",
   "execution_count": 4,
   "id": "fa63cee8",
   "metadata": {},
   "outputs": [],
   "source": [
    "logger = logging.getLogger()\n",
    "logger.setLevel(logging.INFO)\n",
    "\n",
    "formatter = logging.Formatter('%(asctime)s - %(name)s - %(levelname)s - %(message)s')\n",
    "ch = logging.StreamHandler()\n",
    "ch.setFormatter(formatter)\n",
    "logger.addHandler(ch)"
   ]
  },
  {
   "cell_type": "code",
   "execution_count": 5,
   "id": "b412628f",
   "metadata": {},
   "outputs": [
    {
     "name": "stderr",
     "output_type": "stream",
     "text": [
      "2023-03-26 17:17:21,753 - jax._src.lib.xla_bridge - INFO - Unable to initialize backend 'tpu_driver': NOT_FOUND: Unable to find driver in registry given worker: \n",
      "2023-03-26 17:17:22,295 - jax._src.lib.xla_bridge - INFO - Unable to initialize backend 'rocm': NOT_FOUND: Could not find registered platform with name: \"rocm\". Available platform names are: Interpreter Host CUDA\n",
      "2023-03-26 17:17:22,296 - jax._src.lib.xla_bridge - INFO - Unable to initialize backend 'tpu': module 'jaxlib.xla_extension' has no attribute 'get_tpu_client'\n",
      "2023-03-26 17:17:22,297 - jax._src.lib.xla_bridge - INFO - Unable to initialize backend 'plugin': xla_extension has no attributes named get_plugin_device_client. Compile TensorFlow with //tensorflow/compiler/xla/python:enable_plugin_device set to true (defaults to false) to enable this.\n"
     ]
    }
   ],
   "source": [
    "if FLAGS.hint_mode == 'encoded_decoded':\n",
    "    encode_hints = True\n",
    "    decode_hints = True\n",
    "elif FLAGS.hint_mode == 'decoded_only':\n",
    "    encode_hints = False\n",
    "    decode_hints = True\n",
    "elif FLAGS.hint_mode == 'none':\n",
    "    encode_hints = False\n",
    "    decode_hints = False\n",
    "else:\n",
    "    raise ValueError(\n",
    "        'Hint mode not in {encoded_decoded, decoded_only, none}.')\n",
    "\n",
    "train_lengths = [int(x) for x in FLAGS.train_lengths]\n",
    "\n",
    "rng = np.random.RandomState(FLAGS.seed)\n",
    "rng_key = jax.random.PRNGKey(rng.randint(2**32))"
   ]
  },
  {
   "cell_type": "code",
   "execution_count": 6,
   "id": "a79e1217",
   "metadata": {},
   "outputs": [
    {
     "name": "stderr",
     "output_type": "stream",
     "text": [
      "2023-03-26 17:17:22,844 - root - INFO - Creating samplers for algo insertion_sort\n",
      "2023-03-26 17:17:22.837987: W tensorflow/compiler/xla/stream_executor/platform/default/dso_loader.cc:64] Could not load dynamic library 'libcudnn.so.8'; dlerror: libcudnn.so.8: cannot open shared object file: No such file or directory; LD_LIBRARY_PATH: /usr/local/cuda/lib64:\n",
      "2023-03-26 17:17:22.838037: W tensorflow/core/common_runtime/gpu/gpu_device.cc:1934] Cannot dlopen some GPU libraries. Please make sure the missing libraries mentioned above are installed properly if you would like to use GPU. Follow the guide at https://www.tensorflow.org/install/gpu for how to download and setup the required libraries for your platform.\n",
      "Skipping registering GPU devices...\n",
      "2023-03-26 17:17:22,845 - absl - WARNING - Ignoring kwargs {'p', 'length_needle'} when building sampler class <class 'clrs._src.samplers.SortingSampler'>\n",
      "2023-03-26 17:17:22,846 - absl - WARNING - Sampling dataset on-the-fly, unlimited samples.\n",
      "2023-03-26 17:17:22,975 - absl - WARNING - Ignoring kwargs {'p', 'length_needle'} when building sampler class <class 'clrs._src.samplers.SortingSampler'>\n",
      "2023-03-26 17:17:22,976 - absl - WARNING - Sampling dataset on-the-fly, unlimited samples.\n",
      "2023-03-26 17:17:23,146 - absl - WARNING - Ignoring kwargs {'p', 'length_needle'} when building sampler class <class 'clrs._src.samplers.SortingSampler'>\n",
      "2023-03-26 17:17:23,148 - absl - WARNING - Sampling dataset on-the-fly, unlimited samples.\n"
     ]
    },
    {
     "name": "stdout",
     "output_type": "stream",
     "text": [
      "Not! using randomized pos for split train\n",
      "Not! using randomized pos for split train\n"
     ]
    },
    {
     "name": "stderr",
     "output_type": "stream",
     "text": [
      "2023-03-26 17:17:23,366 - absl - WARNING - Ignoring kwargs {'p', 'length_needle'} when building sampler class <class 'clrs._src.samplers.SortingSampler'>\n",
      "2023-03-26 17:17:23,367 - absl - WARNING - Sampling dataset on-the-fly, unlimited samples.\n"
     ]
    },
    {
     "name": "stdout",
     "output_type": "stream",
     "text": [
      "Not! using randomized pos for split train\n"
     ]
    },
    {
     "name": "stderr",
     "output_type": "stream",
     "text": [
      "2023-03-26 17:17:23,610 - absl - WARNING - Ignoring kwargs {'p', 'length_needle'} when building sampler class <class 'clrs._src.samplers.SortingSampler'>\n",
      "2023-03-26 17:17:23,611 - absl - WARNING - Sampling dataset on-the-fly, unlimited samples.\n"
     ]
    },
    {
     "name": "stdout",
     "output_type": "stream",
     "text": [
      "Not! using randomized pos for split train\n"
     ]
    },
    {
     "name": "stderr",
     "output_type": "stream",
     "text": [
      "2023-03-26 17:17:23,883 - absl - WARNING - Ignoring kwargs {'p', 'length_needle'} when building sampler class <class 'clrs._src.samplers.SortingSampler'>\n",
      "2023-03-26 17:17:23,884 - absl - INFO - Creating a dataset with 64 samples.\n",
      "2023-03-26 17:17:23,912 - root - INFO - Dataset found at /tmp/CLRS30/CLRS30_v1.0.0. Skipping download.\n",
      "2023-03-26 17:17:23,914 - absl - INFO - Load dataset info from /tmp/CLRS30/CLRS30_v1.0.0/clrs_dataset/insertion_sort_test/1.0.0\n",
      "2023-03-26 17:17:23,917 - absl - INFO - Load dataset info from /tmp/CLRS30/CLRS30_v1.0.0/clrs_dataset/insertion_sort_test/1.0.0\n",
      "2023-03-26 17:17:23,919 - absl - INFO - Reusing dataset clrs_dataset (/tmp/CLRS30/CLRS30_v1.0.0/clrs_dataset/insertion_sort_test/1.0.0)\n",
      "2023-03-26 17:17:23,919 - absl - INFO - Constructing tf.data.Dataset clrs_dataset for split test, from /tmp/CLRS30/CLRS30_v1.0.0/clrs_dataset/insertion_sort_test/1.0.0\n"
     ]
    },
    {
     "name": "stdout",
     "output_type": "stream",
     "text": [
      "Not! using randomized pos for split train\n",
      "Not! using randomized pos for split val\n",
      "WARNING:tensorflow:From /home/kausta/miniconda3/envs/pysr/lib/python3.8/site-packages/tensorflow/python/autograph/pyct/static_analysis/liveness.py:83: Analyzer.lamba_check (from tensorflow.python.autograph.pyct.static_analysis.liveness) is deprecated and will be removed after 2023-09-23.\n",
      "Instructions for updating:\n",
      "Lambda fuctions will be no more assumed to be used in the statement where they are used, or at least in the same block. https://github.com/tensorflow/tensorflow/issues/56089\n"
     ]
    },
    {
     "name": "stderr",
     "output_type": "stream",
     "text": [
      "2023-03-26 17:17:24,201 - tensorflow - WARNING - From /home/kausta/miniconda3/envs/pysr/lib/python3.8/site-packages/tensorflow/python/autograph/pyct/static_analysis/liveness.py:83: Analyzer.lamba_check (from tensorflow.python.autograph.pyct.static_analysis.liveness) is deprecated and will be removed after 2023-09-23.\n",
      "Instructions for updating:\n",
      "Lambda fuctions will be no more assumed to be used in the statement where they are used, or at least in the same block. https://github.com/tensorflow/tensorflow/issues/56089\n"
     ]
    },
    {
     "name": "stdout",
     "output_type": "stream",
     "text": [
      "Not! using randomized pos for split test\n"
     ]
    }
   ],
   "source": [
    "FLAGS.random_pos = False\n",
    "FLAGS.algorithms = [\"insertion_sort\"]\n",
    "\n",
    "# Create samplers\n",
    "(train_samplers,\n",
    " val_samplers, val_sample_counts,\n",
    " test_samplers, test_sample_counts,\n",
    " spec_list) = create_samplers(rng, train_lengths)"
   ]
  },
  {
   "cell_type": "code",
   "execution_count": 7,
   "id": "e70415b1",
   "metadata": {},
   "outputs": [],
   "source": [
    "FLAGS.hidden_size = 128 # 32\n",
    "FLAGS.msg_size = 32 # 32\n",
    "\n",
    "FLAGS.train_steps = 10000 # 1000\n",
    "FLAGS.eval_every = 50\n",
    "FLAGS.test_every = 500\n",
    "\n",
    "FLAGS.l1_weight = 0.01 # 0.001 \n",
    "\n",
    "# l1_weight_fn_mult_start = 1\n",
    "# l1_weight_fn_mult_end = 10\n",
    "# l1_weight_fn = lambda step: FLAGS.l1_weight * (l1_weight_fn_mult_start + step / FLAGS.train_steps * (l1_weight_fn_mult_end - l1_weight_fn_mult_start))\n",
    "\n",
    "l1_weight_fn = lambda step: FLAGS.l1_weight"
   ]
  },
  {
   "cell_type": "code",
   "execution_count": 8,
   "id": "3d6249f2",
   "metadata": {},
   "outputs": [],
   "source": [
    "# FLAGS.hidden_size = 8\n",
    "# FLAGS.algorithms = ['dijkstra']"
   ]
  },
  {
   "cell_type": "code",
   "execution_count": 9,
   "id": "b3080605",
   "metadata": {},
   "outputs": [],
   "source": [
    "processor_factory = model.get_processor_factory(\n",
    "    FLAGS.processor_type,\n",
    "    use_ln=FLAGS.use_ln,\n",
    "    nb_triplet_fts=FLAGS.nb_triplet_fts,\n",
    "    nb_heads=FLAGS.nb_heads\n",
    ")\n",
    "model_params = dict(\n",
    "    processor_factory=processor_factory,\n",
    "    hidden_dim=FLAGS.hidden_size,\n",
    "    msg_dim=FLAGS.msg_size,\n",
    "    encode_hints=encode_hints,\n",
    "    decode_hints=decode_hints,\n",
    "    encoder_init=FLAGS.encoder_init,\n",
    "    use_lstm=FLAGS.use_lstm,\n",
    "    learning_rate=FLAGS.learning_rate,\n",
    "    grad_clip_max_norm=FLAGS.grad_clip_max_norm,\n",
    "    checkpoint_path=FLAGS.checkpoint_path,\n",
    "    freeze_processor=FLAGS.freeze_processor,\n",
    "    dropout_prob=FLAGS.dropout_prob,\n",
    "    hint_teacher_forcing=FLAGS.hint_teacher_forcing,\n",
    "    hint_repred_mode=FLAGS.hint_repred_mode,\n",
    "    nb_msg_passing_steps=FLAGS.nb_msg_passing_steps,\n",
    "    l1_weight=FLAGS.l1_weight\n",
    ")\n",
    "\n",
    "eval_model = model.BaselineMsgModel(\n",
    "    spec=spec_list,\n",
    "    dummy_trajectory=[next(t) for t in val_samplers],\n",
    "    **model_params\n",
    ")\n",
    "# # we will never used chunked training\n",
    "# if FLAGS.chunked_training:\n",
    "#     train_model = clrs.models.BaselineModelChunked(\n",
    "#         spec=spec_list,\n",
    "#         dummy_trajectory=[next(t) for t in train_samplers],\n",
    "#         **model_params\n",
    "#     )\n",
    "# else:\n",
    "#     train_model = eval_model\n",
    "train_model = eval_model"
   ]
  },
  {
   "cell_type": "code",
   "execution_count": 10,
   "id": "6738fd62",
   "metadata": {},
   "outputs": [
    {
     "name": "stderr",
     "output_type": "stream",
     "text": [
      "2023-03-26 17:19:10,733 - root - INFO - Algo insertion_sort step 0 current loss 16.380114, current_train_items 32, l1_weight 0.010000.\n",
      "2023-03-26 17:19:20,330 - root - INFO - (val) algo insertion_sort step 0: {'pred': 0.0986328125, 'score': 0.0986328125, 'examples_seen': 32, 'step': 0, 'algorithm': 'insertion_sort'}\n",
      "2023-03-26 17:19:20,331 - root - INFO - Checkpointing best model, best avg val score was -1.000, current avg val score is 0.099, val scores are: insertion_sort: 0.099\n",
      "2023-03-26 17:20:25,553 - root - INFO - Algo insertion_sort step 50 current loss 5.420138, current_train_items 1632, l1_weight 0.010000.\n",
      "2023-03-26 17:20:25,636 - root - INFO - (val) algo insertion_sort step 50: {'pred': 0.7578125, 'score': 0.7578125, 'examples_seen': 1632, 'step': 50, 'algorithm': 'insertion_sort'}\n",
      "2023-03-26 17:20:25,637 - root - INFO - Checkpointing best model, best avg val score was 0.099, current avg val score is 0.758, val scores are: insertion_sort: 0.758\n",
      "2023-03-26 17:20:28,264 - root - INFO - Algo insertion_sort step 100 current loss 3.347654, current_train_items 3232, l1_weight 0.010000.\n",
      "2023-03-26 17:20:28,351 - root - INFO - (val) algo insertion_sort step 100: {'pred': 0.7568359375, 'score': 0.7568359375, 'examples_seen': 3232, 'step': 100, 'algorithm': 'insertion_sort'}\n",
      "2023-03-26 17:20:28,352 - root - INFO - Not saving new best model, best avg val score was 0.758, current avg val score is 0.757, val scores are: insertion_sort: 0.757\n",
      "2023-03-26 17:20:31,001 - root - INFO - Algo insertion_sort step 150 current loss 5.300919, current_train_items 4832, l1_weight 0.010000.\n",
      "2023-03-26 17:20:31,086 - root - INFO - (val) algo insertion_sort step 150: {'pred': 0.8603515625, 'score': 0.8603515625, 'examples_seen': 4832, 'step': 150, 'algorithm': 'insertion_sort'}\n",
      "2023-03-26 17:20:31,087 - root - INFO - Checkpointing best model, best avg val score was 0.758, current avg val score is 0.860, val scores are: insertion_sort: 0.860\n",
      "2023-03-26 17:20:33,806 - root - INFO - Algo insertion_sort step 200 current loss 5.302946, current_train_items 6432, l1_weight 0.010000.\n",
      "2023-03-26 17:20:33,890 - root - INFO - (val) algo insertion_sort step 200: {'pred': 0.8603515625, 'score': 0.8603515625, 'examples_seen': 6432, 'step': 200, 'algorithm': 'insertion_sort'}\n",
      "2023-03-26 17:20:33,891 - root - INFO - Not saving new best model, best avg val score was 0.860, current avg val score is 0.860, val scores are: insertion_sort: 0.860\n",
      "2023-03-26 17:20:36,474 - root - INFO - Algo insertion_sort step 250 current loss 5.346535, current_train_items 8032, l1_weight 0.010000.\n",
      "2023-03-26 17:20:36,558 - root - INFO - (val) algo insertion_sort step 250: {'pred': 0.9130859375, 'score': 0.9130859375, 'examples_seen': 8032, 'step': 250, 'algorithm': 'insertion_sort'}\n",
      "2023-03-26 17:20:36,558 - root - INFO - Checkpointing best model, best avg val score was 0.860, current avg val score is 0.913, val scores are: insertion_sort: 0.913\n",
      "2023-03-26 17:20:39,352 - root - INFO - Algo insertion_sort step 300 current loss 2.724905, current_train_items 9632, l1_weight 0.010000.\n",
      "2023-03-26 17:20:39,440 - root - INFO - (val) algo insertion_sort step 300: {'pred': 0.91015625, 'score': 0.91015625, 'examples_seen': 9632, 'step': 300, 'algorithm': 'insertion_sort'}\n",
      "2023-03-26 17:20:39,441 - root - INFO - Not saving new best model, best avg val score was 0.913, current avg val score is 0.910, val scores are: insertion_sort: 0.910\n",
      "2023-03-26 17:20:42,148 - root - INFO - Algo insertion_sort step 350 current loss 5.756038, current_train_items 11232, l1_weight 0.010000.\n",
      "2023-03-26 17:20:42,227 - root - INFO - (val) algo insertion_sort step 350: {'pred': 0.8828125, 'score': 0.8828125, 'examples_seen': 11232, 'step': 350, 'algorithm': 'insertion_sort'}\n",
      "2023-03-26 17:20:42,228 - root - INFO - Not saving new best model, best avg val score was 0.913, current avg val score is 0.883, val scores are: insertion_sort: 0.883\n",
      "2023-03-26 17:20:44,736 - root - INFO - Algo insertion_sort step 400 current loss 4.140128, current_train_items 12832, l1_weight 0.010000.\n",
      "2023-03-26 17:20:44,837 - root - INFO - (val) algo insertion_sort step 400: {'pred': 0.7734375, 'score': 0.7734375, 'examples_seen': 12832, 'step': 400, 'algorithm': 'insertion_sort'}\n",
      "2023-03-26 17:20:44,837 - root - INFO - Not saving new best model, best avg val score was 0.913, current avg val score is 0.773, val scores are: insertion_sort: 0.773\n",
      "2023-03-26 17:20:47,650 - root - INFO - Algo insertion_sort step 450 current loss 3.651864, current_train_items 14432, l1_weight 0.010000.\n",
      "2023-03-26 17:20:47,740 - root - INFO - (val) algo insertion_sort step 450: {'pred': 0.9130859375, 'score': 0.9130859375, 'examples_seen': 14432, 'step': 450, 'algorithm': 'insertion_sort'}\n",
      "2023-03-26 17:20:47,741 - root - INFO - Not saving new best model, best avg val score was 0.913, current avg val score is 0.913, val scores are: insertion_sort: 0.913\n",
      "2023-03-26 17:20:50,467 - root - INFO - Algo insertion_sort step 500 current loss 5.624853, current_train_items 16032, l1_weight 0.010000.\n",
      "2023-03-26 17:20:50,584 - root - INFO - (val) algo insertion_sort step 500: {'pred': 0.93359375, 'score': 0.93359375, 'examples_seen': 16032, 'step': 500, 'algorithm': 'insertion_sort'}\n",
      "2023-03-26 17:20:50,585 - root - INFO - Checkpointing best model, best avg val score was 0.913, current avg val score is 0.934, val scores are: insertion_sort: 0.934\n",
      "2023-03-26 17:20:53,317 - root - INFO - Algo insertion_sort step 550 current loss 2.226032, current_train_items 17632, l1_weight 0.010000.\n",
      "2023-03-26 17:20:53,413 - root - INFO - (val) algo insertion_sort step 550: {'pred': 0.9130859375, 'score': 0.9130859375, 'examples_seen': 17632, 'step': 550, 'algorithm': 'insertion_sort'}\n",
      "2023-03-26 17:20:53,414 - root - INFO - Not saving new best model, best avg val score was 0.934, current avg val score is 0.913, val scores are: insertion_sort: 0.913\n",
      "2023-03-26 17:20:56,245 - root - INFO - Algo insertion_sort step 600 current loss 3.334217, current_train_items 19232, l1_weight 0.010000.\n",
      "2023-03-26 17:20:56,320 - root - INFO - (val) algo insertion_sort step 600: {'pred': 0.87890625, 'score': 0.87890625, 'examples_seen': 19232, 'step': 600, 'algorithm': 'insertion_sort'}\n",
      "2023-03-26 17:20:56,321 - root - INFO - Not saving new best model, best avg val score was 0.934, current avg val score is 0.879, val scores are: insertion_sort: 0.879\n",
      "2023-03-26 17:20:59,287 - root - INFO - Algo insertion_sort step 650 current loss 4.165604, current_train_items 20832, l1_weight 0.010000.\n",
      "2023-03-26 17:20:59,380 - root - INFO - (val) algo insertion_sort step 650: {'pred': 0.8798828125, 'score': 0.8798828125, 'examples_seen': 20832, 'step': 650, 'algorithm': 'insertion_sort'}\n",
      "2023-03-26 17:20:59,380 - root - INFO - Not saving new best model, best avg val score was 0.934, current avg val score is 0.880, val scores are: insertion_sort: 0.880\n",
      "2023-03-26 17:21:02,084 - root - INFO - Algo insertion_sort step 700 current loss 5.289058, current_train_items 22432, l1_weight 0.010000.\n",
      "2023-03-26 17:21:02,172 - root - INFO - (val) algo insertion_sort step 700: {'pred': 0.8701171875, 'score': 0.8701171875, 'examples_seen': 22432, 'step': 700, 'algorithm': 'insertion_sort'}\n",
      "2023-03-26 17:21:02,172 - root - INFO - Not saving new best model, best avg val score was 0.934, current avg val score is 0.870, val scores are: insertion_sort: 0.870\n",
      "2023-03-26 17:21:04,805 - root - INFO - Algo insertion_sort step 750 current loss 3.166221, current_train_items 24032, l1_weight 0.010000.\n",
      "2023-03-26 17:21:04,894 - root - INFO - (val) algo insertion_sort step 750: {'pred': 0.923828125, 'score': 0.923828125, 'examples_seen': 24032, 'step': 750, 'algorithm': 'insertion_sort'}\n",
      "2023-03-26 17:21:04,895 - root - INFO - Not saving new best model, best avg val score was 0.934, current avg val score is 0.924, val scores are: insertion_sort: 0.924\n",
      "2023-03-26 17:21:07,741 - root - INFO - Algo insertion_sort step 800 current loss 3.024676, current_train_items 25632, l1_weight 0.010000.\n",
      "2023-03-26 17:21:07,830 - root - INFO - (val) algo insertion_sort step 800: {'pred': 0.931640625, 'score': 0.931640625, 'examples_seen': 25632, 'step': 800, 'algorithm': 'insertion_sort'}\n",
      "2023-03-26 17:21:07,831 - root - INFO - Not saving new best model, best avg val score was 0.934, current avg val score is 0.932, val scores are: insertion_sort: 0.932\n",
      "2023-03-26 17:21:10,547 - root - INFO - Algo insertion_sort step 850 current loss 3.110268, current_train_items 27232, l1_weight 0.010000.\n",
      "2023-03-26 17:21:10,665 - root - INFO - (val) algo insertion_sort step 850: {'pred': 0.9189453125, 'score': 0.9189453125, 'examples_seen': 27232, 'step': 850, 'algorithm': 'insertion_sort'}\n",
      "2023-03-26 17:21:10,666 - root - INFO - Not saving new best model, best avg val score was 0.934, current avg val score is 0.919, val scores are: insertion_sort: 0.919\n",
      "2023-03-26 17:21:13,406 - root - INFO - Algo insertion_sort step 900 current loss 3.337534, current_train_items 28832, l1_weight 0.010000.\n",
      "2023-03-26 17:21:13,546 - root - INFO - (val) algo insertion_sort step 900: {'pred': 0.9296875, 'score': 0.9296875, 'examples_seen': 28832, 'step': 900, 'algorithm': 'insertion_sort'}\n",
      "2023-03-26 17:21:13,547 - root - INFO - Not saving new best model, best avg val score was 0.934, current avg val score is 0.930, val scores are: insertion_sort: 0.930\n",
      "2023-03-26 17:21:16,266 - root - INFO - Algo insertion_sort step 950 current loss 3.846328, current_train_items 30432, l1_weight 0.010000.\n",
      "2023-03-26 17:21:16,371 - root - INFO - (val) algo insertion_sort step 950: {'pred': 0.9423828125, 'score': 0.9423828125, 'examples_seen': 30432, 'step': 950, 'algorithm': 'insertion_sort'}\n",
      "2023-03-26 17:21:16,372 - root - INFO - Checkpointing best model, best avg val score was 0.934, current avg val score is 0.942, val scores are: insertion_sort: 0.942\n",
      "2023-03-26 17:21:18,970 - root - INFO - Algo insertion_sort step 1000 current loss 4.148663, current_train_items 32032, l1_weight 0.010000.\n",
      "2023-03-26 17:21:19,072 - root - INFO - (val) algo insertion_sort step 1000: {'pred': 0.90625, 'score': 0.90625, 'examples_seen': 32032, 'step': 1000, 'algorithm': 'insertion_sort'}\n",
      "2023-03-26 17:21:19,073 - root - INFO - Not saving new best model, best avg val score was 0.942, current avg val score is 0.906, val scores are: insertion_sort: 0.906\n",
      "2023-03-26 17:21:21,987 - root - INFO - Algo insertion_sort step 1050 current loss 3.377455, current_train_items 33632, l1_weight 0.010000.\n",
      "2023-03-26 17:21:22,093 - root - INFO - (val) algo insertion_sort step 1050: {'pred': 0.9267578125, 'score': 0.9267578125, 'examples_seen': 33632, 'step': 1050, 'algorithm': 'insertion_sort'}\n",
      "2023-03-26 17:21:22,094 - root - INFO - Not saving new best model, best avg val score was 0.942, current avg val score is 0.927, val scores are: insertion_sort: 0.927\n",
      "2023-03-26 17:21:24,836 - root - INFO - Algo insertion_sort step 1100 current loss 2.307433, current_train_items 35232, l1_weight 0.010000.\n",
      "2023-03-26 17:21:24,935 - root - INFO - (val) algo insertion_sort step 1100: {'pred': 0.9189453125, 'score': 0.9189453125, 'examples_seen': 35232, 'step': 1100, 'algorithm': 'insertion_sort'}\n",
      "2023-03-26 17:21:24,936 - root - INFO - Not saving new best model, best avg val score was 0.942, current avg val score is 0.919, val scores are: insertion_sort: 0.919\n",
      "2023-03-26 17:21:27,558 - root - INFO - Algo insertion_sort step 1150 current loss 4.233174, current_train_items 36832, l1_weight 0.010000.\n",
      "2023-03-26 17:21:27,661 - root - INFO - (val) algo insertion_sort step 1150: {'pred': 0.9248046875, 'score': 0.9248046875, 'examples_seen': 36832, 'step': 1150, 'algorithm': 'insertion_sort'}\n",
      "2023-03-26 17:21:27,662 - root - INFO - Not saving new best model, best avg val score was 0.942, current avg val score is 0.925, val scores are: insertion_sort: 0.925\n",
      "2023-03-26 17:21:30,390 - root - INFO - Algo insertion_sort step 1200 current loss 2.846505, current_train_items 38432, l1_weight 0.010000.\n",
      "2023-03-26 17:21:30,505 - root - INFO - (val) algo insertion_sort step 1200: {'pred': 0.9287109375, 'score': 0.9287109375, 'examples_seen': 38432, 'step': 1200, 'algorithm': 'insertion_sort'}\n",
      "2023-03-26 17:21:30,506 - root - INFO - Not saving new best model, best avg val score was 0.942, current avg val score is 0.929, val scores are: insertion_sort: 0.929\n",
      "2023-03-26 17:21:33,085 - root - INFO - Algo insertion_sort step 1250 current loss 2.472651, current_train_items 40032, l1_weight 0.010000.\n",
      "2023-03-26 17:21:33,168 - root - INFO - (val) algo insertion_sort step 1250: {'pred': 0.9521484375, 'score': 0.9521484375, 'examples_seen': 40032, 'step': 1250, 'algorithm': 'insertion_sort'}\n",
      "2023-03-26 17:21:33,169 - root - INFO - Checkpointing best model, best avg val score was 0.942, current avg val score is 0.952, val scores are: insertion_sort: 0.952\n",
      "2023-03-26 17:21:35,949 - root - INFO - Algo insertion_sort step 1300 current loss 2.941342, current_train_items 41632, l1_weight 0.010000.\n",
      "2023-03-26 17:21:36,070 - root - INFO - (val) algo insertion_sort step 1300: {'pred': 0.9462890625, 'score': 0.9462890625, 'examples_seen': 41632, 'step': 1300, 'algorithm': 'insertion_sort'}\n",
      "2023-03-26 17:21:36,071 - root - INFO - Not saving new best model, best avg val score was 0.952, current avg val score is 0.946, val scores are: insertion_sort: 0.946\n",
      "2023-03-26 17:21:38,780 - root - INFO - Algo insertion_sort step 1350 current loss 2.968788, current_train_items 43232, l1_weight 0.010000.\n",
      "2023-03-26 17:21:38,875 - root - INFO - (val) algo insertion_sort step 1350: {'pred': 0.8994140625, 'score': 0.8994140625, 'examples_seen': 43232, 'step': 1350, 'algorithm': 'insertion_sort'}\n",
      "2023-03-26 17:21:38,876 - root - INFO - Not saving new best model, best avg val score was 0.952, current avg val score is 0.899, val scores are: insertion_sort: 0.899\n",
      "2023-03-26 17:21:41,662 - root - INFO - Algo insertion_sort step 1400 current loss 2.225030, current_train_items 44832, l1_weight 0.010000.\n",
      "2023-03-26 17:21:41,802 - root - INFO - (val) algo insertion_sort step 1400: {'pred': 0.9052734375, 'score': 0.9052734375, 'examples_seen': 44832, 'step': 1400, 'algorithm': 'insertion_sort'}\n",
      "2023-03-26 17:21:41,803 - root - INFO - Not saving new best model, best avg val score was 0.952, current avg val score is 0.905, val scores are: insertion_sort: 0.905\n",
      "2023-03-26 17:21:44,542 - root - INFO - Algo insertion_sort step 1450 current loss 3.224971, current_train_items 46432, l1_weight 0.010000.\n",
      "2023-03-26 17:21:44,626 - root - INFO - (val) algo insertion_sort step 1450: {'pred': 0.8759765625, 'score': 0.8759765625, 'examples_seen': 46432, 'step': 1450, 'algorithm': 'insertion_sort'}\n",
      "2023-03-26 17:21:44,627 - root - INFO - Not saving new best model, best avg val score was 0.952, current avg val score is 0.876, val scores are: insertion_sort: 0.876\n",
      "2023-03-26 17:21:47,374 - root - INFO - Algo insertion_sort step 1500 current loss 2.549700, current_train_items 48032, l1_weight 0.010000.\n",
      "2023-03-26 17:21:47,482 - root - INFO - (val) algo insertion_sort step 1500: {'pred': 0.94921875, 'score': 0.94921875, 'examples_seen': 48032, 'step': 1500, 'algorithm': 'insertion_sort'}\n",
      "2023-03-26 17:21:47,483 - root - INFO - Not saving new best model, best avg val score was 0.952, current avg val score is 0.949, val scores are: insertion_sort: 0.949\n",
      "2023-03-26 17:21:50,132 - root - INFO - Algo insertion_sort step 1550 current loss 1.735091, current_train_items 49632, l1_weight 0.010000.\n",
      "2023-03-26 17:21:50,238 - root - INFO - (val) algo insertion_sort step 1550: {'pred': 0.904296875, 'score': 0.904296875, 'examples_seen': 49632, 'step': 1550, 'algorithm': 'insertion_sort'}\n",
      "2023-03-26 17:21:50,239 - root - INFO - Not saving new best model, best avg val score was 0.952, current avg val score is 0.904, val scores are: insertion_sort: 0.904\n",
      "2023-03-26 17:21:53,195 - root - INFO - Algo insertion_sort step 1600 current loss 2.258338, current_train_items 51232, l1_weight 0.010000.\n",
      "2023-03-26 17:21:53,277 - root - INFO - (val) algo insertion_sort step 1600: {'pred': 0.951171875, 'score': 0.951171875, 'examples_seen': 51232, 'step': 1600, 'algorithm': 'insertion_sort'}\n",
      "2023-03-26 17:21:53,278 - root - INFO - Not saving new best model, best avg val score was 0.952, current avg val score is 0.951, val scores are: insertion_sort: 0.951\n",
      "2023-03-26 17:21:55,875 - root - INFO - Algo insertion_sort step 1650 current loss 3.236294, current_train_items 52832, l1_weight 0.010000.\n",
      "2023-03-26 17:21:55,953 - root - INFO - (val) algo insertion_sort step 1650: {'pred': 0.962890625, 'score': 0.962890625, 'examples_seen': 52832, 'step': 1650, 'algorithm': 'insertion_sort'}\n",
      "2023-03-26 17:21:55,954 - root - INFO - Checkpointing best model, best avg val score was 0.952, current avg val score is 0.963, val scores are: insertion_sort: 0.963\n",
      "2023-03-26 17:21:58,755 - root - INFO - Algo insertion_sort step 1700 current loss 1.946660, current_train_items 54432, l1_weight 0.010000.\n",
      "2023-03-26 17:21:58,843 - root - INFO - (val) algo insertion_sort step 1700: {'pred': 0.9169921875, 'score': 0.9169921875, 'examples_seen': 54432, 'step': 1700, 'algorithm': 'insertion_sort'}\n",
      "2023-03-26 17:21:58,844 - root - INFO - Not saving new best model, best avg val score was 0.963, current avg val score is 0.917, val scores are: insertion_sort: 0.917\n",
      "2023-03-26 17:22:01,554 - root - INFO - Algo insertion_sort step 1750 current loss 2.306906, current_train_items 56032, l1_weight 0.010000.\n",
      "2023-03-26 17:22:01,646 - root - INFO - (val) algo insertion_sort step 1750: {'pred': 0.953125, 'score': 0.953125, 'examples_seen': 56032, 'step': 1750, 'algorithm': 'insertion_sort'}\n",
      "2023-03-26 17:22:01,647 - root - INFO - Not saving new best model, best avg val score was 0.963, current avg val score is 0.953, val scores are: insertion_sort: 0.953\n",
      "2023-03-26 17:22:04,356 - root - INFO - Algo insertion_sort step 1800 current loss 1.832801, current_train_items 57632, l1_weight 0.010000.\n",
      "2023-03-26 17:22:04,430 - root - INFO - (val) algo insertion_sort step 1800: {'pred': 0.888671875, 'score': 0.888671875, 'examples_seen': 57632, 'step': 1800, 'algorithm': 'insertion_sort'}\n",
      "2023-03-26 17:22:04,431 - root - INFO - Not saving new best model, best avg val score was 0.963, current avg val score is 0.889, val scores are: insertion_sort: 0.889\n",
      "2023-03-26 17:22:07,338 - root - INFO - Algo insertion_sort step 1850 current loss 3.278676, current_train_items 59232, l1_weight 0.010000.\n",
      "2023-03-26 17:22:07,414 - root - INFO - (val) algo insertion_sort step 1850: {'pred': 0.9697265625, 'score': 0.9697265625, 'examples_seen': 59232, 'step': 1850, 'algorithm': 'insertion_sort'}\n",
      "2023-03-26 17:22:07,415 - root - INFO - Checkpointing best model, best avg val score was 0.963, current avg val score is 0.970, val scores are: insertion_sort: 0.970\n",
      "2023-03-26 17:22:10,072 - root - INFO - Algo insertion_sort step 1900 current loss 1.984163, current_train_items 60832, l1_weight 0.010000.\n",
      "2023-03-26 17:22:10,151 - root - INFO - (val) algo insertion_sort step 1900: {'pred': 0.9365234375, 'score': 0.9365234375, 'examples_seen': 60832, 'step': 1900, 'algorithm': 'insertion_sort'}\n",
      "2023-03-26 17:22:10,152 - root - INFO - Not saving new best model, best avg val score was 0.970, current avg val score is 0.937, val scores are: insertion_sort: 0.937\n",
      "2023-03-26 17:22:13,040 - root - INFO - Algo insertion_sort step 1950 current loss 3.611494, current_train_items 62432, l1_weight 0.010000.\n",
      "2023-03-26 17:22:13,160 - root - INFO - (val) algo insertion_sort step 1950: {'pred': 0.958984375, 'score': 0.958984375, 'examples_seen': 62432, 'step': 1950, 'algorithm': 'insertion_sort'}\n",
      "2023-03-26 17:22:13,161 - root - INFO - Not saving new best model, best avg val score was 0.970, current avg val score is 0.959, val scores are: insertion_sort: 0.959\n",
      "2023-03-26 17:22:16,012 - root - INFO - Algo insertion_sort step 2000 current loss 3.180861, current_train_items 64032, l1_weight 0.010000.\n",
      "2023-03-26 17:22:16,097 - root - INFO - (val) algo insertion_sort step 2000: {'pred': 0.919921875, 'score': 0.919921875, 'examples_seen': 64032, 'step': 2000, 'algorithm': 'insertion_sort'}\n",
      "2023-03-26 17:22:16,097 - root - INFO - Not saving new best model, best avg val score was 0.970, current avg val score is 0.920, val scores are: insertion_sort: 0.920\n",
      "2023-03-26 17:22:18,826 - root - INFO - Algo insertion_sort step 2050 current loss 3.019706, current_train_items 65632, l1_weight 0.010000.\n",
      "2023-03-26 17:22:18,965 - root - INFO - (val) algo insertion_sort step 2050: {'pred': 0.919921875, 'score': 0.919921875, 'examples_seen': 65632, 'step': 2050, 'algorithm': 'insertion_sort'}\n",
      "2023-03-26 17:22:18,966 - root - INFO - Not saving new best model, best avg val score was 0.970, current avg val score is 0.920, val scores are: insertion_sort: 0.920\n",
      "2023-03-26 17:22:21,960 - root - INFO - Algo insertion_sort step 2100 current loss 1.836284, current_train_items 67232, l1_weight 0.010000.\n",
      "2023-03-26 17:22:22,104 - root - INFO - (val) algo insertion_sort step 2100: {'pred': 0.9130859375, 'score': 0.9130859375, 'examples_seen': 67232, 'step': 2100, 'algorithm': 'insertion_sort'}\n",
      "2023-03-26 17:22:22,105 - root - INFO - Not saving new best model, best avg val score was 0.970, current avg val score is 0.913, val scores are: insertion_sort: 0.913\n",
      "2023-03-26 17:22:24,775 - root - INFO - Algo insertion_sort step 2150 current loss 3.033091, current_train_items 68832, l1_weight 0.010000.\n",
      "2023-03-26 17:22:24,869 - root - INFO - (val) algo insertion_sort step 2150: {'pred': 0.9658203125, 'score': 0.9658203125, 'examples_seen': 68832, 'step': 2150, 'algorithm': 'insertion_sort'}\n",
      "2023-03-26 17:22:24,870 - root - INFO - Not saving new best model, best avg val score was 0.970, current avg val score is 0.966, val scores are: insertion_sort: 0.966\n",
      "2023-03-26 17:22:27,426 - root - INFO - Algo insertion_sort step 2200 current loss 3.436302, current_train_items 70432, l1_weight 0.010000.\n",
      "2023-03-26 17:22:27,508 - root - INFO - (val) algo insertion_sort step 2200: {'pred': 0.9091796875, 'score': 0.9091796875, 'examples_seen': 70432, 'step': 2200, 'algorithm': 'insertion_sort'}\n",
      "2023-03-26 17:22:27,509 - root - INFO - Not saving new best model, best avg val score was 0.970, current avg val score is 0.909, val scores are: insertion_sort: 0.909\n",
      "2023-03-26 17:22:30,123 - root - INFO - Algo insertion_sort step 2250 current loss 1.828851, current_train_items 72032, l1_weight 0.010000.\n",
      "2023-03-26 17:22:30,228 - root - INFO - (val) algo insertion_sort step 2250: {'pred': 0.939453125, 'score': 0.939453125, 'examples_seen': 72032, 'step': 2250, 'algorithm': 'insertion_sort'}\n",
      "2023-03-26 17:22:30,229 - root - INFO - Not saving new best model, best avg val score was 0.970, current avg val score is 0.939, val scores are: insertion_sort: 0.939\n",
      "2023-03-26 17:22:33,039 - root - INFO - Algo insertion_sort step 2300 current loss 2.785064, current_train_items 73632, l1_weight 0.010000.\n",
      "2023-03-26 17:22:33,126 - root - INFO - (val) algo insertion_sort step 2300: {'pred': 0.9814453125, 'score': 0.9814453125, 'examples_seen': 73632, 'step': 2300, 'algorithm': 'insertion_sort'}\n",
      "2023-03-26 17:22:33,127 - root - INFO - Checkpointing best model, best avg val score was 0.970, current avg val score is 0.981, val scores are: insertion_sort: 0.981\n",
      "2023-03-26 17:22:35,859 - root - INFO - Algo insertion_sort step 2350 current loss 2.246458, current_train_items 75232, l1_weight 0.010000.\n",
      "2023-03-26 17:22:35,948 - root - INFO - (val) algo insertion_sort step 2350: {'pred': 0.9306640625, 'score': 0.9306640625, 'examples_seen': 75232, 'step': 2350, 'algorithm': 'insertion_sort'}\n",
      "2023-03-26 17:22:35,949 - root - INFO - Not saving new best model, best avg val score was 0.981, current avg val score is 0.931, val scores are: insertion_sort: 0.931\n",
      "2023-03-26 17:22:38,724 - root - INFO - Algo insertion_sort step 2400 current loss 2.973551, current_train_items 76832, l1_weight 0.010000.\n",
      "2023-03-26 17:22:38,801 - root - INFO - (val) algo insertion_sort step 2400: {'pred': 0.978515625, 'score': 0.978515625, 'examples_seen': 76832, 'step': 2400, 'algorithm': 'insertion_sort'}\n",
      "2023-03-26 17:22:38,802 - root - INFO - Not saving new best model, best avg val score was 0.981, current avg val score is 0.979, val scores are: insertion_sort: 0.979\n",
      "2023-03-26 17:22:41,618 - root - INFO - Algo insertion_sort step 2450 current loss 2.247901, current_train_items 78432, l1_weight 0.010000.\n",
      "2023-03-26 17:22:41,696 - root - INFO - (val) algo insertion_sort step 2450: {'pred': 0.953125, 'score': 0.953125, 'examples_seen': 78432, 'step': 2450, 'algorithm': 'insertion_sort'}\n",
      "2023-03-26 17:22:41,697 - root - INFO - Not saving new best model, best avg val score was 0.981, current avg val score is 0.953, val scores are: insertion_sort: 0.953\n",
      "2023-03-26 17:22:44,512 - root - INFO - Algo insertion_sort step 2500 current loss 2.247122, current_train_items 80032, l1_weight 0.010000.\n",
      "2023-03-26 17:22:44,591 - root - INFO - (val) algo insertion_sort step 2500: {'pred': 0.943359375, 'score': 0.943359375, 'examples_seen': 80032, 'step': 2500, 'algorithm': 'insertion_sort'}\n",
      "2023-03-26 17:22:44,592 - root - INFO - Not saving new best model, best avg val score was 0.981, current avg val score is 0.943, val scores are: insertion_sort: 0.943\n",
      "2023-03-26 17:22:47,394 - root - INFO - Algo insertion_sort step 2550 current loss 4.826382, current_train_items 81632, l1_weight 0.010000.\n",
      "2023-03-26 17:22:47,543 - root - INFO - (val) algo insertion_sort step 2550: {'pred': 0.9677734375, 'score': 0.9677734375, 'examples_seen': 81632, 'step': 2550, 'algorithm': 'insertion_sort'}\n",
      "2023-03-26 17:22:47,544 - root - INFO - Not saving new best model, best avg val score was 0.981, current avg val score is 0.968, val scores are: insertion_sort: 0.968\n",
      "2023-03-26 17:22:50,425 - root - INFO - Algo insertion_sort step 2600 current loss 2.440454, current_train_items 83232, l1_weight 0.010000.\n",
      "2023-03-26 17:22:50,565 - root - INFO - (val) algo insertion_sort step 2600: {'pred': 0.947265625, 'score': 0.947265625, 'examples_seen': 83232, 'step': 2600, 'algorithm': 'insertion_sort'}\n",
      "2023-03-26 17:22:50,566 - root - INFO - Not saving new best model, best avg val score was 0.981, current avg val score is 0.947, val scores are: insertion_sort: 0.947\n",
      "2023-03-26 17:22:53,532 - root - INFO - Algo insertion_sort step 2650 current loss 2.358711, current_train_items 84832, l1_weight 0.010000.\n",
      "2023-03-26 17:22:53,642 - root - INFO - (val) algo insertion_sort step 2650: {'pred': 0.9228515625, 'score': 0.9228515625, 'examples_seen': 84832, 'step': 2650, 'algorithm': 'insertion_sort'}\n",
      "2023-03-26 17:22:53,643 - root - INFO - Not saving new best model, best avg val score was 0.981, current avg val score is 0.923, val scores are: insertion_sort: 0.923\n",
      "2023-03-26 17:22:56,479 - root - INFO - Algo insertion_sort step 2700 current loss 2.729269, current_train_items 86432, l1_weight 0.010000.\n",
      "2023-03-26 17:22:56,556 - root - INFO - (val) algo insertion_sort step 2700: {'pred': 0.96484375, 'score': 0.96484375, 'examples_seen': 86432, 'step': 2700, 'algorithm': 'insertion_sort'}\n",
      "2023-03-26 17:22:56,557 - root - INFO - Not saving new best model, best avg val score was 0.981, current avg val score is 0.965, val scores are: insertion_sort: 0.965\n",
      "2023-03-26 17:22:59,474 - root - INFO - Algo insertion_sort step 2750 current loss 1.859187, current_train_items 88032, l1_weight 0.010000.\n",
      "2023-03-26 17:22:59,557 - root - INFO - (val) algo insertion_sort step 2750: {'pred': 0.93359375, 'score': 0.93359375, 'examples_seen': 88032, 'step': 2750, 'algorithm': 'insertion_sort'}\n",
      "2023-03-26 17:22:59,558 - root - INFO - Not saving new best model, best avg val score was 0.981, current avg val score is 0.934, val scores are: insertion_sort: 0.934\n",
      "2023-03-26 17:23:02,303 - root - INFO - Algo insertion_sort step 2800 current loss 1.585026, current_train_items 89632, l1_weight 0.010000.\n",
      "2023-03-26 17:23:02,383 - root - INFO - (val) algo insertion_sort step 2800: {'pred': 0.9658203125, 'score': 0.9658203125, 'examples_seen': 89632, 'step': 2800, 'algorithm': 'insertion_sort'}\n",
      "2023-03-26 17:23:02,384 - root - INFO - Not saving new best model, best avg val score was 0.981, current avg val score is 0.966, val scores are: insertion_sort: 0.966\n",
      "2023-03-26 17:23:05,399 - root - INFO - Algo insertion_sort step 2850 current loss 1.563698, current_train_items 91232, l1_weight 0.010000.\n",
      "2023-03-26 17:23:05,518 - root - INFO - (val) algo insertion_sort step 2850: {'pred': 0.9716796875, 'score': 0.9716796875, 'examples_seen': 91232, 'step': 2850, 'algorithm': 'insertion_sort'}\n",
      "2023-03-26 17:23:05,519 - root - INFO - Not saving new best model, best avg val score was 0.981, current avg val score is 0.972, val scores are: insertion_sort: 0.972\n",
      "2023-03-26 17:23:08,266 - root - INFO - Algo insertion_sort step 2900 current loss 2.549448, current_train_items 92832, l1_weight 0.010000.\n",
      "2023-03-26 17:23:08,363 - root - INFO - (val) algo insertion_sort step 2900: {'pred': 0.982421875, 'score': 0.982421875, 'examples_seen': 92832, 'step': 2900, 'algorithm': 'insertion_sort'}\n",
      "2023-03-26 17:23:08,363 - root - INFO - Checkpointing best model, best avg val score was 0.981, current avg val score is 0.982, val scores are: insertion_sort: 0.982\n",
      "2023-03-26 17:23:10,999 - root - INFO - Algo insertion_sort step 2950 current loss 1.744231, current_train_items 94432, l1_weight 0.010000.\n",
      "2023-03-26 17:23:11,100 - root - INFO - (val) algo insertion_sort step 2950: {'pred': 0.9423828125, 'score': 0.9423828125, 'examples_seen': 94432, 'step': 2950, 'algorithm': 'insertion_sort'}\n",
      "2023-03-26 17:23:11,101 - root - INFO - Not saving new best model, best avg val score was 0.982, current avg val score is 0.942, val scores are: insertion_sort: 0.942\n",
      "2023-03-26 17:23:13,807 - root - INFO - Algo insertion_sort step 3000 current loss 2.357819, current_train_items 96032, l1_weight 0.010000.\n",
      "2023-03-26 17:23:13,898 - root - INFO - (val) algo insertion_sort step 3000: {'pred': 0.921875, 'score': 0.921875, 'examples_seen': 96032, 'step': 3000, 'algorithm': 'insertion_sort'}\n",
      "2023-03-26 17:23:13,899 - root - INFO - Not saving new best model, best avg val score was 0.982, current avg val score is 0.922, val scores are: insertion_sort: 0.922\n",
      "2023-03-26 17:23:16,572 - root - INFO - Algo insertion_sort step 3050 current loss 1.971042, current_train_items 97632, l1_weight 0.010000.\n",
      "2023-03-26 17:23:16,713 - root - INFO - (val) algo insertion_sort step 3050: {'pred': 0.9716796875, 'score': 0.9716796875, 'examples_seen': 97632, 'step': 3050, 'algorithm': 'insertion_sort'}\n",
      "2023-03-26 17:23:16,714 - root - INFO - Not saving new best model, best avg val score was 0.982, current avg val score is 0.972, val scores are: insertion_sort: 0.972\n",
      "2023-03-26 17:23:19,440 - root - INFO - Algo insertion_sort step 3100 current loss 1.647805, current_train_items 99232, l1_weight 0.010000.\n",
      "2023-03-26 17:23:19,534 - root - INFO - (val) algo insertion_sort step 3100: {'pred': 0.96484375, 'score': 0.96484375, 'examples_seen': 99232, 'step': 3100, 'algorithm': 'insertion_sort'}\n",
      "2023-03-26 17:23:19,535 - root - INFO - Not saving new best model, best avg val score was 0.982, current avg val score is 0.965, val scores are: insertion_sort: 0.965\n",
      "2023-03-26 17:23:22,210 - root - INFO - Algo insertion_sort step 3150 current loss 2.594410, current_train_items 100832, l1_weight 0.010000.\n",
      "2023-03-26 17:23:22,308 - root - INFO - (val) algo insertion_sort step 3150: {'pred': 0.94921875, 'score': 0.94921875, 'examples_seen': 100832, 'step': 3150, 'algorithm': 'insertion_sort'}\n",
      "2023-03-26 17:23:22,309 - root - INFO - Not saving new best model, best avg val score was 0.982, current avg val score is 0.949, val scores are: insertion_sort: 0.949\n",
      "2023-03-26 17:23:25,069 - root - INFO - Algo insertion_sort step 3200 current loss 2.763254, current_train_items 102432, l1_weight 0.010000.\n",
      "2023-03-26 17:23:25,163 - root - INFO - (val) algo insertion_sort step 3200: {'pred': 0.939453125, 'score': 0.939453125, 'examples_seen': 102432, 'step': 3200, 'algorithm': 'insertion_sort'}\n",
      "2023-03-26 17:23:25,164 - root - INFO - Not saving new best model, best avg val score was 0.982, current avg val score is 0.939, val scores are: insertion_sort: 0.939\n",
      "2023-03-26 17:23:27,863 - root - INFO - Algo insertion_sort step 3250 current loss 1.284203, current_train_items 104032, l1_weight 0.010000.\n",
      "2023-03-26 17:23:27,964 - root - INFO - (val) algo insertion_sort step 3250: {'pred': 0.9521484375, 'score': 0.9521484375, 'examples_seen': 104032, 'step': 3250, 'algorithm': 'insertion_sort'}\n",
      "2023-03-26 17:23:27,965 - root - INFO - Not saving new best model, best avg val score was 0.982, current avg val score is 0.952, val scores are: insertion_sort: 0.952\n",
      "2023-03-26 17:23:30,534 - root - INFO - Algo insertion_sort step 3300 current loss 2.882358, current_train_items 105632, l1_weight 0.010000.\n",
      "2023-03-26 17:23:30,673 - root - INFO - (val) algo insertion_sort step 3300: {'pred': 0.9619140625, 'score': 0.9619140625, 'examples_seen': 105632, 'step': 3300, 'algorithm': 'insertion_sort'}\n",
      "2023-03-26 17:23:30,673 - root - INFO - Not saving new best model, best avg val score was 0.982, current avg val score is 0.962, val scores are: insertion_sort: 0.962\n",
      "2023-03-26 17:23:33,342 - root - INFO - Algo insertion_sort step 3350 current loss 1.838830, current_train_items 107232, l1_weight 0.010000.\n",
      "2023-03-26 17:23:33,483 - root - INFO - (val) algo insertion_sort step 3350: {'pred': 0.9853515625, 'score': 0.9853515625, 'examples_seen': 107232, 'step': 3350, 'algorithm': 'insertion_sort'}\n",
      "2023-03-26 17:23:33,484 - root - INFO - Checkpointing best model, best avg val score was 0.982, current avg val score is 0.985, val scores are: insertion_sort: 0.985\n",
      "2023-03-26 17:23:36,215 - root - INFO - Algo insertion_sort step 3400 current loss 2.329177, current_train_items 108832, l1_weight 0.010000.\n",
      "2023-03-26 17:23:36,327 - root - INFO - (val) algo insertion_sort step 3400: {'pred': 0.955078125, 'score': 0.955078125, 'examples_seen': 108832, 'step': 3400, 'algorithm': 'insertion_sort'}\n",
      "2023-03-26 17:23:36,328 - root - INFO - Not saving new best model, best avg val score was 0.985, current avg val score is 0.955, val scores are: insertion_sort: 0.955\n",
      "2023-03-26 17:23:39,055 - root - INFO - Algo insertion_sort step 3450 current loss 2.757670, current_train_items 110432, l1_weight 0.010000.\n",
      "2023-03-26 17:23:39,136 - root - INFO - (val) algo insertion_sort step 3450: {'pred': 0.994140625, 'score': 0.994140625, 'examples_seen': 110432, 'step': 3450, 'algorithm': 'insertion_sort'}\n",
      "2023-03-26 17:23:39,137 - root - INFO - Checkpointing best model, best avg val score was 0.985, current avg val score is 0.994, val scores are: insertion_sort: 0.994\n",
      "2023-03-26 17:23:41,897 - root - INFO - Algo insertion_sort step 3500 current loss 3.668710, current_train_items 112032, l1_weight 0.010000.\n",
      "2023-03-26 17:23:41,982 - root - INFO - (val) algo insertion_sort step 3500: {'pred': 0.9619140625, 'score': 0.9619140625, 'examples_seen': 112032, 'step': 3500, 'algorithm': 'insertion_sort'}\n",
      "2023-03-26 17:23:41,982 - root - INFO - Not saving new best model, best avg val score was 0.994, current avg val score is 0.962, val scores are: insertion_sort: 0.962\n",
      "2023-03-26 17:23:44,560 - root - INFO - Algo insertion_sort step 3550 current loss 2.451987, current_train_items 113632, l1_weight 0.010000.\n",
      "2023-03-26 17:23:44,673 - root - INFO - (val) algo insertion_sort step 3550: {'pred': 0.96484375, 'score': 0.96484375, 'examples_seen': 113632, 'step': 3550, 'algorithm': 'insertion_sort'}\n",
      "2023-03-26 17:23:44,674 - root - INFO - Not saving new best model, best avg val score was 0.994, current avg val score is 0.965, val scores are: insertion_sort: 0.965\n",
      "2023-03-26 17:23:47,391 - root - INFO - Algo insertion_sort step 3600 current loss 1.754767, current_train_items 115232, l1_weight 0.010000.\n",
      "2023-03-26 17:23:47,477 - root - INFO - (val) algo insertion_sort step 3600: {'pred': 0.98046875, 'score': 0.98046875, 'examples_seen': 115232, 'step': 3600, 'algorithm': 'insertion_sort'}\n",
      "2023-03-26 17:23:47,478 - root - INFO - Not saving new best model, best avg val score was 0.994, current avg val score is 0.980, val scores are: insertion_sort: 0.980\n",
      "2023-03-26 17:23:50,266 - root - INFO - Algo insertion_sort step 3650 current loss 1.839407, current_train_items 116832, l1_weight 0.010000.\n",
      "2023-03-26 17:23:50,349 - root - INFO - (val) algo insertion_sort step 3650: {'pred': 0.9775390625, 'score': 0.9775390625, 'examples_seen': 116832, 'step': 3650, 'algorithm': 'insertion_sort'}\n",
      "2023-03-26 17:23:50,350 - root - INFO - Not saving new best model, best avg val score was 0.994, current avg val score is 0.978, val scores are: insertion_sort: 0.978\n",
      "2023-03-26 17:23:52,930 - root - INFO - Algo insertion_sort step 3700 current loss 1.980492, current_train_items 118432, l1_weight 0.010000.\n",
      "2023-03-26 17:23:53,004 - root - INFO - (val) algo insertion_sort step 3700: {'pred': 0.966796875, 'score': 0.966796875, 'examples_seen': 118432, 'step': 3700, 'algorithm': 'insertion_sort'}\n",
      "2023-03-26 17:23:53,005 - root - INFO - Not saving new best model, best avg val score was 0.994, current avg val score is 0.967, val scores are: insertion_sort: 0.967\n",
      "2023-03-26 17:23:55,607 - root - INFO - Algo insertion_sort step 3750 current loss 1.714137, current_train_items 120032, l1_weight 0.010000.\n",
      "2023-03-26 17:23:55,681 - root - INFO - (val) algo insertion_sort step 3750: {'pred': 0.9560546875, 'score': 0.9560546875, 'examples_seen': 120032, 'step': 3750, 'algorithm': 'insertion_sort'}\n",
      "2023-03-26 17:23:55,682 - root - INFO - Not saving new best model, best avg val score was 0.994, current avg val score is 0.956, val scores are: insertion_sort: 0.956\n",
      "2023-03-26 17:23:58,445 - root - INFO - Algo insertion_sort step 3800 current loss 1.684881, current_train_items 121632, l1_weight 0.010000.\n",
      "2023-03-26 17:23:58,527 - root - INFO - (val) algo insertion_sort step 3800: {'pred': 0.9736328125, 'score': 0.9736328125, 'examples_seen': 121632, 'step': 3800, 'algorithm': 'insertion_sort'}\n",
      "2023-03-26 17:23:58,528 - root - INFO - Not saving new best model, best avg val score was 0.994, current avg val score is 0.974, val scores are: insertion_sort: 0.974\n",
      "2023-03-26 17:24:01,353 - root - INFO - Algo insertion_sort step 3850 current loss 1.738331, current_train_items 123232, l1_weight 0.010000.\n",
      "2023-03-26 17:24:01,425 - root - INFO - (val) algo insertion_sort step 3850: {'pred': 0.943359375, 'score': 0.943359375, 'examples_seen': 123232, 'step': 3850, 'algorithm': 'insertion_sort'}\n",
      "2023-03-26 17:24:01,426 - root - INFO - Not saving new best model, best avg val score was 0.994, current avg val score is 0.943, val scores are: insertion_sort: 0.943\n"
     ]
    }
   ],
   "source": [
    "# Training loop.\n",
    "best_score = -1.0\n",
    "current_train_items = [0] * len(FLAGS.algorithms)\n",
    "step = 0\n",
    "next_eval = 0\n",
    "# Make sure scores improve on first step, but not overcome best score\n",
    "# until all algos have had at least one evaluation.\n",
    "val_scores = [-99999.9] * len(FLAGS.algorithms)\n",
    "length_idx = 0\n",
    "\n",
    "while step < FLAGS.train_steps:\n",
    "    feedback_list = [next(t) for t in train_samplers]\n",
    "\n",
    "    # Initialize model.\n",
    "    if step == 0:\n",
    "        all_features = [f.features for f in feedback_list]\n",
    "        if FLAGS.chunked_training:\n",
    "            # We need to initialize the model with samples of all lengths for\n",
    "            # all algorithms. Also, we need to make sure that the order of these\n",
    "            # sample sizes is the same as the order of the actual training sizes.\n",
    "            all_length_features = [all_features] + [\n",
    "                [next(t).features for t in train_samplers]\n",
    "                for _ in range(len(train_lengths))]\n",
    "            train_model.init(all_length_features[:-1], FLAGS.seed + 1)\n",
    "        else:\n",
    "            train_model.init(all_features, FLAGS.seed + 1)\n",
    "\n",
    "    train_model.l1_weight = l1_weight_fn(step)\n",
    "    # Training step.\n",
    "    for algo_idx in range(len(train_samplers)):\n",
    "        feedback = feedback_list[algo_idx]\n",
    "        rng_key, new_rng_key = jax.random.split(rng_key)\n",
    "        if FLAGS.chunked_training:\n",
    "            # In chunked training, we must indicate which training length we are\n",
    "            # using, so the model uses the correct state.\n",
    "            length_and_algo_idx = (length_idx, algo_idx)\n",
    "        else:\n",
    "            # In non-chunked training, all training lengths can be treated equally,\n",
    "            # since there is no state to maintain between batches.\n",
    "            length_and_algo_idx = algo_idx\n",
    "        cur_loss = train_model.feedback(\n",
    "            rng_key, feedback, length_and_algo_idx)\n",
    "        rng_key = new_rng_key\n",
    "\n",
    "        if FLAGS.chunked_training:\n",
    "            examples_in_chunk = np.sum(feedback.features.is_last).item()\n",
    "        else:\n",
    "            examples_in_chunk = len(feedback.features.lengths)\n",
    "        current_train_items[algo_idx] += examples_in_chunk\n",
    "        if step % 50 == 0:\n",
    "            logging.info('Algo %s step %i current loss %f, current_train_items %i, l1_weight %f.',\n",
    "                        FLAGS.algorithms[algo_idx], step,\n",
    "                        cur_loss, current_train_items[algo_idx], train_model.l1_weight)\n",
    "\n",
    "    # Periodically evaluate model\n",
    "    if step >= next_eval:\n",
    "        eval_model.params = train_model.params\n",
    "        for algo_idx in range(len(train_samplers)):\n",
    "            common_extras = {'examples_seen': current_train_items[algo_idx],\n",
    "                             'step': step,\n",
    "                             'algorithm': FLAGS.algorithms[algo_idx]}\n",
    "\n",
    "            # Validation info.\n",
    "            new_rng_key, rng_key = jax.random.split(rng_key)\n",
    "            val_stats = collect_and_eval(\n",
    "                val_samplers[algo_idx],\n",
    "                functools.partial(eval_model.predict,\n",
    "                                  algorithm_index=algo_idx),\n",
    "                val_sample_counts[algo_idx],\n",
    "                new_rng_key,\n",
    "                extras=common_extras)\n",
    "            logging.info('(val) algo %s step %d: %s',\n",
    "                         FLAGS.algorithms[algo_idx], step, val_stats)\n",
    "            val_scores[algo_idx] = val_stats['score']\n",
    "\n",
    "        next_eval += FLAGS.eval_every\n",
    "\n",
    "        # If best total score, update best checkpoint.\n",
    "        # Also save a best checkpoint on the first step.\n",
    "        msg = (f'best avg val score was '\n",
    "               f'{best_score/len(FLAGS.algorithms):.3f}, '\n",
    "               f'current avg val score is {np.mean(val_scores):.3f}, '\n",
    "               f'val scores are: ')\n",
    "        msg += ', '.join(\n",
    "            ['%s: %.3f' % (x, y) for (x, y) in zip(FLAGS.algorithms, val_scores)])\n",
    "        if (sum(val_scores) > best_score) or step == 0:\n",
    "            best_score = sum(val_scores)\n",
    "            logging.info('Checkpointing best model, %s', msg)\n",
    "            train_model.save_model('best.pkl')\n",
    "        else:\n",
    "            logging.info('Not saving new best model, %s', msg)\n",
    "\n",
    "    step += 1\n",
    "    length_idx = (length_idx + 1) % len(train_lengths)\n",
    "\n",
    "logging.info('Checkpointing final model, %s', msg)\n",
    "train_model.save_model('final.pkl')\n",
    "\n",
    "logging.info('Restoring best model from checkpoint...')\n",
    "eval_model.restore_model('best.pkl', only_load_processor=False)\n",
    "# logging.info('Restoring final model from checkpoint...')\n",
    "# eval_model.restore_model('final.pkl', only_load_processor=False)"
   ]
  },
  {
   "cell_type": "code",
   "execution_count": 12,
   "id": "7414d87c",
   "metadata": {},
   "outputs": [],
   "source": [
    "import pickle\n",
    "\n",
    "def restore_model(model, file_name):\n",
    "    \"\"\"Restore model from `file_name`.\"\"\"\n",
    "    with open(file_name, 'rb') as f:\n",
    "        restored_state = pickle.load(f)\n",
    "        restored_params = restored_state['params']\n",
    "        model.params = hk.data_structures.merge(restored_params)\n",
    "        model.opt_state = restored_state['opt_state']\n",
    "\n",
    "def save_model(model, file_name):\n",
    "    \"\"\"Save model (processor weights only) to `file_name`.\"\"\"\n",
    "    to_save = {'params': model.params, 'opt_state': model.opt_state}\n",
    "    with open(file_name, 'wb') as f:\n",
    "        pickle.dump(to_save, f)"
   ]
  },
  {
   "cell_type": "code",
   "execution_count": 13,
   "id": "c4c11566",
   "metadata": {},
   "outputs": [],
   "source": [
    "# save_model(eval_model, 'eval_model_1e-3.pkl')"
   ]
  },
  {
   "cell_type": "code",
   "execution_count": 14,
   "id": "fb459f1b",
   "metadata": {},
   "outputs": [],
   "source": [
    "# restore_model(eval_model, 'eval_model_asdf.pkl')"
   ]
  },
  {
   "cell_type": "code",
   "execution_count": 15,
   "id": "1aed2485",
   "metadata": {},
   "outputs": [
    {
     "name": "stdout",
     "output_type": "stream",
     "text": [
      "{'return': 0.97509765625, 'score': 0.97509765625}\n"
     ]
    }
   ],
   "source": [
    "algo_idx = 0\n",
    "common_extras = {}\n",
    "\n",
    "new_rng_key, rng_key = jax.random.split(rng_key)\n",
    "val_stats = collect_and_eval(\n",
    "    val_samplers[algo_idx],\n",
    "    functools.partial(eval_model.predict, algorithm_index=algo_idx),\n",
    "    val_sample_counts[algo_idx],\n",
    "    new_rng_key,\n",
    "    extras=common_extras)\n",
    "\n",
    "print(val_stats)"
   ]
  },
  {
   "cell_type": "code",
   "execution_count": 16,
   "id": "a2b7510d",
   "metadata": {},
   "outputs": [
    {
     "name": "stdout",
     "output_type": "stream",
     "text": [
      "{'return': 0.71826171875, 'score': 0.71826171875}\n"
     ]
    }
   ],
   "source": [
    "new_rng_key, rng_key = jax.random.split(rng_key)\n",
    "test_stats = collect_and_eval(\n",
    "    test_samplers[algo_idx],\n",
    "    functools.partial(eval_model.predict, algorithm_index=algo_idx),\n",
    "    test_sample_counts[algo_idx],\n",
    "    new_rng_key,\n",
    "    extras=common_extras)\n",
    "\n",
    "print(test_stats)"
   ]
  },
  {
   "cell_type": "code",
   "execution_count": 17,
   "id": "00b5f2bd",
   "metadata": {},
   "outputs": [],
   "source": [
    "feedback = next(train_samplers[0])"
   ]
  },
  {
   "cell_type": "code",
   "execution_count": 18,
   "id": "6eede5e8",
   "metadata": {},
   "outputs": [
    {
     "data": {
      "text/plain": [
       "['_asdict',\n",
       " '_field_defaults',\n",
       " '_fields',\n",
       " '_fields_defaults',\n",
       " '_make',\n",
       " '_replace',\n",
       " 'count',\n",
       " 'features',\n",
       " 'index',\n",
       " 'outputs']"
      ]
     },
     "execution_count": 18,
     "metadata": {},
     "output_type": "execute_result"
    }
   ],
   "source": [
    "list(filter(lambda x: x[:2] != '__', dir(feedback)))"
   ]
  },
  {
   "cell_type": "code",
   "execution_count": 19,
   "id": "aa70e0c0",
   "metadata": {},
   "outputs": [
    {
     "data": {
      "text/plain": [
       "['_asdict',\n",
       " '_field_defaults',\n",
       " '_fields',\n",
       " '_fields_defaults',\n",
       " '_make',\n",
       " '_replace',\n",
       " 'count',\n",
       " 'hints',\n",
       " 'index',\n",
       " 'inputs',\n",
       " 'lengths']"
      ]
     },
     "execution_count": 19,
     "metadata": {},
     "output_type": "execute_result"
    }
   ],
   "source": [
    "list(filter(lambda x: x[:2] != '__', dir(feedback.features)))"
   ]
  },
  {
   "cell_type": "code",
   "execution_count": 20,
   "id": "87285504",
   "metadata": {},
   "outputs": [
    {
     "data": {
      "text/plain": [
       "Features(inputs=(DataPoint(name=\"pos\",\tlocation=node,\ttype=scalar,\tdata=Array(32, 4)), DataPoint(name=\"key\",\tlocation=node,\ttype=scalar,\tdata=Array(32, 4)), DataPoint(name=\"target\",\tlocation=graph,\ttype=scalar,\tdata=Array(32,)), DataPoint(name=\"pred\",\tlocation=node,\ttype=pointer,\tdata=Array(32, 4))), hints=(DataPoint(name=\"low\",\tlocation=node,\ttype=mask_one,\tdata=Array(3, 32, 4)), DataPoint(name=\"high\",\tlocation=node,\ttype=mask_one,\tdata=Array(3, 32, 4)), DataPoint(name=\"mid\",\tlocation=node,\ttype=mask_one,\tdata=Array(3, 32, 4))), lengths=array([3., 3., 3., 3., 3., 3., 3., 3., 3., 3., 3., 3., 3., 3., 3., 3., 3.,\n",
       "       3., 3., 3., 3., 3., 3., 3., 3., 3., 3., 3., 3., 3., 3., 3.]))"
      ]
     },
     "execution_count": 20,
     "metadata": {},
     "output_type": "execute_result"
    }
   ],
   "source": [
    "feedback.features"
   ]
  },
  {
   "cell_type": "code",
   "execution_count": 21,
   "id": "9cd67ac0",
   "metadata": {},
   "outputs": [
    {
     "data": {
      "text/plain": [
       "(DataPoint(name=\"pos\",\tlocation=node,\ttype=scalar,\tdata=Array(32, 4)),\n",
       " DataPoint(name=\"key\",\tlocation=node,\ttype=scalar,\tdata=Array(32, 4)),\n",
       " DataPoint(name=\"target\",\tlocation=graph,\ttype=scalar,\tdata=Array(32,)),\n",
       " DataPoint(name=\"pred\",\tlocation=node,\ttype=pointer,\tdata=Array(32, 4)))"
      ]
     },
     "execution_count": 21,
     "metadata": {},
     "output_type": "execute_result"
    }
   ],
   "source": [
    "feedback.features.inputs"
   ]
  },
  {
   "cell_type": "code",
   "execution_count": 22,
   "id": "14e01e9f",
   "metadata": {},
   "outputs": [
    {
     "data": {
      "text/plain": [
       "array([[0.  , 0.25, 0.5 , 0.75],\n",
       "       [0.  , 0.25, 0.5 , 0.75],\n",
       "       [0.  , 0.25, 0.5 , 0.75],\n",
       "       [0.  , 0.25, 0.5 , 0.75],\n",
       "       [0.  , 0.25, 0.5 , 0.75],\n",
       "       [0.  , 0.25, 0.5 , 0.75],\n",
       "       [0.  , 0.25, 0.5 , 0.75],\n",
       "       [0.  , 0.25, 0.5 , 0.75],\n",
       "       [0.  , 0.25, 0.5 , 0.75],\n",
       "       [0.  , 0.25, 0.5 , 0.75],\n",
       "       [0.  , 0.25, 0.5 , 0.75],\n",
       "       [0.  , 0.25, 0.5 , 0.75],\n",
       "       [0.  , 0.25, 0.5 , 0.75],\n",
       "       [0.  , 0.25, 0.5 , 0.75],\n",
       "       [0.  , 0.25, 0.5 , 0.75],\n",
       "       [0.  , 0.25, 0.5 , 0.75],\n",
       "       [0.  , 0.25, 0.5 , 0.75],\n",
       "       [0.  , 0.25, 0.5 , 0.75],\n",
       "       [0.  , 0.25, 0.5 , 0.75],\n",
       "       [0.  , 0.25, 0.5 , 0.75],\n",
       "       [0.  , 0.25, 0.5 , 0.75],\n",
       "       [0.  , 0.25, 0.5 , 0.75],\n",
       "       [0.  , 0.25, 0.5 , 0.75],\n",
       "       [0.  , 0.25, 0.5 , 0.75],\n",
       "       [0.  , 0.25, 0.5 , 0.75],\n",
       "       [0.  , 0.25, 0.5 , 0.75],\n",
       "       [0.  , 0.25, 0.5 , 0.75],\n",
       "       [0.  , 0.25, 0.5 , 0.75],\n",
       "       [0.  , 0.25, 0.5 , 0.75],\n",
       "       [0.  , 0.25, 0.5 , 0.75],\n",
       "       [0.  , 0.25, 0.5 , 0.75],\n",
       "       [0.  , 0.25, 0.5 , 0.75]])"
      ]
     },
     "execution_count": 22,
     "metadata": {},
     "output_type": "execute_result"
    }
   ],
   "source": [
    "feedback.features.inputs[0].data"
   ]
  },
  {
   "cell_type": "code",
   "execution_count": 23,
   "id": "03d5c9a0",
   "metadata": {},
   "outputs": [
    {
     "data": {
      "text/plain": [
       "array([[0.14505245, 0.50669634, 0.69746885, 0.99827601],\n",
       "       [0.04907691, 0.55939811, 0.60407716, 0.69362913],\n",
       "       [0.22850282, 0.32995465, 0.45680348, 0.4631161 ],\n",
       "       [0.60183918, 0.61901712, 0.75530681, 0.84752412],\n",
       "       [0.06522265, 0.49855728, 0.71561711, 0.74078881],\n",
       "       [0.13983012, 0.26721134, 0.34307139, 0.61253297],\n",
       "       [0.44517601, 0.59939087, 0.70310817, 0.71624527],\n",
       "       [0.21499737, 0.22490709, 0.2290317 , 0.27179855],\n",
       "       [0.0659541 , 0.36794665, 0.64325931, 0.66634537],\n",
       "       [0.00141337, 0.02005159, 0.42050811, 0.75774222],\n",
       "       [0.47937064, 0.76829195, 0.77577855, 0.89999182],\n",
       "       [0.11322815, 0.4436976 , 0.45798428, 0.73927385],\n",
       "       [0.02718076, 0.39560593, 0.47574331, 0.57584161],\n",
       "       [0.25199846, 0.42218847, 0.66165925, 0.75193187],\n",
       "       [0.17945598, 0.19686362, 0.23018133, 0.98835444],\n",
       "       [0.03165351, 0.19228618, 0.82584994, 0.9468503 ],\n",
       "       [0.17438562, 0.74685971, 0.74929382, 0.85605148],\n",
       "       [0.10119071, 0.32314454, 0.49878189, 0.85232654],\n",
       "       [0.06727201, 0.20323862, 0.23001904, 0.50684549],\n",
       "       [0.11054454, 0.62387887, 0.83323288, 0.84450592],\n",
       "       [0.0831403 , 0.24122579, 0.65606492, 0.87078072],\n",
       "       [0.07264727, 0.19025479, 0.35795472, 0.79279348],\n",
       "       [0.38655067, 0.76316131, 0.8115511 , 0.95745659],\n",
       "       [0.23878137, 0.30550811, 0.41370526, 0.47864961],\n",
       "       [0.22205631, 0.27953945, 0.59365271, 0.7501302 ],\n",
       "       [0.22402623, 0.6847051 , 0.69710173, 0.92975466],\n",
       "       [0.18353386, 0.23174681, 0.70026261, 0.77073594],\n",
       "       [0.23150672, 0.6449111 , 0.84121712, 0.96025621],\n",
       "       [0.41883853, 0.53734346, 0.69045939, 0.90988346],\n",
       "       [0.16118089, 0.2325547 , 0.34271266, 0.5817026 ],\n",
       "       [0.09291824, 0.1437308 , 0.16971238, 0.61925323],\n",
       "       [0.48965323, 0.68657781, 0.68861899, 0.88458432]])"
      ]
     },
     "execution_count": 23,
     "metadata": {},
     "output_type": "execute_result"
    }
   ],
   "source": [
    "feedback.features.inputs[1].data"
   ]
  },
  {
   "cell_type": "code",
   "execution_count": 24,
   "id": "b16a11f0",
   "metadata": {},
   "outputs": [
    {
     "data": {
      "text/plain": [
       "array([0.90789178, 0.76675769, 0.46466379, 0.21048436, 0.19953704,\n",
       "       0.71214855, 0.72076151, 0.11210543, 0.72746734, 0.47947478,\n",
       "       0.50966803, 0.45263618, 0.77380012, 0.48942764, 0.96081892,\n",
       "       0.95727694, 0.10890818, 0.5357713 , 0.80139012, 0.57620145,\n",
       "       0.93474738, 0.89697058, 0.57118694, 0.48263026, 0.2236446 ,\n",
       "       0.6904246 , 0.91944913, 0.11814233, 0.64556645, 0.37133494,\n",
       "       0.4398061 , 0.70607906])"
      ]
     },
     "execution_count": 24,
     "metadata": {},
     "output_type": "execute_result"
    }
   ],
   "source": [
    "feedback.features.inputs[2].data"
   ]
  },
  {
   "cell_type": "code",
   "execution_count": 25,
   "id": "97d00fa5",
   "metadata": {},
   "outputs": [
    {
     "data": {
      "text/plain": [
       "array([[0., 0., 1., 2.],\n",
       "       [0., 0., 1., 2.],\n",
       "       [0., 0., 1., 2.],\n",
       "       [0., 0., 1., 2.],\n",
       "       [0., 0., 1., 2.],\n",
       "       [0., 0., 1., 2.],\n",
       "       [0., 0., 1., 2.],\n",
       "       [0., 0., 1., 2.],\n",
       "       [0., 0., 1., 2.],\n",
       "       [0., 0., 1., 2.],\n",
       "       [0., 0., 1., 2.],\n",
       "       [0., 0., 1., 2.],\n",
       "       [0., 0., 1., 2.],\n",
       "       [0., 0., 1., 2.],\n",
       "       [0., 0., 1., 2.],\n",
       "       [0., 0., 1., 2.],\n",
       "       [0., 0., 1., 2.],\n",
       "       [0., 0., 1., 2.],\n",
       "       [0., 0., 1., 2.],\n",
       "       [0., 0., 1., 2.],\n",
       "       [0., 0., 1., 2.],\n",
       "       [0., 0., 1., 2.],\n",
       "       [0., 0., 1., 2.],\n",
       "       [0., 0., 1., 2.],\n",
       "       [0., 0., 1., 2.],\n",
       "       [0., 0., 1., 2.],\n",
       "       [0., 0., 1., 2.],\n",
       "       [0., 0., 1., 2.],\n",
       "       [0., 0., 1., 2.],\n",
       "       [0., 0., 1., 2.],\n",
       "       [0., 0., 1., 2.],\n",
       "       [0., 0., 1., 2.]])"
      ]
     },
     "execution_count": 25,
     "metadata": {},
     "output_type": "execute_result"
    }
   ],
   "source": [
    "feedback.features.inputs[3].data"
   ]
  },
  {
   "cell_type": "code",
   "execution_count": 26,
   "id": "9a78496b",
   "metadata": {},
   "outputs": [],
   "source": [
    "A = feedback.features.inputs[2].data\n",
    "adj = feedback.features.inputs[3].data"
   ]
  },
  {
   "cell_type": "code",
   "execution_count": 27,
   "id": "b58635a0",
   "metadata": {},
   "outputs": [
    {
     "data": {
      "text/plain": [
       "(Array([ 0,  0,  1,  1,  2,  2,  3,  3,  4,  4,  5,  5,  6,  6,  7,  7,  8,\n",
       "         8,  9,  9, 10, 10, 11, 11, 12, 12, 13, 13, 14, 14, 15, 15, 16, 16,\n",
       "        17, 17, 18, 18, 19, 19, 20, 20, 21, 21, 22, 22, 23, 23, 24, 24, 25,\n",
       "        25, 26, 26, 27, 27, 28, 28, 29, 29, 30, 30, 31, 31], dtype=int32),\n",
       " Array([0, 1, 0, 1, 0, 1, 0, 1, 0, 1, 0, 1, 0, 1, 0, 1, 0, 1, 0, 1, 0, 1,\n",
       "        0, 1, 0, 1, 0, 1, 0, 1, 0, 1, 0, 1, 0, 1, 0, 1, 0, 1, 0, 1, 0, 1,\n",
       "        0, 1, 0, 1, 0, 1, 0, 1, 0, 1, 0, 1, 0, 1, 0, 1, 0, 1, 0, 1],      dtype=int32))"
      ]
     },
     "execution_count": 27,
     "metadata": {},
     "output_type": "execute_result"
    }
   ],
   "source": [
    "jnp.where(jnp.expand_dims((A != 0), 1) & (adj == 0))"
   ]
  },
  {
   "cell_type": "code",
   "execution_count": 28,
   "id": "19b9ee9c",
   "metadata": {},
   "outputs": [
    {
     "data": {
      "text/plain": [
       "(DataPoint(name=\"low\",\tlocation=node,\ttype=mask_one,\tdata=Array(3, 32, 4)),\n",
       " DataPoint(name=\"high\",\tlocation=node,\ttype=mask_one,\tdata=Array(3, 32, 4)),\n",
       " DataPoint(name=\"mid\",\tlocation=node,\ttype=mask_one,\tdata=Array(3, 32, 4)))"
      ]
     },
     "execution_count": 28,
     "metadata": {},
     "output_type": "execute_result"
    }
   ],
   "source": [
    "feedback.features.hints"
   ]
  },
  {
   "cell_type": "code",
   "execution_count": 29,
   "id": "0b088c90",
   "metadata": {},
   "outputs": [
    {
     "data": {
      "text/plain": [
       "array([0, 0, 0, 0, 0, 0, 0, 0, 0, 0, 0, 0, 0, 0, 0, 0, 0, 0, 0, 0, 0, 0,\n",
       "       0, 0, 0, 0, 0, 0, 0, 0, 0, 0])"
      ]
     },
     "execution_count": 29,
     "metadata": {},
     "output_type": "execute_result"
    }
   ],
   "source": [
    "np.argmin(feedback.features.inputs[0].data, axis=1)"
   ]
  },
  {
   "cell_type": "code",
   "execution_count": 30,
   "id": "7396caeb",
   "metadata": {},
   "outputs": [
    {
     "data": {
      "text/plain": [
       "(array([ 0,  1,  2,  3,  4,  5,  6,  7,  8,  9, 10, 11, 12, 13, 14, 15, 16,\n",
       "        17, 18, 19, 20, 21, 22, 23, 24, 25, 26, 27, 28, 29, 30, 31]),\n",
       " array([3, 3, 3, 0, 1, 3, 3, 0, 3, 3, 1, 2, 3, 2, 3, 3, 0, 3, 3, 1, 3, 3,\n",
       "        1, 3, 1, 2, 3, 0, 2, 3, 3, 3]))"
      ]
     },
     "execution_count": 30,
     "metadata": {},
     "output_type": "execute_result"
    }
   ],
   "source": [
    "np.where(feedback.outputs[0].data == 1)"
   ]
  },
  {
   "cell_type": "code",
   "execution_count": 31,
   "id": "96f1aa77",
   "metadata": {},
   "outputs": [
    {
     "data": {
      "text/plain": [
       "2048"
      ]
     },
     "execution_count": 31,
     "metadata": {},
     "output_type": "execute_result"
    }
   ],
   "source": [
    "test_sample_counts[0]"
   ]
  },
  {
   "cell_type": "code",
   "execution_count": 32,
   "id": "183fb917",
   "metadata": {},
   "outputs": [
    {
     "data": {
      "text/plain": [
       "Features(inputs=(DataPoint(name=\"pos\",\tlocation=node,\ttype=scalar,\tdata=Array(32, 4)), DataPoint(name=\"key\",\tlocation=node,\ttype=scalar,\tdata=Array(32, 4)), DataPoint(name=\"target\",\tlocation=graph,\ttype=scalar,\tdata=Array(32,)), DataPoint(name=\"pred\",\tlocation=node,\ttype=pointer,\tdata=Array(32, 4))), hints=(DataPoint(name=\"low\",\tlocation=node,\ttype=mask_one,\tdata=Array(3, 32, 4)), DataPoint(name=\"high\",\tlocation=node,\ttype=mask_one,\tdata=Array(3, 32, 4)), DataPoint(name=\"mid\",\tlocation=node,\ttype=mask_one,\tdata=Array(3, 32, 4))), lengths=array([3., 3., 3., 3., 3., 3., 3., 3., 3., 3., 3., 3., 3., 3., 3., 3., 3.,\n",
       "       3., 3., 3., 3., 3., 3., 3., 3., 3., 3., 3., 3., 3., 3., 3.]))"
      ]
     },
     "execution_count": 32,
     "metadata": {},
     "output_type": "execute_result"
    }
   ],
   "source": [
    "feedback.features"
   ]
  },
  {
   "cell_type": "code",
   "execution_count": 33,
   "id": "2be7a6b8",
   "metadata": {},
   "outputs": [],
   "source": [
    "def _concat(dps, axis):\n",
    "    return jax.tree_util.tree_map(lambda *x: np.concatenate(x, axis), *dps)\n",
    "\n",
    "def get_msgs(sampler, predict_fn, sample_count, rng_key, criteria, sample_prob=0.001, threshold_max_elem=0.001):\n",
    "    \"\"\"Get messages from model.\n",
    "    \n",
    "    CAUTION: size of msgs can get large very quickly, so beware when\n",
    "        running with a large number of samples.\n",
    "    Use sample_prob to reduce the number of messages that are saved\n",
    "    by randomly sampling messages\n",
    "    \n",
    "    Note: we can only perform symbolic regression on a maximum of\n",
    "    ~5000 messages anyways, so we can use sample_prob to get to this threshold\n",
    "    \"\"\"\n",
    "    processed_samples = 0\n",
    "    msgs = []\n",
    "    while processed_samples < sample_count:\n",
    "        feedback = next(sampler)\n",
    "        batch_size = feedback.outputs[0].data.shape[0]\n",
    "        new_rng_key, rng_key = jax.random.split(rng_key)\n",
    "        _, _, cur_msgs, cur_input_msg, cur_input_algo = predict_fn(new_rng_key, feedback.features)\n",
    "        \n",
    "        print(cur_msgs.shape, cur_msgs.shape[-1], cur_input_msg.shape[-1], cur_input_algo.shape[-1])\n",
    "        \n",
    "        cur_msgs = cur_msgs.reshape(-1, cur_msgs.shape[-1])\n",
    "        cur_input_msg = cur_input_msg.reshape(-1, cur_input_msg.shape[-1])\n",
    "        cur_input_algo = cur_input_algo.reshape(-1, cur_input_algo.shape[-1])\n",
    "        cur_msg_concat = jnp.concatenate((cur_msgs, cur_input_msg, cur_input_algo), axis=-1)\n",
    "        \n",
    "        N = cur_msg_concat.shape[0]\n",
    "        max_element_mask = jnp.max(jnp.abs(cur_msgs), axis=1) > threshold_max_elem\n",
    "        print(\"Thresholding:\", jnp.sum(max_element_mask), \"of\", N)\n",
    "        cur_msg_concat = cur_msg_concat[max_element_mask]\n",
    "\n",
    "        if criteria is not None:\n",
    "            crit_mask = criteria(cur_msg_concat)\n",
    "            print(\"Criteria thresholding:\", jnp.sum(crit_mask), \"of\", N)\n",
    "            cur_msg_concat = cur_msg_concat[crit_mask]\n",
    "\n",
    "        # sampled_rate = jnp.sum(max_element_mask) / cur_msg_concat.shape[0]\n",
    "        # new_sample_prob = max(1., sample_prob / sampled_rate)\n",
    "        # print(\"New sample prob:\", new_sample_prob)\n",
    "\n",
    "        new_rng_key, rng_key = jax.random.split(rng_key)\n",
    "        mask = jax.random.choice(new_rng_key,\n",
    "                                 a=jnp.array([False, True]),\n",
    "                                 shape=(cur_msg_concat.shape[0],),\n",
    "                                 p=jnp.array([1 - sample_prob, sample_prob]),\n",
    "                                 replace=True,)\n",
    "        cur_msg_concat = cur_msg_concat[mask]\n",
    "        print(\"Random sampling:\", cur_msg_concat.shape[0], \"of\", N)\n",
    "        \n",
    "        msgs.append(cur_msg_concat)\n",
    "        processed_samples += batch_size\n",
    "    msgs = _concat(msgs, axis=0)\n",
    "    \n",
    "    return msgs\n"
   ]
  },
  {
   "cell_type": "code",
   "execution_count": 35,
   "id": "189e76f0",
   "metadata": {},
   "outputs": [
    {
     "name": "stdout",
     "output_type": "stream",
     "text": [
      "(32, 6, 64, 64, 32) 32 512 13\n",
      "Thresholding: 36480 of 786432\n",
      "Criteria thresholding: 160 of 786432\n",
      "Random sampling: 160 of 786432\n",
      "(32, 6, 64, 64, 32) 32 512 13\n",
      "Thresholding: 36480 of 786432\n",
      "Criteria thresholding: 160 of 786432\n",
      "Random sampling: 160 of 786432\n",
      "(32, 6, 64, 64, 32) 32 512 13\n",
      "Thresholding: 36480 of 786432\n",
      "Criteria thresholding: 160 of 786432\n",
      "Random sampling: 160 of 786432\n",
      "(32, 6, 64, 64, 32) 32 512 13\n",
      "Thresholding: 36480 of 786432\n",
      "Criteria thresholding: 160 of 786432\n",
      "Random sampling: 160 of 786432\n",
      "(32, 6, 64, 64, 32) 32 512 13\n",
      "Thresholding: 36480 of 786432\n",
      "Criteria thresholding: 160 of 786432\n",
      "Random sampling: 160 of 786432\n",
      "(32, 6, 64, 64, 32) 32 512 13\n",
      "Thresholding: 36480 of 786432\n",
      "Criteria thresholding: 160 of 786432\n",
      "Random sampling: 160 of 786432\n",
      "(32, 6, 64, 64, 32) 32 512 13\n",
      "Thresholding: 36480 of 786432\n",
      "Criteria thresholding: 160 of 786432\n",
      "Random sampling: 160 of 786432\n",
      "(32, 6, 64, 64, 32) 32 512 13\n",
      "Thresholding: 36480 of 786432\n",
      "Criteria thresholding: 160 of 786432\n",
      "Random sampling: 160 of 786432\n",
      "(32, 6, 64, 64, 32) 32 512 13\n",
      "Thresholding: 36480 of 786432\n",
      "Criteria thresholding: 160 of 786432\n",
      "Random sampling: 160 of 786432\n",
      "(32, 6, 64, 64, 32) 32 512 13\n",
      "Thresholding: 36480 of 786432\n",
      "Criteria thresholding: 160 of 786432\n",
      "Random sampling: 160 of 786432\n",
      "(32, 6, 64, 64, 32) 32 512 13\n",
      "Thresholding: 36480 of 786432\n",
      "Criteria thresholding: 160 of 786432\n",
      "Random sampling: 160 of 786432\n",
      "(32, 6, 64, 64, 32) 32 512 13\n",
      "Thresholding: 36480 of 786432\n",
      "Criteria thresholding: 160 of 786432\n",
      "Random sampling: 160 of 786432\n",
      "(32, 6, 64, 64, 32) 32 512 13\n",
      "Thresholding: 36480 of 786432\n",
      "Criteria thresholding: 160 of 786432\n",
      "Random sampling: 160 of 786432\n",
      "(32, 6, 64, 64, 32) 32 512 13\n",
      "Thresholding: 36480 of 786432\n",
      "Criteria thresholding: 160 of 786432\n",
      "Random sampling: 160 of 786432\n",
      "(32, 6, 64, 64, 32) 32 512 13\n",
      "Thresholding: 36480 of 786432\n",
      "Criteria thresholding: 160 of 786432\n",
      "Random sampling: 160 of 786432\n",
      "(32, 6, 64, 64, 32) 32 512 13\n",
      "Thresholding: 36480 of 786432\n",
      "Criteria thresholding: 160 of 786432\n",
      "Random sampling: 160 of 786432\n"
     ]
    },
    {
     "data": {
      "text/plain": [
       "(2560, 557)"
      ]
     },
     "execution_count": 35,
     "metadata": {},
     "output_type": "execute_result"
    }
   ],
   "source": [
    "new_rng_key, rng_key = jax.random.split(rng_key)\n",
    "batched_msgs = get_msgs(\n",
    "    test_samplers[0],\n",
    "    functools.partial(eval_model.predict, algorithm_index=0),\n",
    "#     test_sample_counts[0],  # EXPLODING MEMORY LOL\n",
    "    4*32*4,\n",
    "    new_rng_key,\n",
    "    # For binary search: mid1 == 1 or mid2 == 1\n",
    "    # criteria=lambda x: jnp.bitwise_or(x[:, -1] == 1, x[:, -2] == 1),\n",
    "    criteria=None,\n",
    "    sample_prob=1)\n",
    "\n",
    "batched_msgs.shape"
   ]
  },
  {
   "cell_type": "code",
   "execution_count": 36,
   "id": "a54a1ce7",
   "metadata": {},
   "outputs": [
    {
     "data": {
      "text/plain": [
       "Array(0, dtype=int32)"
      ]
     },
     "execution_count": 36,
     "metadata": {},
     "output_type": "execute_result"
    }
   ],
   "source": [
    "jnp.sum(jnp.linalg.norm(batched_msgs[:,:32],axis=1) < 0.01)"
   ]
  },
  {
   "cell_type": "code",
   "execution_count": 37,
   "id": "7200bf49",
   "metadata": {},
   "outputs": [
    {
     "data": {
      "text/plain": [
       "Array(0, dtype=int32)"
      ]
     },
     "execution_count": 37,
     "metadata": {},
     "output_type": "execute_result"
    }
   ],
   "source": [
    "jnp.sum(jnp.max(jnp.abs(batched_msgs[:,:32]),axis=1) < 0.001)"
   ]
  },
  {
   "cell_type": "code",
   "execution_count": 38,
   "id": "d39b3e2a",
   "metadata": {},
   "outputs": [
    {
     "data": {
      "text/plain": [
       "(array([-1.1427681e-02, -6.9043431e-03,  1.0950313e-02, -1.7622914e-02,\n",
       "        -7.2214864e-03,  7.4195629e-03, -9.0660769e-03, -2.2935495e-04,\n",
       "         1.1277116e-02,  7.2142845e-03, -9.2625804e-03, -4.6264245e-03,\n",
       "        -1.4988591e-02, -1.6458780e-02,  1.4561387e-03, -1.1122748e-02,\n",
       "        -1.0959090e-02, -2.3620464e-03,  4.6951417e-03, -2.7062375e-02,\n",
       "        -3.4295040e-01,  3.3406452e-03,  8.4546497e-03, -1.3019940e-01,\n",
       "         8.1900470e-03,  1.5952142e-01,  7.4994317e-03,  6.7602349e-03,\n",
       "        -4.2714085e-03,  5.4819025e-03,  5.8780797e-02, -7.9018530e-05],\n",
       "       dtype=float32),\n",
       " array([ 0.01402315,  0.03455197,  0.01906521,  0.13376844, -0.00411781,\n",
       "         0.0136838 ,  0.01485939, -0.00850431,  0.02986978, -0.02117709,\n",
       "        -0.00183298, -0.00269451, -0.00050189, -0.00211219,  0.00958402,\n",
       "        -0.01133226,  0.01716904, -0.0095166 , -0.00818982,  0.01022355,\n",
       "        -0.3043871 ,  0.03021964,  0.03728924, -0.15847662,  0.03376411,\n",
       "        -0.01637655, -0.00363081,  0.03146169,  0.0055191 ,  0.11040197,\n",
       "        -0.02711662,  0.02345511], dtype=float32),\n",
       " array([-0.0084549 , -0.0109369 ,  0.0169327 ,  0.09354164, -0.00812445,\n",
       "         0.01417925, -0.01197023,  0.00057821,  0.0049409 ,  0.00740261,\n",
       "        -0.01399139, -0.00924643, -0.01537395, -0.03158695, -0.00344861,\n",
       "        -0.00238359, -0.00949434, -0.01197463,  0.00469383, -0.01518235,\n",
       "        -0.43870223,  0.01179143,  0.01887312, -0.17603949,  0.0126244 ,\n",
       "         0.125765  ,  0.00432117,  0.01681622, -0.00301427,  0.11819398,\n",
       "         0.03842208,  0.00650805], dtype=float32))"
      ]
     },
     "execution_count": 38,
     "metadata": {},
     "output_type": "execute_result"
    }
   ],
   "source": [
    "batched_msgs[0][:32], batched_msgs[1][:32], batched_msgs[2][:32]"
   ]
  },
  {
   "cell_type": "code",
   "execution_count": 39,
   "id": "1bec654a",
   "metadata": {},
   "outputs": [],
   "source": [
    "file_name = 'binary_search_val_msgs.pkl'\n",
    "with open(file_name, 'wb') as f:\n",
    "    pickle.dump(batched_msgs, f)"
   ]
  },
  {
   "cell_type": "code",
   "execution_count": 40,
   "id": "4e9a3dff",
   "metadata": {},
   "outputs": [
    {
     "data": {
      "text/plain": [
       "5703808"
      ]
     },
     "execution_count": 40,
     "metadata": {},
     "output_type": "execute_result"
    }
   ],
   "source": [
    "import sys\n",
    "sys.getsizeof(batched_msgs)"
   ]
  },
  {
   "cell_type": "code",
   "execution_count": 41,
   "id": "c29ad849",
   "metadata": {},
   "outputs": [
    {
     "data": {
      "text/plain": [
       "2048"
      ]
     },
     "execution_count": 41,
     "metadata": {},
     "output_type": "execute_result"
    }
   ],
   "source": [
    "test_sample_counts[0]"
   ]
  },
  {
   "cell_type": "code",
   "execution_count": 42,
   "id": "3cbf7089",
   "metadata": {},
   "outputs": [
    {
     "data": {
      "text/plain": [
       "5.703808"
      ]
     },
     "execution_count": 42,
     "metadata": {},
     "output_type": "execute_result"
    }
   ],
   "source": [
    "sys.getsizeof(batched_msgs) / 1000000"
   ]
  }
 ],
 "metadata": {
  "kernelspec": {
   "display_name": "Python 3.8.16 ('pysr')",
   "language": "python",
   "name": "python3"
  },
  "language_info": {
   "codemirror_mode": {
    "name": "ipython",
    "version": 3
   },
   "file_extension": ".py",
   "mimetype": "text/x-python",
   "name": "python",
   "nbconvert_exporter": "python",
   "pygments_lexer": "ipython3",
   "version": "3.8.16"
  },
  "vscode": {
   "interpreter": {
    "hash": "36b0488005d1a76292731de31d3f8eec57be1775967151d475554d081124d99a"
   }
  }
 },
 "nbformat": 4,
 "nbformat_minor": 5
}
