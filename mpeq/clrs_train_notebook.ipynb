{
 "cells": [
  {
   "cell_type": "markdown",
   "id": "f3acdd8b",
   "metadata": {},
   "source": [
    "# Run training of CLRS algorithm\n",
    "\n",
    "Copied main function from clrs_train.py. Helper functions are located in clrs_train_funcs.py"
   ]
  },
  {
   "cell_type": "code",
   "execution_count": 1,
   "id": "9b11198c",
   "metadata": {},
   "outputs": [
    {
     "name": "stderr",
     "output_type": "stream",
     "text": [
      "2023-03-26 17:33:52.114162: W tensorflow/compiler/xla/stream_executor/platform/default/dso_loader.cc:64] Could not load dynamic library 'libnvinfer.so.7'; dlerror: libnvinfer.so.7: cannot open shared object file: No such file or directory; LD_LIBRARY_PATH: /usr/local/cuda/lib64:\n",
      "2023-03-26 17:33:52.114256: W tensorflow/compiler/xla/stream_executor/platform/default/dso_loader.cc:64] Could not load dynamic library 'libnvinfer_plugin.so.7'; dlerror: libnvinfer_plugin.so.7: cannot open shared object file: No such file or directory; LD_LIBRARY_PATH: /usr/local/cuda/lib64:\n",
      "2023-03-26 17:33:52.114262: W tensorflow/compiler/tf2tensorrt/utils/py_utils.cc:38] TF-TRT Warning: Cannot dlopen some TensorRT libraries. If you would like to use Nvidia GPU with TensorRT, please make sure the missing libraries mentioned above are installed properly.\n"
     ]
    }
   ],
   "source": [
    "import functools\n",
    "import os\n",
    "import shutil\n",
    "from typing import Any, Dict, List\n",
    "\n",
    "import logging\n",
    "import clrs\n",
    "import jax\n",
    "import jax.numpy as jnp\n",
    "import numpy as np\n",
    "import requests\n",
    "import tensorflow as tf\n",
    "import haiku as hk\n",
    "\n",
    "import model\n",
    "\n",
    "import flags\n",
    "from clrs_train_funcs import *"
   ]
  },
  {
   "cell_type": "code",
   "execution_count": 2,
   "id": "27a69895",
   "metadata": {},
   "outputs": [
    {
     "name": "stdout",
     "output_type": "stream",
     "text": [
      "Sun Mar 26 17:33:53 2023       \n",
      "+-----------------------------------------------------------------------------+\n",
      "| NVIDIA-SMI 525.65       Driver Version: 527.56       CUDA Version: 12.0     |\n",
      "|-------------------------------+----------------------+----------------------+\n",
      "| GPU  Name        Persistence-M| Bus-Id        Disp.A | Volatile Uncorr. ECC |\n",
      "| Fan  Temp  Perf  Pwr:Usage/Cap|         Memory-Usage | GPU-Util  Compute M. |\n",
      "|                               |                      |               MIG M. |\n",
      "|===============================+======================+======================|\n",
      "|   0  NVIDIA GeForce ...  On   | 00000000:01:00.0 Off |                  N/A |\n",
      "| N/A   39C    P8    14W / 137W |      0MiB /  8192MiB |      0%      Default |\n",
      "|                               |                      |                  N/A |\n",
      "+-------------------------------+----------------------+----------------------+\n",
      "                                                                               \n",
      "+-----------------------------------------------------------------------------+\n",
      "| Processes:                                                                  |\n",
      "|  GPU   GI   CI        PID   Type   Process name                  GPU Memory |\n",
      "|        ID   ID                                                   Usage      |\n",
      "|=============================================================================|\n",
      "|    0   N/A  N/A      4807      G   /Xwayland                       N/A      |\n",
      "+-----------------------------------------------------------------------------+\n"
     ]
    }
   ],
   "source": [
    "!nvidia-smi"
   ]
  },
  {
   "cell_type": "code",
   "execution_count": 3,
   "id": "771141dd",
   "metadata": {},
   "outputs": [],
   "source": [
    "FLAGS = flags.FLAGS"
   ]
  },
  {
   "cell_type": "code",
   "execution_count": 4,
   "id": "fa63cee8",
   "metadata": {},
   "outputs": [],
   "source": [
    "logger = logging.getLogger()\n",
    "logger.setLevel(logging.INFO)\n",
    "\n",
    "formatter = logging.Formatter('%(asctime)s - %(name)s - %(levelname)s - %(message)s')\n",
    "ch = logging.StreamHandler()\n",
    "ch.setFormatter(formatter)\n",
    "logger.addHandler(ch)"
   ]
  },
  {
   "cell_type": "code",
   "execution_count": 5,
   "id": "b412628f",
   "metadata": {},
   "outputs": [
    {
     "name": "stderr",
     "output_type": "stream",
     "text": [
      "2023-03-26 17:33:54,113 - jax._src.lib.xla_bridge - INFO - Unable to initialize backend 'tpu_driver': NOT_FOUND: Unable to find driver in registry given worker: \n",
      "2023-03-26 17:33:54,652 - jax._src.lib.xla_bridge - INFO - Unable to initialize backend 'rocm': NOT_FOUND: Could not find registered platform with name: \"rocm\". Available platform names are: Interpreter Host CUDA\n",
      "2023-03-26 17:33:54,654 - jax._src.lib.xla_bridge - INFO - Unable to initialize backend 'tpu': module 'jaxlib.xla_extension' has no attribute 'get_tpu_client'\n",
      "2023-03-26 17:33:54,655 - jax._src.lib.xla_bridge - INFO - Unable to initialize backend 'plugin': xla_extension has no attributes named get_plugin_device_client. Compile TensorFlow with //tensorflow/compiler/xla/python:enable_plugin_device set to true (defaults to false) to enable this.\n"
     ]
    }
   ],
   "source": [
    "if FLAGS.hint_mode == 'encoded_decoded':\n",
    "    encode_hints = True\n",
    "    decode_hints = True\n",
    "elif FLAGS.hint_mode == 'decoded_only':\n",
    "    encode_hints = False\n",
    "    decode_hints = True\n",
    "elif FLAGS.hint_mode == 'none':\n",
    "    encode_hints = False\n",
    "    decode_hints = False\n",
    "else:\n",
    "    raise ValueError(\n",
    "        'Hint mode not in {encoded_decoded, decoded_only, none}.')\n",
    "\n",
    "train_lengths = [int(x) for x in FLAGS.train_lengths]\n",
    "\n",
    "rng = np.random.RandomState(FLAGS.seed)\n",
    "rng_key = jax.random.PRNGKey(rng.randint(2**32))"
   ]
  },
  {
   "cell_type": "code",
   "execution_count": 6,
   "id": "a79e1217",
   "metadata": {},
   "outputs": [
    {
     "name": "stderr",
     "output_type": "stream",
     "text": [
      "2023-03-26 17:33:55.197714: W tensorflow/compiler/xla/stream_executor/platform/default/dso_loader.cc:64] Could not load dynamic library 'libcudnn.so.8'; dlerror: libcudnn.so.8: cannot open shared object file: No such file or directory; LD_LIBRARY_PATH: /usr/local/cuda/lib64:\n",
      "2023-03-26 17:33:55.197766: W tensorflow/core/common_runtime/gpu/gpu_device.cc:1934] Cannot dlopen some GPU libraries. Please make sure the missing libraries mentioned above are installed properly if you would like to use GPU. Follow the guide at https://www.tensorflow.org/install/gpu for how to download and setup the required libraries for your platform.\n",
      "Skipping registering GPU devices...\n",
      "2023-03-26 17:33:55,204 - root - INFO - Creating samplers for algo binary_search\n",
      "2023-03-26 17:33:55,205 - absl - WARNING - Ignoring kwargs {'length_needle', 'p'} when building sampler class <class 'clrs._src.samplers.SearchSampler'>\n",
      "2023-03-26 17:33:55,207 - absl - WARNING - Sampling dataset on-the-fly, unlimited samples.\n",
      "2023-03-26 17:33:55,374 - absl - WARNING - Ignoring kwargs {'length_needle', 'p'} when building sampler class <class 'clrs._src.samplers.SearchSampler'>\n",
      "2023-03-26 17:33:55,375 - absl - WARNING - Sampling dataset on-the-fly, unlimited samples.\n",
      "2023-03-26 17:33:55,544 - absl - WARNING - Ignoring kwargs {'length_needle', 'p'} when building sampler class <class 'clrs._src.samplers.SearchSampler'>\n",
      "2023-03-26 17:33:55,545 - absl - WARNING - Sampling dataset on-the-fly, unlimited samples.\n"
     ]
    },
    {
     "name": "stdout",
     "output_type": "stream",
     "text": [
      "Not! using randomized pos for split train\n",
      "Not! using randomized pos for split train\n"
     ]
    },
    {
     "name": "stderr",
     "output_type": "stream",
     "text": [
      "2023-03-26 17:33:55,722 - absl - WARNING - Ignoring kwargs {'length_needle', 'p'} when building sampler class <class 'clrs._src.samplers.SearchSampler'>\n",
      "2023-03-26 17:33:55,723 - absl - WARNING - Sampling dataset on-the-fly, unlimited samples.\n",
      "2023-03-26 17:33:55,900 - absl - WARNING - Ignoring kwargs {'length_needle', 'p'} when building sampler class <class 'clrs._src.samplers.SearchSampler'>\n",
      "2023-03-26 17:33:55,901 - absl - WARNING - Sampling dataset on-the-fly, unlimited samples.\n"
     ]
    },
    {
     "name": "stdout",
     "output_type": "stream",
     "text": [
      "Not! using randomized pos for split train\n",
      "Not! using randomized pos for split train\n"
     ]
    },
    {
     "name": "stderr",
     "output_type": "stream",
     "text": [
      "2023-03-26 17:33:56,097 - absl - WARNING - Ignoring kwargs {'length_needle', 'p'} when building sampler class <class 'clrs._src.samplers.SearchSampler'>\n",
      "2023-03-26 17:33:56,098 - absl - INFO - Creating a dataset with 4096 samples.\n"
     ]
    },
    {
     "name": "stdout",
     "output_type": "stream",
     "text": [
      "Not! using randomized pos for split train\n"
     ]
    },
    {
     "name": "stderr",
     "output_type": "stream",
     "text": [
      "2023-03-26 17:33:56,489 - absl - INFO - 1000 samples created\n",
      "2023-03-26 17:33:56,712 - absl - INFO - 2000 samples created\n",
      "2023-03-26 17:33:56,979 - absl - INFO - 3000 samples created\n",
      "2023-03-26 17:33:57,226 - absl - INFO - 4000 samples created\n",
      "2023-03-26 17:33:57,379 - root - INFO - Dataset found at /tmp/CLRS30/CLRS30_v1.0.0. Skipping download.\n",
      "2023-03-26 17:33:57,383 - absl - INFO - Load dataset info from /tmp/CLRS30/CLRS30_v1.0.0/clrs_dataset/binary_search_test/1.0.0\n",
      "2023-03-26 17:33:57,386 - absl - INFO - Load dataset info from /tmp/CLRS30/CLRS30_v1.0.0/clrs_dataset/binary_search_test/1.0.0\n",
      "2023-03-26 17:33:57,388 - absl - INFO - Reusing dataset clrs_dataset (/tmp/CLRS30/CLRS30_v1.0.0/clrs_dataset/binary_search_test/1.0.0)\n",
      "2023-03-26 17:33:57,389 - absl - INFO - Constructing tf.data.Dataset clrs_dataset for split test, from /tmp/CLRS30/CLRS30_v1.0.0/clrs_dataset/binary_search_test/1.0.0\n"
     ]
    },
    {
     "name": "stdout",
     "output_type": "stream",
     "text": [
      "Not! using randomized pos for split val\n",
      "WARNING:tensorflow:From /home/kausta/miniconda3/envs/pysr/lib/python3.8/site-packages/tensorflow/python/autograph/pyct/static_analysis/liveness.py:83: Analyzer.lamba_check (from tensorflow.python.autograph.pyct.static_analysis.liveness) is deprecated and will be removed after 2023-09-23.\n",
      "Instructions for updating:\n",
      "Lambda fuctions will be no more assumed to be used in the statement where they are used, or at least in the same block. https://github.com/tensorflow/tensorflow/issues/56089\n"
     ]
    },
    {
     "name": "stderr",
     "output_type": "stream",
     "text": [
      "2023-03-26 17:33:57,479 - tensorflow - WARNING - From /home/kausta/miniconda3/envs/pysr/lib/python3.8/site-packages/tensorflow/python/autograph/pyct/static_analysis/liveness.py:83: Analyzer.lamba_check (from tensorflow.python.autograph.pyct.static_analysis.liveness) is deprecated and will be removed after 2023-09-23.\n",
      "Instructions for updating:\n",
      "Lambda fuctions will be no more assumed to be used in the statement where they are used, or at least in the same block. https://github.com/tensorflow/tensorflow/issues/56089\n"
     ]
    },
    {
     "name": "stdout",
     "output_type": "stream",
     "text": [
      "Not! using randomized pos for split test\n"
     ]
    }
   ],
   "source": [
    "FLAGS.random_pos = False\n",
    "# FLAGS.algorithms = [\"insertion_sort\"]\n",
    "\n",
    "# Create samplers\n",
    "(train_samplers,\n",
    " val_samplers, val_sample_counts,\n",
    " test_samplers, test_sample_counts,\n",
    " spec_list) = create_samplers(rng, train_lengths)"
   ]
  },
  {
   "cell_type": "code",
   "execution_count": 7,
   "id": "e70415b1",
   "metadata": {},
   "outputs": [],
   "source": [
    "FLAGS.hidden_size = 128 # 32\n",
    "FLAGS.msg_size = 32 # 32\n",
    "\n",
    "FLAGS.train_steps = 10000 # 1000\n",
    "FLAGS.eval_every = 50\n",
    "FLAGS.test_every = 500\n",
    "\n",
    "FLAGS.l1_weight = 0.01 # 0.001 \n",
    "\n",
    "# l1_weight_fn_mult_start = 1\n",
    "# l1_weight_fn_mult_end = 10\n",
    "# l1_weight_fn = lambda step: FLAGS.l1_weight * (l1_weight_fn_mult_start + step / FLAGS.train_steps * (l1_weight_fn_mult_end - l1_weight_fn_mult_start))\n",
    "\n",
    "l1_weight_fn = lambda step: FLAGS.l1_weight"
   ]
  },
  {
   "cell_type": "code",
   "execution_count": 8,
   "id": "3d6249f2",
   "metadata": {},
   "outputs": [],
   "source": [
    "# FLAGS.hidden_size = 8\n",
    "# FLAGS.algorithms = ['dijkstra']"
   ]
  },
  {
   "cell_type": "code",
   "execution_count": 9,
   "id": "b3080605",
   "metadata": {},
   "outputs": [],
   "source": [
    "processor_factory = model.get_processor_factory(\n",
    "    FLAGS.processor_type,\n",
    "    use_ln=FLAGS.use_ln,\n",
    "    nb_triplet_fts=FLAGS.nb_triplet_fts,\n",
    "    nb_heads=FLAGS.nb_heads\n",
    ")\n",
    "model_params = dict(\n",
    "    processor_factory=processor_factory,\n",
    "    hidden_dim=FLAGS.hidden_size,\n",
    "    msg_dim=FLAGS.msg_size,\n",
    "    encode_hints=encode_hints,\n",
    "    decode_hints=decode_hints,\n",
    "    encoder_init=FLAGS.encoder_init,\n",
    "    use_lstm=FLAGS.use_lstm,\n",
    "    learning_rate=FLAGS.learning_rate,\n",
    "    grad_clip_max_norm=FLAGS.grad_clip_max_norm,\n",
    "    checkpoint_path=FLAGS.checkpoint_path,\n",
    "    freeze_processor=FLAGS.freeze_processor,\n",
    "    dropout_prob=FLAGS.dropout_prob,\n",
    "    hint_teacher_forcing=FLAGS.hint_teacher_forcing,\n",
    "    hint_repred_mode=FLAGS.hint_repred_mode,\n",
    "    nb_msg_passing_steps=FLAGS.nb_msg_passing_steps,\n",
    "    l1_weight=FLAGS.l1_weight\n",
    ")\n",
    "\n",
    "eval_model = model.BaselineMsgModel(\n",
    "    spec=spec_list,\n",
    "    dummy_trajectory=[next(t) for t in val_samplers],\n",
    "    **model_params\n",
    ")\n",
    "# # we will never used chunked training\n",
    "# if FLAGS.chunked_training:\n",
    "#     train_model = clrs.models.BaselineModelChunked(\n",
    "#         spec=spec_list,\n",
    "#         dummy_trajectory=[next(t) for t in train_samplers],\n",
    "#         **model_params\n",
    "#     )\n",
    "# else:\n",
    "#     train_model = eval_model\n",
    "train_model = eval_model"
   ]
  },
  {
   "cell_type": "code",
   "execution_count": 10,
   "id": "6738fd62",
   "metadata": {},
   "outputs": [
    {
     "name": "stderr",
     "output_type": "stream",
     "text": [
      "2023-03-26 17:34:15,698 - root - INFO - Algo binary_search step 0 current loss 7.195256, current_train_items 32, l1_weight 0.010000.\n",
      "2023-03-26 17:34:17,286 - root - INFO - (val) algo binary_search step 0: {'return': 0.12744140625, 'score': 0.12744140625, 'examples_seen': 32, 'step': 0, 'algorithm': 'binary_search'}\n",
      "2023-03-26 17:34:17,287 - root - INFO - Checkpointing best model, best avg val score was -1.000, current avg val score is 0.127, val scores are: binary_search: 0.127\n",
      "2023-03-26 17:34:49,102 - root - INFO - Algo binary_search step 50 current loss 3.330053, current_train_items 1632, l1_weight 0.010000.\n",
      "2023-03-26 17:34:49,576 - root - INFO - (val) algo binary_search step 50: {'return': 0.51220703125, 'score': 0.51220703125, 'examples_seen': 1632, 'step': 50, 'algorithm': 'binary_search'}\n",
      "2023-03-26 17:34:49,577 - root - INFO - Checkpointing best model, best avg val score was 0.127, current avg val score is 0.512, val scores are: binary_search: 0.512\n",
      "2023-03-26 17:34:50,425 - root - INFO - Algo binary_search step 100 current loss 1.936730, current_train_items 3232, l1_weight 0.010000.\n",
      "2023-03-26 17:34:51,015 - root - INFO - (val) algo binary_search step 100: {'return': 0.53076171875, 'score': 0.53076171875, 'examples_seen': 3232, 'step': 100, 'algorithm': 'binary_search'}\n",
      "2023-03-26 17:34:51,015 - root - INFO - Checkpointing best model, best avg val score was 0.512, current avg val score is 0.531, val scores are: binary_search: 0.531\n",
      "2023-03-26 17:34:51,928 - root - INFO - Algo binary_search step 150 current loss 1.355065, current_train_items 4832, l1_weight 0.010000.\n",
      "2023-03-26 17:34:52,500 - root - INFO - (val) algo binary_search step 150: {'return': 0.82763671875, 'score': 0.82763671875, 'examples_seen': 4832, 'step': 150, 'algorithm': 'binary_search'}\n",
      "2023-03-26 17:34:52,501 - root - INFO - Checkpointing best model, best avg val score was 0.531, current avg val score is 0.828, val scores are: binary_search: 0.828\n",
      "2023-03-26 17:34:53,364 - root - INFO - Algo binary_search step 200 current loss 1.488269, current_train_items 6432, l1_weight 0.010000.\n",
      "2023-03-26 17:34:53,954 - root - INFO - (val) algo binary_search step 200: {'return': 0.66796875, 'score': 0.66796875, 'examples_seen': 6432, 'step': 200, 'algorithm': 'binary_search'}\n",
      "2023-03-26 17:34:53,955 - root - INFO - Not saving new best model, best avg val score was 0.828, current avg val score is 0.668, val scores are: binary_search: 0.668\n",
      "2023-03-26 17:34:54,779 - root - INFO - Algo binary_search step 250 current loss 1.572195, current_train_items 8032, l1_weight 0.010000.\n",
      "2023-03-26 17:34:55,343 - root - INFO - (val) algo binary_search step 250: {'return': 0.63623046875, 'score': 0.63623046875, 'examples_seen': 8032, 'step': 250, 'algorithm': 'binary_search'}\n",
      "2023-03-26 17:34:55,343 - root - INFO - Not saving new best model, best avg val score was 0.828, current avg val score is 0.636, val scores are: binary_search: 0.636\n",
      "2023-03-26 17:34:56,118 - root - INFO - Algo binary_search step 300 current loss 0.921031, current_train_items 9632, l1_weight 0.010000.\n",
      "2023-03-26 17:34:56,619 - root - INFO - (val) algo binary_search step 300: {'return': 0.8251953125, 'score': 0.8251953125, 'examples_seen': 9632, 'step': 300, 'algorithm': 'binary_search'}\n",
      "2023-03-26 17:34:56,619 - root - INFO - Not saving new best model, best avg val score was 0.828, current avg val score is 0.825, val scores are: binary_search: 0.825\n",
      "2023-03-26 17:34:57,442 - root - INFO - Algo binary_search step 350 current loss 1.320459, current_train_items 11232, l1_weight 0.010000.\n",
      "2023-03-26 17:34:57,959 - root - INFO - (val) algo binary_search step 350: {'return': 0.886474609375, 'score': 0.886474609375, 'examples_seen': 11232, 'step': 350, 'algorithm': 'binary_search'}\n",
      "2023-03-26 17:34:57,960 - root - INFO - Checkpointing best model, best avg val score was 0.828, current avg val score is 0.886, val scores are: binary_search: 0.886\n",
      "2023-03-26 17:34:58,860 - root - INFO - Algo binary_search step 400 current loss 0.549528, current_train_items 12832, l1_weight 0.010000.\n",
      "2023-03-26 17:34:59,376 - root - INFO - (val) algo binary_search step 400: {'return': 0.68798828125, 'score': 0.68798828125, 'examples_seen': 12832, 'step': 400, 'algorithm': 'binary_search'}\n",
      "2023-03-26 17:34:59,377 - root - INFO - Not saving new best model, best avg val score was 0.886, current avg val score is 0.688, val scores are: binary_search: 0.688\n",
      "2023-03-26 17:35:00,229 - root - INFO - Algo binary_search step 450 current loss 0.760652, current_train_items 14432, l1_weight 0.010000.\n",
      "2023-03-26 17:35:00,749 - root - INFO - (val) algo binary_search step 450: {'return': 0.873779296875, 'score': 0.873779296875, 'examples_seen': 14432, 'step': 450, 'algorithm': 'binary_search'}\n",
      "2023-03-26 17:35:00,749 - root - INFO - Not saving new best model, best avg val score was 0.886, current avg val score is 0.874, val scores are: binary_search: 0.874\n",
      "2023-03-26 17:35:01,551 - root - INFO - Algo binary_search step 500 current loss 0.584637, current_train_items 16032, l1_weight 0.010000.\n",
      "2023-03-26 17:35:02,075 - root - INFO - (val) algo binary_search step 500: {'return': 0.637939453125, 'score': 0.637939453125, 'examples_seen': 16032, 'step': 500, 'algorithm': 'binary_search'}\n",
      "2023-03-26 17:35:02,076 - root - INFO - Not saving new best model, best avg val score was 0.886, current avg val score is 0.638, val scores are: binary_search: 0.638\n",
      "2023-03-26 17:35:02,868 - root - INFO - Algo binary_search step 550 current loss 0.912961, current_train_items 17632, l1_weight 0.010000.\n",
      "2023-03-26 17:35:03,393 - root - INFO - (val) algo binary_search step 550: {'return': 0.856201171875, 'score': 0.856201171875, 'examples_seen': 17632, 'step': 550, 'algorithm': 'binary_search'}\n",
      "2023-03-26 17:35:03,394 - root - INFO - Not saving new best model, best avg val score was 0.886, current avg val score is 0.856, val scores are: binary_search: 0.856\n",
      "2023-03-26 17:35:04,237 - root - INFO - Algo binary_search step 600 current loss 1.643184, current_train_items 19232, l1_weight 0.010000.\n",
      "2023-03-26 17:35:04,770 - root - INFO - (val) algo binary_search step 600: {'return': 0.87353515625, 'score': 0.87353515625, 'examples_seen': 19232, 'step': 600, 'algorithm': 'binary_search'}\n",
      "2023-03-26 17:35:04,771 - root - INFO - Not saving new best model, best avg val score was 0.886, current avg val score is 0.874, val scores are: binary_search: 0.874\n",
      "2023-03-26 17:35:05,636 - root - INFO - Algo binary_search step 650 current loss 1.446785, current_train_items 20832, l1_weight 0.010000.\n",
      "2023-03-26 17:35:06,175 - root - INFO - (val) algo binary_search step 650: {'return': 0.65869140625, 'score': 0.65869140625, 'examples_seen': 20832, 'step': 650, 'algorithm': 'binary_search'}\n",
      "2023-03-26 17:35:06,176 - root - INFO - Not saving new best model, best avg val score was 0.886, current avg val score is 0.659, val scores are: binary_search: 0.659\n",
      "2023-03-26 17:35:07,048 - root - INFO - Algo binary_search step 700 current loss 1.067579, current_train_items 22432, l1_weight 0.010000.\n",
      "2023-03-26 17:35:07,596 - root - INFO - (val) algo binary_search step 700: {'return': 0.793212890625, 'score': 0.793212890625, 'examples_seen': 22432, 'step': 700, 'algorithm': 'binary_search'}\n",
      "2023-03-26 17:35:07,596 - root - INFO - Not saving new best model, best avg val score was 0.886, current avg val score is 0.793, val scores are: binary_search: 0.793\n",
      "2023-03-26 17:35:08,488 - root - INFO - Algo binary_search step 750 current loss 0.685788, current_train_items 24032, l1_weight 0.010000.\n",
      "2023-03-26 17:35:09,035 - root - INFO - (val) algo binary_search step 750: {'return': 0.825927734375, 'score': 0.825927734375, 'examples_seen': 24032, 'step': 750, 'algorithm': 'binary_search'}\n",
      "2023-03-26 17:35:09,036 - root - INFO - Not saving new best model, best avg val score was 0.886, current avg val score is 0.826, val scores are: binary_search: 0.826\n",
      "2023-03-26 17:35:09,850 - root - INFO - Algo binary_search step 800 current loss 0.746364, current_train_items 25632, l1_weight 0.010000.\n",
      "2023-03-26 17:35:10,379 - root - INFO - (val) algo binary_search step 800: {'return': 0.777587890625, 'score': 0.777587890625, 'examples_seen': 25632, 'step': 800, 'algorithm': 'binary_search'}\n",
      "2023-03-26 17:35:10,380 - root - INFO - Not saving new best model, best avg val score was 0.886, current avg val score is 0.778, val scores are: binary_search: 0.778\n",
      "2023-03-26 17:35:11,206 - root - INFO - Algo binary_search step 850 current loss 0.734241, current_train_items 27232, l1_weight 0.010000.\n",
      "2023-03-26 17:35:11,671 - root - INFO - (val) algo binary_search step 850: {'return': 0.80810546875, 'score': 0.80810546875, 'examples_seen': 27232, 'step': 850, 'algorithm': 'binary_search'}\n",
      "2023-03-26 17:35:11,672 - root - INFO - Not saving new best model, best avg val score was 0.886, current avg val score is 0.808, val scores are: binary_search: 0.808\n",
      "2023-03-26 17:35:12,445 - root - INFO - Algo binary_search step 900 current loss 0.791490, current_train_items 28832, l1_weight 0.010000.\n",
      "2023-03-26 17:35:12,986 - root - INFO - (val) algo binary_search step 900: {'return': 0.740234375, 'score': 0.740234375, 'examples_seen': 28832, 'step': 900, 'algorithm': 'binary_search'}\n",
      "2023-03-26 17:35:12,987 - root - INFO - Not saving new best model, best avg val score was 0.886, current avg val score is 0.740, val scores are: binary_search: 0.740\n",
      "2023-03-26 17:35:13,793 - root - INFO - Algo binary_search step 950 current loss 0.324054, current_train_items 30432, l1_weight 0.010000.\n",
      "2023-03-26 17:35:14,452 - root - INFO - (val) algo binary_search step 950: {'return': 0.85400390625, 'score': 0.85400390625, 'examples_seen': 30432, 'step': 950, 'algorithm': 'binary_search'}\n",
      "2023-03-26 17:35:14,453 - root - INFO - Not saving new best model, best avg val score was 0.886, current avg val score is 0.854, val scores are: binary_search: 0.854\n",
      "2023-03-26 17:35:15,349 - root - INFO - Algo binary_search step 1000 current loss 0.434104, current_train_items 32032, l1_weight 0.010000.\n",
      "2023-03-26 17:35:15,953 - root - INFO - (val) algo binary_search step 1000: {'return': 0.853271484375, 'score': 0.853271484375, 'examples_seen': 32032, 'step': 1000, 'algorithm': 'binary_search'}\n",
      "2023-03-26 17:35:15,954 - root - INFO - Not saving new best model, best avg val score was 0.886, current avg val score is 0.853, val scores are: binary_search: 0.853\n",
      "2023-03-26 17:35:16,876 - root - INFO - Algo binary_search step 1050 current loss 1.297986, current_train_items 33632, l1_weight 0.010000.\n",
      "2023-03-26 17:35:17,479 - root - INFO - (val) algo binary_search step 1050: {'return': 0.793212890625, 'score': 0.793212890625, 'examples_seen': 33632, 'step': 1050, 'algorithm': 'binary_search'}\n",
      "2023-03-26 17:35:17,480 - root - INFO - Not saving new best model, best avg val score was 0.886, current avg val score is 0.793, val scores are: binary_search: 0.793\n",
      "2023-03-26 17:35:18,342 - root - INFO - Algo binary_search step 1100 current loss 0.505408, current_train_items 35232, l1_weight 0.010000.\n",
      "2023-03-26 17:35:18,962 - root - INFO - (val) algo binary_search step 1100: {'return': 0.79736328125, 'score': 0.79736328125, 'examples_seen': 35232, 'step': 1100, 'algorithm': 'binary_search'}\n",
      "2023-03-26 17:35:18,963 - root - INFO - Not saving new best model, best avg val score was 0.886, current avg val score is 0.797, val scores are: binary_search: 0.797\n",
      "2023-03-26 17:35:19,857 - root - INFO - Algo binary_search step 1150 current loss 0.369970, current_train_items 36832, l1_weight 0.010000.\n",
      "2023-03-26 17:35:20,508 - root - INFO - (val) algo binary_search step 1150: {'return': 0.919677734375, 'score': 0.919677734375, 'examples_seen': 36832, 'step': 1150, 'algorithm': 'binary_search'}\n",
      "2023-03-26 17:35:20,509 - root - INFO - Checkpointing best model, best avg val score was 0.886, current avg val score is 0.920, val scores are: binary_search: 0.920\n",
      "2023-03-26 17:35:21,367 - root - INFO - Algo binary_search step 1200 current loss 0.877632, current_train_items 38432, l1_weight 0.010000.\n",
      "2023-03-26 17:35:22,023 - root - INFO - (val) algo binary_search step 1200: {'return': 0.83154296875, 'score': 0.83154296875, 'examples_seen': 38432, 'step': 1200, 'algorithm': 'binary_search'}\n",
      "2023-03-26 17:35:22,024 - root - INFO - Not saving new best model, best avg val score was 0.920, current avg val score is 0.832, val scores are: binary_search: 0.832\n",
      "2023-03-26 17:35:22,945 - root - INFO - Algo binary_search step 1250 current loss 0.794717, current_train_items 40032, l1_weight 0.010000.\n",
      "2023-03-26 17:35:23,565 - root - INFO - (val) algo binary_search step 1250: {'return': 0.85400390625, 'score': 0.85400390625, 'examples_seen': 40032, 'step': 1250, 'algorithm': 'binary_search'}\n",
      "2023-03-26 17:35:23,566 - root - INFO - Not saving new best model, best avg val score was 0.920, current avg val score is 0.854, val scores are: binary_search: 0.854\n",
      "2023-03-26 17:35:24,441 - root - INFO - Algo binary_search step 1300 current loss 0.632731, current_train_items 41632, l1_weight 0.010000.\n",
      "2023-03-26 17:35:24,906 - root - INFO - (val) algo binary_search step 1300: {'return': 0.830078125, 'score': 0.830078125, 'examples_seen': 41632, 'step': 1300, 'algorithm': 'binary_search'}\n",
      "2023-03-26 17:35:24,907 - root - INFO - Not saving new best model, best avg val score was 0.920, current avg val score is 0.830, val scores are: binary_search: 0.830\n",
      "2023-03-26 17:35:25,698 - root - INFO - Algo binary_search step 1350 current loss 0.343883, current_train_items 43232, l1_weight 0.010000.\n",
      "2023-03-26 17:35:26,163 - root - INFO - (val) algo binary_search step 1350: {'return': 0.843994140625, 'score': 0.843994140625, 'examples_seen': 43232, 'step': 1350, 'algorithm': 'binary_search'}\n",
      "2023-03-26 17:35:26,164 - root - INFO - Not saving new best model, best avg val score was 0.920, current avg val score is 0.844, val scores are: binary_search: 0.844\n",
      "2023-03-26 17:35:26,932 - root - INFO - Algo binary_search step 1400 current loss 0.640249, current_train_items 44832, l1_weight 0.010000.\n",
      "2023-03-26 17:35:27,555 - root - INFO - (val) algo binary_search step 1400: {'return': 0.894775390625, 'score': 0.894775390625, 'examples_seen': 44832, 'step': 1400, 'algorithm': 'binary_search'}\n",
      "2023-03-26 17:35:27,555 - root - INFO - Not saving new best model, best avg val score was 0.920, current avg val score is 0.895, val scores are: binary_search: 0.895\n",
      "2023-03-26 17:35:28,442 - root - INFO - Algo binary_search step 1450 current loss 0.254287, current_train_items 46432, l1_weight 0.010000.\n",
      "2023-03-26 17:35:28,930 - root - INFO - (val) algo binary_search step 1450: {'return': 0.923583984375, 'score': 0.923583984375, 'examples_seen': 46432, 'step': 1450, 'algorithm': 'binary_search'}\n",
      "2023-03-26 17:35:28,931 - root - INFO - Checkpointing best model, best avg val score was 0.920, current avg val score is 0.924, val scores are: binary_search: 0.924\n",
      "2023-03-26 17:35:29,851 - root - INFO - Algo binary_search step 1500 current loss 1.194902, current_train_items 48032, l1_weight 0.010000.\n",
      "2023-03-26 17:35:30,483 - root - INFO - (val) algo binary_search step 1500: {'return': 0.77685546875, 'score': 0.77685546875, 'examples_seen': 48032, 'step': 1500, 'algorithm': 'binary_search'}\n",
      "2023-03-26 17:35:30,484 - root - INFO - Not saving new best model, best avg val score was 0.924, current avg val score is 0.777, val scores are: binary_search: 0.777\n",
      "2023-03-26 17:35:31,445 - root - INFO - Algo binary_search step 1550 current loss 0.546477, current_train_items 49632, l1_weight 0.010000.\n",
      "2023-03-26 17:35:32,023 - root - INFO - (val) algo binary_search step 1550: {'return': 0.877685546875, 'score': 0.877685546875, 'examples_seen': 49632, 'step': 1550, 'algorithm': 'binary_search'}\n",
      "2023-03-26 17:35:32,024 - root - INFO - Not saving new best model, best avg val score was 0.924, current avg val score is 0.878, val scores are: binary_search: 0.878\n",
      "2023-03-26 17:35:32,867 - root - INFO - Algo binary_search step 1600 current loss 0.360110, current_train_items 51232, l1_weight 0.010000.\n",
      "2023-03-26 17:35:33,470 - root - INFO - (val) algo binary_search step 1600: {'return': 0.89794921875, 'score': 0.89794921875, 'examples_seen': 51232, 'step': 1600, 'algorithm': 'binary_search'}\n",
      "2023-03-26 17:35:33,471 - root - INFO - Not saving new best model, best avg val score was 0.924, current avg val score is 0.898, val scores are: binary_search: 0.898\n",
      "2023-03-26 17:35:34,356 - root - INFO - Algo binary_search step 1650 current loss 0.553945, current_train_items 52832, l1_weight 0.010000.\n",
      "2023-03-26 17:35:34,963 - root - INFO - (val) algo binary_search step 1650: {'return': 0.911376953125, 'score': 0.911376953125, 'examples_seen': 52832, 'step': 1650, 'algorithm': 'binary_search'}\n",
      "2023-03-26 17:35:34,964 - root - INFO - Not saving new best model, best avg val score was 0.924, current avg val score is 0.911, val scores are: binary_search: 0.911\n",
      "2023-03-26 17:35:35,908 - root - INFO - Algo binary_search step 1700 current loss 0.219685, current_train_items 54432, l1_weight 0.010000.\n",
      "2023-03-26 17:35:36,533 - root - INFO - (val) algo binary_search step 1700: {'return': 0.76171875, 'score': 0.76171875, 'examples_seen': 54432, 'step': 1700, 'algorithm': 'binary_search'}\n",
      "2023-03-26 17:35:36,534 - root - INFO - Not saving new best model, best avg val score was 0.924, current avg val score is 0.762, val scores are: binary_search: 0.762\n",
      "2023-03-26 17:35:37,440 - root - INFO - Algo binary_search step 1750 current loss 0.470826, current_train_items 56032, l1_weight 0.010000.\n",
      "2023-03-26 17:35:38,015 - root - INFO - (val) algo binary_search step 1750: {'return': 0.92236328125, 'score': 0.92236328125, 'examples_seen': 56032, 'step': 1750, 'algorithm': 'binary_search'}\n",
      "2023-03-26 17:35:38,016 - root - INFO - Not saving new best model, best avg val score was 0.924, current avg val score is 0.922, val scores are: binary_search: 0.922\n",
      "2023-03-26 17:35:38,930 - root - INFO - Algo binary_search step 1800 current loss 0.440123, current_train_items 57632, l1_weight 0.010000.\n",
      "2023-03-26 17:35:39,551 - root - INFO - (val) algo binary_search step 1800: {'return': 0.858154296875, 'score': 0.858154296875, 'examples_seen': 57632, 'step': 1800, 'algorithm': 'binary_search'}\n",
      "2023-03-26 17:35:39,552 - root - INFO - Not saving new best model, best avg val score was 0.924, current avg val score is 0.858, val scores are: binary_search: 0.858\n",
      "2023-03-26 17:35:40,452 - root - INFO - Algo binary_search step 1850 current loss 0.575288, current_train_items 59232, l1_weight 0.010000.\n",
      "2023-03-26 17:35:41,011 - root - INFO - (val) algo binary_search step 1850: {'return': 0.868408203125, 'score': 0.868408203125, 'examples_seen': 59232, 'step': 1850, 'algorithm': 'binary_search'}\n",
      "2023-03-26 17:35:41,012 - root - INFO - Not saving new best model, best avg val score was 0.924, current avg val score is 0.868, val scores are: binary_search: 0.868\n",
      "2023-03-26 17:35:42,064 - root - INFO - Algo binary_search step 1900 current loss 0.767588, current_train_items 60832, l1_weight 0.010000.\n",
      "2023-03-26 17:35:42,690 - root - INFO - (val) algo binary_search step 1900: {'return': 0.878662109375, 'score': 0.878662109375, 'examples_seen': 60832, 'step': 1900, 'algorithm': 'binary_search'}\n",
      "2023-03-26 17:35:42,691 - root - INFO - Not saving new best model, best avg val score was 0.924, current avg val score is 0.879, val scores are: binary_search: 0.879\n",
      "2023-03-26 17:35:43,702 - root - INFO - Algo binary_search step 1950 current loss 0.708839, current_train_items 62432, l1_weight 0.010000.\n",
      "2023-03-26 17:35:44,321 - root - INFO - (val) algo binary_search step 1950: {'return': 0.896484375, 'score': 0.896484375, 'examples_seen': 62432, 'step': 1950, 'algorithm': 'binary_search'}\n",
      "2023-03-26 17:35:44,322 - root - INFO - Not saving new best model, best avg val score was 0.924, current avg val score is 0.896, val scores are: binary_search: 0.896\n",
      "2023-03-26 17:35:45,297 - root - INFO - Algo binary_search step 2000 current loss 0.834835, current_train_items 64032, l1_weight 0.010000.\n",
      "2023-03-26 17:35:45,920 - root - INFO - (val) algo binary_search step 2000: {'return': 0.85009765625, 'score': 0.85009765625, 'examples_seen': 64032, 'step': 2000, 'algorithm': 'binary_search'}\n",
      "2023-03-26 17:35:45,921 - root - INFO - Not saving new best model, best avg val score was 0.924, current avg val score is 0.850, val scores are: binary_search: 0.850\n",
      "2023-03-26 17:35:46,826 - root - INFO - Algo binary_search step 2050 current loss 0.916912, current_train_items 65632, l1_weight 0.010000.\n",
      "2023-03-26 17:35:47,451 - root - INFO - (val) algo binary_search step 2050: {'return': 0.88525390625, 'score': 0.88525390625, 'examples_seen': 65632, 'step': 2050, 'algorithm': 'binary_search'}\n",
      "2023-03-26 17:35:47,452 - root - INFO - Not saving new best model, best avg val score was 0.924, current avg val score is 0.885, val scores are: binary_search: 0.885\n",
      "2023-03-26 17:35:48,297 - root - INFO - Algo binary_search step 2100 current loss 0.254289, current_train_items 67232, l1_weight 0.010000.\n",
      "2023-03-26 17:35:48,887 - root - INFO - (val) algo binary_search step 2100: {'return': 0.8037109375, 'score': 0.8037109375, 'examples_seen': 67232, 'step': 2100, 'algorithm': 'binary_search'}\n",
      "2023-03-26 17:35:48,887 - root - INFO - Not saving new best model, best avg val score was 0.924, current avg val score is 0.804, val scores are: binary_search: 0.804\n",
      "2023-03-26 17:35:49,844 - root - INFO - Algo binary_search step 2150 current loss 0.904150, current_train_items 68832, l1_weight 0.010000.\n",
      "2023-03-26 17:35:50,391 - root - INFO - (val) algo binary_search step 2150: {'return': 0.92578125, 'score': 0.92578125, 'examples_seen': 68832, 'step': 2150, 'algorithm': 'binary_search'}\n",
      "2023-03-26 17:35:50,392 - root - INFO - Checkpointing best model, best avg val score was 0.924, current avg val score is 0.926, val scores are: binary_search: 0.926\n",
      "2023-03-26 17:35:51,499 - root - INFO - Algo binary_search step 2200 current loss 0.448545, current_train_items 70432, l1_weight 0.010000.\n",
      "2023-03-26 17:35:52,136 - root - INFO - (val) algo binary_search step 2200: {'return': 0.91015625, 'score': 0.91015625, 'examples_seen': 70432, 'step': 2200, 'algorithm': 'binary_search'}\n",
      "2023-03-26 17:35:52,137 - root - INFO - Not saving new best model, best avg val score was 0.926, current avg val score is 0.910, val scores are: binary_search: 0.910\n",
      "2023-03-26 17:35:53,061 - root - INFO - Algo binary_search step 2250 current loss 0.167070, current_train_items 72032, l1_weight 0.010000.\n",
      "2023-03-26 17:35:53,649 - root - INFO - (val) algo binary_search step 2250: {'return': 0.892822265625, 'score': 0.892822265625, 'examples_seen': 72032, 'step': 2250, 'algorithm': 'binary_search'}\n",
      "2023-03-26 17:35:53,650 - root - INFO - Not saving new best model, best avg val score was 0.926, current avg val score is 0.893, val scores are: binary_search: 0.893\n",
      "2023-03-26 17:35:54,462 - root - INFO - Algo binary_search step 2300 current loss 0.312218, current_train_items 73632, l1_weight 0.010000.\n",
      "2023-03-26 17:35:54,898 - root - INFO - (val) algo binary_search step 2300: {'return': 0.923583984375, 'score': 0.923583984375, 'examples_seen': 73632, 'step': 2300, 'algorithm': 'binary_search'}\n",
      "2023-03-26 17:35:54,899 - root - INFO - Not saving new best model, best avg val score was 0.926, current avg val score is 0.924, val scores are: binary_search: 0.924\n",
      "2023-03-26 17:35:55,717 - root - INFO - Algo binary_search step 2350 current loss 1.031208, current_train_items 75232, l1_weight 0.010000.\n",
      "2023-03-26 17:35:56,214 - root - INFO - (val) algo binary_search step 2350: {'return': 0.920166015625, 'score': 0.920166015625, 'examples_seen': 75232, 'step': 2350, 'algorithm': 'binary_search'}\n",
      "2023-03-26 17:35:56,215 - root - INFO - Not saving new best model, best avg val score was 0.926, current avg val score is 0.920, val scores are: binary_search: 0.920\n",
      "2023-03-26 17:35:57,009 - root - INFO - Algo binary_search step 2400 current loss 0.268112, current_train_items 76832, l1_weight 0.010000.\n",
      "2023-03-26 17:35:57,497 - root - INFO - (val) algo binary_search step 2400: {'return': 0.920166015625, 'score': 0.920166015625, 'examples_seen': 76832, 'step': 2400, 'algorithm': 'binary_search'}\n",
      "2023-03-26 17:35:57,499 - root - INFO - Not saving new best model, best avg val score was 0.926, current avg val score is 0.920, val scores are: binary_search: 0.920\n",
      "2023-03-26 17:35:58,350 - root - INFO - Algo binary_search step 2450 current loss 0.155921, current_train_items 78432, l1_weight 0.010000.\n",
      "2023-03-26 17:35:58,775 - root - INFO - (val) algo binary_search step 2450: {'return': 0.76513671875, 'score': 0.76513671875, 'examples_seen': 78432, 'step': 2450, 'algorithm': 'binary_search'}\n",
      "2023-03-26 17:35:58,776 - root - INFO - Not saving new best model, best avg val score was 0.926, current avg val score is 0.765, val scores are: binary_search: 0.765\n",
      "2023-03-26 17:35:59,624 - root - INFO - Algo binary_search step 2500 current loss 0.183932, current_train_items 80032, l1_weight 0.010000.\n",
      "2023-03-26 17:36:00,200 - root - INFO - (val) algo binary_search step 2500: {'return': 0.920654296875, 'score': 0.920654296875, 'examples_seen': 80032, 'step': 2500, 'algorithm': 'binary_search'}\n",
      "2023-03-26 17:36:00,200 - root - INFO - Not saving new best model, best avg val score was 0.926, current avg val score is 0.921, val scores are: binary_search: 0.921\n",
      "2023-03-26 17:36:01,126 - root - INFO - Algo binary_search step 2550 current loss 2.343348, current_train_items 81632, l1_weight 0.010000.\n",
      "2023-03-26 17:36:01,689 - root - INFO - (val) algo binary_search step 2550: {'return': 0.85009765625, 'score': 0.85009765625, 'examples_seen': 81632, 'step': 2550, 'algorithm': 'binary_search'}\n",
      "2023-03-26 17:36:01,690 - root - INFO - Not saving new best model, best avg val score was 0.926, current avg val score is 0.850, val scores are: binary_search: 0.850\n",
      "2023-03-26 17:36:02,608 - root - INFO - Algo binary_search step 2600 current loss 0.476264, current_train_items 83232, l1_weight 0.010000.\n",
      "2023-03-26 17:36:03,175 - root - INFO - (val) algo binary_search step 2600: {'return': 0.816162109375, 'score': 0.816162109375, 'examples_seen': 83232, 'step': 2600, 'algorithm': 'binary_search'}\n",
      "2023-03-26 17:36:03,176 - root - INFO - Not saving new best model, best avg val score was 0.926, current avg val score is 0.816, val scores are: binary_search: 0.816\n",
      "2023-03-26 17:36:04,034 - root - INFO - Algo binary_search step 2650 current loss 0.725468, current_train_items 84832, l1_weight 0.010000.\n",
      "2023-03-26 17:36:04,601 - root - INFO - (val) algo binary_search step 2650: {'return': 0.887939453125, 'score': 0.887939453125, 'examples_seen': 84832, 'step': 2650, 'algorithm': 'binary_search'}\n",
      "2023-03-26 17:36:04,602 - root - INFO - Not saving new best model, best avg val score was 0.926, current avg val score is 0.888, val scores are: binary_search: 0.888\n",
      "2023-03-26 17:36:05,477 - root - INFO - Algo binary_search step 2700 current loss 0.400949, current_train_items 86432, l1_weight 0.010000.\n",
      "2023-03-26 17:36:06,030 - root - INFO - (val) algo binary_search step 2700: {'return': 0.904052734375, 'score': 0.904052734375, 'examples_seen': 86432, 'step': 2700, 'algorithm': 'binary_search'}\n",
      "2023-03-26 17:36:06,031 - root - INFO - Not saving new best model, best avg val score was 0.926, current avg val score is 0.904, val scores are: binary_search: 0.904\n",
      "2023-03-26 17:36:06,849 - root - INFO - Algo binary_search step 2750 current loss 0.458632, current_train_items 88032, l1_weight 0.010000.\n",
      "2023-03-26 17:36:07,400 - root - INFO - (val) algo binary_search step 2750: {'return': 0.9404296875, 'score': 0.9404296875, 'examples_seen': 88032, 'step': 2750, 'algorithm': 'binary_search'}\n",
      "2023-03-26 17:36:07,400 - root - INFO - Checkpointing best model, best avg val score was 0.926, current avg val score is 0.940, val scores are: binary_search: 0.940\n",
      "2023-03-26 17:36:08,237 - root - INFO - Algo binary_search step 2800 current loss 1.121857, current_train_items 89632, l1_weight 0.010000.\n",
      "2023-03-26 17:36:08,675 - root - INFO - (val) algo binary_search step 2800: {'return': 0.787109375, 'score': 0.787109375, 'examples_seen': 89632, 'step': 2800, 'algorithm': 'binary_search'}\n",
      "2023-03-26 17:36:08,675 - root - INFO - Not saving new best model, best avg val score was 0.940, current avg val score is 0.787, val scores are: binary_search: 0.787\n",
      "2023-03-26 17:36:09,485 - root - INFO - Algo binary_search step 2850 current loss 0.156525, current_train_items 91232, l1_weight 0.010000.\n",
      "2023-03-26 17:36:10,129 - root - INFO - (val) algo binary_search step 2850: {'return': 0.928955078125, 'score': 0.928955078125, 'examples_seen': 91232, 'step': 2850, 'algorithm': 'binary_search'}\n",
      "2023-03-26 17:36:10,130 - root - INFO - Not saving new best model, best avg val score was 0.940, current avg val score is 0.929, val scores are: binary_search: 0.929\n",
      "2023-03-26 17:36:11,094 - root - INFO - Algo binary_search step 2900 current loss 0.115641, current_train_items 92832, l1_weight 0.010000.\n",
      "2023-03-26 17:36:11,600 - root - INFO - (val) algo binary_search step 2900: {'return': 0.896240234375, 'score': 0.896240234375, 'examples_seen': 92832, 'step': 2900, 'algorithm': 'binary_search'}\n",
      "2023-03-26 17:36:11,601 - root - INFO - Not saving new best model, best avg val score was 0.940, current avg val score is 0.896, val scores are: binary_search: 0.896\n",
      "2023-03-26 17:36:12,453 - root - INFO - Algo binary_search step 2950 current loss 0.411730, current_train_items 94432, l1_weight 0.010000.\n",
      "2023-03-26 17:36:12,940 - root - INFO - (val) algo binary_search step 2950: {'return': 0.955078125, 'score': 0.955078125, 'examples_seen': 94432, 'step': 2950, 'algorithm': 'binary_search'}\n",
      "2023-03-26 17:36:12,941 - root - INFO - Checkpointing best model, best avg val score was 0.940, current avg val score is 0.955, val scores are: binary_search: 0.955\n",
      "2023-03-26 17:36:13,791 - root - INFO - Algo binary_search step 3000 current loss 0.377346, current_train_items 96032, l1_weight 0.010000.\n",
      "2023-03-26 17:36:14,269 - root - INFO - (val) algo binary_search step 3000: {'return': 0.92578125, 'score': 0.92578125, 'examples_seen': 96032, 'step': 3000, 'algorithm': 'binary_search'}\n",
      "2023-03-26 17:36:14,270 - root - INFO - Not saving new best model, best avg val score was 0.955, current avg val score is 0.926, val scores are: binary_search: 0.926\n",
      "2023-03-26 17:36:15,119 - root - INFO - Algo binary_search step 3050 current loss 0.167750, current_train_items 97632, l1_weight 0.010000.\n",
      "2023-03-26 17:36:15,644 - root - INFO - (val) algo binary_search step 3050: {'return': 0.95947265625, 'score': 0.95947265625, 'examples_seen': 97632, 'step': 3050, 'algorithm': 'binary_search'}\n",
      "2023-03-26 17:36:15,645 - root - INFO - Checkpointing best model, best avg val score was 0.955, current avg val score is 0.959, val scores are: binary_search: 0.959\n",
      "2023-03-26 17:36:16,530 - root - INFO - Algo binary_search step 3100 current loss 0.208232, current_train_items 99232, l1_weight 0.010000.\n",
      "2023-03-26 17:36:17,011 - root - INFO - (val) algo binary_search step 3100: {'return': 0.89208984375, 'score': 0.89208984375, 'examples_seen': 99232, 'step': 3100, 'algorithm': 'binary_search'}\n",
      "2023-03-26 17:36:17,012 - root - INFO - Not saving new best model, best avg val score was 0.959, current avg val score is 0.892, val scores are: binary_search: 0.892\n",
      "2023-03-26 17:36:17,849 - root - INFO - Algo binary_search step 3150 current loss 0.516078, current_train_items 100832, l1_weight 0.010000.\n",
      "2023-03-26 17:36:18,284 - root - INFO - (val) algo binary_search step 3150: {'return': 0.90966796875, 'score': 0.90966796875, 'examples_seen': 100832, 'step': 3150, 'algorithm': 'binary_search'}\n",
      "2023-03-26 17:36:18,285 - root - INFO - Not saving new best model, best avg val score was 0.959, current avg val score is 0.910, val scores are: binary_search: 0.910\n",
      "2023-03-26 17:36:19,082 - root - INFO - Algo binary_search step 3200 current loss 0.110201, current_train_items 102432, l1_weight 0.010000.\n",
      "2023-03-26 17:36:19,528 - root - INFO - (val) algo binary_search step 3200: {'return': 0.87744140625, 'score': 0.87744140625, 'examples_seen': 102432, 'step': 3200, 'algorithm': 'binary_search'}\n",
      "2023-03-26 17:36:19,528 - root - INFO - Not saving new best model, best avg val score was 0.959, current avg val score is 0.877, val scores are: binary_search: 0.877\n",
      "2023-03-26 17:36:20,339 - root - INFO - Algo binary_search step 3250 current loss 0.197662, current_train_items 104032, l1_weight 0.010000.\n",
      "2023-03-26 17:36:20,759 - root - INFO - (val) algo binary_search step 3250: {'return': 0.8994140625, 'score': 0.8994140625, 'examples_seen': 104032, 'step': 3250, 'algorithm': 'binary_search'}\n",
      "2023-03-26 17:36:20,760 - root - INFO - Not saving new best model, best avg val score was 0.959, current avg val score is 0.899, val scores are: binary_search: 0.899\n",
      "2023-03-26 17:36:21,528 - root - INFO - Algo binary_search step 3300 current loss 0.359402, current_train_items 105632, l1_weight 0.010000.\n",
      "2023-03-26 17:36:21,991 - root - INFO - (val) algo binary_search step 3300: {'return': 0.914794921875, 'score': 0.914794921875, 'examples_seen': 105632, 'step': 3300, 'algorithm': 'binary_search'}\n",
      "2023-03-26 17:36:21,992 - root - INFO - Not saving new best model, best avg val score was 0.959, current avg val score is 0.915, val scores are: binary_search: 0.915\n",
      "2023-03-26 17:36:22,799 - root - INFO - Algo binary_search step 3350 current loss 0.257017, current_train_items 107232, l1_weight 0.010000.\n",
      "2023-03-26 17:36:23,220 - root - INFO - (val) algo binary_search step 3350: {'return': 0.909423828125, 'score': 0.909423828125, 'examples_seen': 107232, 'step': 3350, 'algorithm': 'binary_search'}\n",
      "2023-03-26 17:36:23,221 - root - INFO - Not saving new best model, best avg val score was 0.959, current avg val score is 0.909, val scores are: binary_search: 0.909\n",
      "2023-03-26 17:36:24,015 - root - INFO - Algo binary_search step 3400 current loss 0.960548, current_train_items 108832, l1_weight 0.010000.\n",
      "2023-03-26 17:36:24,442 - root - INFO - (val) algo binary_search step 3400: {'return': 0.874755859375, 'score': 0.874755859375, 'examples_seen': 108832, 'step': 3400, 'algorithm': 'binary_search'}\n",
      "2023-03-26 17:36:24,443 - root - INFO - Not saving new best model, best avg val score was 0.959, current avg val score is 0.875, val scores are: binary_search: 0.875\n",
      "2023-03-26 17:36:25,201 - root - INFO - Algo binary_search step 3450 current loss 0.519988, current_train_items 110432, l1_weight 0.010000.\n",
      "2023-03-26 17:36:25,648 - root - INFO - (val) algo binary_search step 3450: {'return': 0.881591796875, 'score': 0.881591796875, 'examples_seen': 110432, 'step': 3450, 'algorithm': 'binary_search'}\n",
      "2023-03-26 17:36:25,649 - root - INFO - Not saving new best model, best avg val score was 0.959, current avg val score is 0.882, val scores are: binary_search: 0.882\n",
      "2023-03-26 17:36:26,496 - root - INFO - Algo binary_search step 3500 current loss 0.434900, current_train_items 112032, l1_weight 0.010000.\n",
      "2023-03-26 17:36:26,925 - root - INFO - (val) algo binary_search step 3500: {'return': 0.893310546875, 'score': 0.893310546875, 'examples_seen': 112032, 'step': 3500, 'algorithm': 'binary_search'}\n",
      "2023-03-26 17:36:26,926 - root - INFO - Not saving new best model, best avg val score was 0.959, current avg val score is 0.893, val scores are: binary_search: 0.893\n",
      "2023-03-26 17:36:27,798 - root - INFO - Algo binary_search step 3550 current loss 0.278781, current_train_items 113632, l1_weight 0.010000.\n",
      "2023-03-26 17:36:28,226 - root - INFO - (val) algo binary_search step 3550: {'return': 0.89404296875, 'score': 0.89404296875, 'examples_seen': 113632, 'step': 3550, 'algorithm': 'binary_search'}\n",
      "2023-03-26 17:36:28,226 - root - INFO - Not saving new best model, best avg val score was 0.959, current avg val score is 0.894, val scores are: binary_search: 0.894\n",
      "2023-03-26 17:36:29,004 - root - INFO - Algo binary_search step 3600 current loss 0.143055, current_train_items 115232, l1_weight 0.010000.\n",
      "2023-03-26 17:36:29,465 - root - INFO - (val) algo binary_search step 3600: {'return': 0.950439453125, 'score': 0.950439453125, 'examples_seen': 115232, 'step': 3600, 'algorithm': 'binary_search'}\n",
      "2023-03-26 17:36:29,466 - root - INFO - Not saving new best model, best avg val score was 0.959, current avg val score is 0.950, val scores are: binary_search: 0.950\n",
      "2023-03-26 17:36:30,269 - root - INFO - Algo binary_search step 3650 current loss 0.471058, current_train_items 116832, l1_weight 0.010000.\n",
      "2023-03-26 17:36:30,679 - root - INFO - (val) algo binary_search step 3650: {'return': 0.83349609375, 'score': 0.83349609375, 'examples_seen': 116832, 'step': 3650, 'algorithm': 'binary_search'}\n",
      "2023-03-26 17:36:30,680 - root - INFO - Not saving new best model, best avg val score was 0.959, current avg val score is 0.833, val scores are: binary_search: 0.833\n",
      "2023-03-26 17:36:31,573 - root - INFO - Algo binary_search step 3700 current loss 0.128820, current_train_items 118432, l1_weight 0.010000.\n",
      "2023-03-26 17:36:32,006 - root - INFO - (val) algo binary_search step 3700: {'return': 0.91162109375, 'score': 0.91162109375, 'examples_seen': 118432, 'step': 3700, 'algorithm': 'binary_search'}\n",
      "2023-03-26 17:36:32,007 - root - INFO - Not saving new best model, best avg val score was 0.959, current avg val score is 0.912, val scores are: binary_search: 0.912\n",
      "2023-03-26 17:36:32,798 - root - INFO - Algo binary_search step 3750 current loss 0.492443, current_train_items 120032, l1_weight 0.010000.\n",
      "2023-03-26 17:36:33,244 - root - INFO - (val) algo binary_search step 3750: {'return': 0.9482421875, 'score': 0.9482421875, 'examples_seen': 120032, 'step': 3750, 'algorithm': 'binary_search'}\n",
      "2023-03-26 17:36:33,244 - root - INFO - Not saving new best model, best avg val score was 0.959, current avg val score is 0.948, val scores are: binary_search: 0.948\n",
      "2023-03-26 17:36:34,063 - root - INFO - Algo binary_search step 3800 current loss 0.852050, current_train_items 121632, l1_weight 0.010000.\n",
      "2023-03-26 17:36:34,502 - root - INFO - (val) algo binary_search step 3800: {'return': 0.89404296875, 'score': 0.89404296875, 'examples_seen': 121632, 'step': 3800, 'algorithm': 'binary_search'}\n",
      "2023-03-26 17:36:34,502 - root - INFO - Not saving new best model, best avg val score was 0.959, current avg val score is 0.894, val scores are: binary_search: 0.894\n",
      "2023-03-26 17:36:35,269 - root - INFO - Algo binary_search step 3850 current loss 0.702760, current_train_items 123232, l1_weight 0.010000.\n",
      "2023-03-26 17:36:35,717 - root - INFO - (val) algo binary_search step 3850: {'return': 0.84375, 'score': 0.84375, 'examples_seen': 123232, 'step': 3850, 'algorithm': 'binary_search'}\n",
      "2023-03-26 17:36:35,718 - root - INFO - Not saving new best model, best avg val score was 0.959, current avg val score is 0.844, val scores are: binary_search: 0.844\n",
      "2023-03-26 17:36:36,511 - root - INFO - Algo binary_search step 3900 current loss 0.522979, current_train_items 124832, l1_weight 0.010000.\n",
      "2023-03-26 17:36:36,960 - root - INFO - (val) algo binary_search step 3900: {'return': 0.950927734375, 'score': 0.950927734375, 'examples_seen': 124832, 'step': 3900, 'algorithm': 'binary_search'}\n",
      "2023-03-26 17:36:36,961 - root - INFO - Not saving new best model, best avg val score was 0.959, current avg val score is 0.951, val scores are: binary_search: 0.951\n",
      "2023-03-26 17:36:37,747 - root - INFO - Algo binary_search step 3950 current loss 1.499611, current_train_items 126432, l1_weight 0.010000.\n",
      "2023-03-26 17:36:38,178 - root - INFO - (val) algo binary_search step 3950: {'return': 0.8330078125, 'score': 0.8330078125, 'examples_seen': 126432, 'step': 3950, 'algorithm': 'binary_search'}\n",
      "2023-03-26 17:36:38,179 - root - INFO - Not saving new best model, best avg val score was 0.959, current avg val score is 0.833, val scores are: binary_search: 0.833\n",
      "2023-03-26 17:36:38,943 - root - INFO - Algo binary_search step 4000 current loss 0.123655, current_train_items 128032, l1_weight 0.010000.\n",
      "2023-03-26 17:36:39,370 - root - INFO - (val) algo binary_search step 4000: {'return': 0.933349609375, 'score': 0.933349609375, 'examples_seen': 128032, 'step': 4000, 'algorithm': 'binary_search'}\n",
      "2023-03-26 17:36:39,371 - root - INFO - Not saving new best model, best avg val score was 0.959, current avg val score is 0.933, val scores are: binary_search: 0.933\n",
      "2023-03-26 17:36:40,194 - root - INFO - Algo binary_search step 4050 current loss 0.627555, current_train_items 129632, l1_weight 0.010000.\n",
      "2023-03-26 17:36:40,639 - root - INFO - (val) algo binary_search step 4050: {'return': 0.93115234375, 'score': 0.93115234375, 'examples_seen': 129632, 'step': 4050, 'algorithm': 'binary_search'}\n",
      "2023-03-26 17:36:40,640 - root - INFO - Not saving new best model, best avg val score was 0.959, current avg val score is 0.931, val scores are: binary_search: 0.931\n",
      "2023-03-26 17:36:41,378 - root - INFO - Algo binary_search step 4100 current loss 0.271166, current_train_items 131232, l1_weight 0.010000.\n",
      "2023-03-26 17:36:41,840 - root - INFO - (val) algo binary_search step 4100: {'return': 0.85986328125, 'score': 0.85986328125, 'examples_seen': 131232, 'step': 4100, 'algorithm': 'binary_search'}\n",
      "2023-03-26 17:36:41,841 - root - INFO - Not saving new best model, best avg val score was 0.959, current avg val score is 0.860, val scores are: binary_search: 0.860\n",
      "2023-03-26 17:36:42,642 - root - INFO - Algo binary_search step 4150 current loss 0.671752, current_train_items 132832, l1_weight 0.010000.\n",
      "2023-03-26 17:36:43,107 - root - INFO - (val) algo binary_search step 4150: {'return': 0.89990234375, 'score': 0.89990234375, 'examples_seen': 132832, 'step': 4150, 'algorithm': 'binary_search'}\n",
      "2023-03-26 17:36:43,108 - root - INFO - Not saving new best model, best avg val score was 0.959, current avg val score is 0.900, val scores are: binary_search: 0.900\n",
      "2023-03-26 17:36:43,873 - root - INFO - Algo binary_search step 4200 current loss 0.135369, current_train_items 134432, l1_weight 0.010000.\n",
      "2023-03-26 17:36:44,308 - root - INFO - (val) algo binary_search step 4200: {'return': 0.9248046875, 'score': 0.9248046875, 'examples_seen': 134432, 'step': 4200, 'algorithm': 'binary_search'}\n",
      "2023-03-26 17:36:44,309 - root - INFO - Not saving new best model, best avg val score was 0.959, current avg val score is 0.925, val scores are: binary_search: 0.925\n",
      "2023-03-26 17:36:45,052 - root - INFO - Algo binary_search step 4250 current loss 0.372663, current_train_items 136032, l1_weight 0.010000.\n",
      "2023-03-26 17:36:45,484 - root - INFO - (val) algo binary_search step 4250: {'return': 0.947021484375, 'score': 0.947021484375, 'examples_seen': 136032, 'step': 4250, 'algorithm': 'binary_search'}\n",
      "2023-03-26 17:36:45,484 - root - INFO - Not saving new best model, best avg val score was 0.959, current avg val score is 0.947, val scores are: binary_search: 0.947\n",
      "2023-03-26 17:36:46,352 - root - INFO - Algo binary_search step 4300 current loss 0.491891, current_train_items 137632, l1_weight 0.010000.\n",
      "2023-03-26 17:36:46,785 - root - INFO - (val) algo binary_search step 4300: {'return': 0.93408203125, 'score': 0.93408203125, 'examples_seen': 137632, 'step': 4300, 'algorithm': 'binary_search'}\n",
      "2023-03-26 17:36:46,786 - root - INFO - Not saving new best model, best avg val score was 0.959, current avg val score is 0.934, val scores are: binary_search: 0.934\n",
      "2023-03-26 17:36:47,582 - root - INFO - Algo binary_search step 4350 current loss 0.676041, current_train_items 139232, l1_weight 0.010000.\n",
      "2023-03-26 17:36:47,896 - root - INFO - (val) algo binary_search step 4350: {'return': 0.911376953125, 'score': 0.911376953125, 'examples_seen': 139232, 'step': 4350, 'algorithm': 'binary_search'}\n",
      "2023-03-26 17:36:47,897 - root - INFO - Not saving new best model, best avg val score was 0.959, current avg val score is 0.911, val scores are: binary_search: 0.911\n",
      "2023-03-26 17:36:48,843 - root - INFO - Algo binary_search step 4400 current loss 0.373485, current_train_items 140832, l1_weight 0.010000.\n",
      "2023-03-26 17:36:49,472 - root - INFO - (val) algo binary_search step 4400: {'return': 0.90283203125, 'score': 0.90283203125, 'examples_seen': 140832, 'step': 4400, 'algorithm': 'binary_search'}\n",
      "2023-03-26 17:36:49,473 - root - INFO - Not saving new best model, best avg val score was 0.959, current avg val score is 0.903, val scores are: binary_search: 0.903\n",
      "2023-03-26 17:36:50,545 - root - INFO - Algo binary_search step 4450 current loss 0.102230, current_train_items 142432, l1_weight 0.010000.\n",
      "2023-03-26 17:36:51,113 - root - INFO - (val) algo binary_search step 4450: {'return': 0.93798828125, 'score': 0.93798828125, 'examples_seen': 142432, 'step': 4450, 'algorithm': 'binary_search'}\n",
      "2023-03-26 17:36:51,113 - root - INFO - Not saving new best model, best avg val score was 0.959, current avg val score is 0.938, val scores are: binary_search: 0.938\n",
      "2023-03-26 17:36:52,096 - root - INFO - Algo binary_search step 4500 current loss 0.094266, current_train_items 144032, l1_weight 0.010000.\n",
      "2023-03-26 17:36:52,716 - root - INFO - (val) algo binary_search step 4500: {'return': 0.927001953125, 'score': 0.927001953125, 'examples_seen': 144032, 'step': 4500, 'algorithm': 'binary_search'}\n",
      "2023-03-26 17:36:52,717 - root - INFO - Not saving new best model, best avg val score was 0.959, current avg val score is 0.927, val scores are: binary_search: 0.927\n",
      "2023-03-26 17:36:53,617 - root - INFO - Algo binary_search step 4550 current loss 0.189750, current_train_items 145632, l1_weight 0.010000.\n",
      "2023-03-26 17:36:54,221 - root - INFO - (val) algo binary_search step 4550: {'return': 0.87353515625, 'score': 0.87353515625, 'examples_seen': 145632, 'step': 4550, 'algorithm': 'binary_search'}\n",
      "2023-03-26 17:36:54,223 - root - INFO - Not saving new best model, best avg val score was 0.959, current avg val score is 0.874, val scores are: binary_search: 0.874\n",
      "2023-03-26 17:36:55,242 - root - INFO - Algo binary_search step 4600 current loss 0.988002, current_train_items 147232, l1_weight 0.010000.\n",
      "2023-03-26 17:36:55,854 - root - INFO - (val) algo binary_search step 4600: {'return': 0.954345703125, 'score': 0.954345703125, 'examples_seen': 147232, 'step': 4600, 'algorithm': 'binary_search'}\n",
      "2023-03-26 17:36:55,855 - root - INFO - Not saving new best model, best avg val score was 0.959, current avg val score is 0.954, val scores are: binary_search: 0.954\n",
      "2023-03-26 17:36:56,751 - root - INFO - Algo binary_search step 4650 current loss 0.091778, current_train_items 148832, l1_weight 0.010000.\n",
      "2023-03-26 17:36:57,317 - root - INFO - (val) algo binary_search step 4650: {'return': 0.968017578125, 'score': 0.968017578125, 'examples_seen': 148832, 'step': 4650, 'algorithm': 'binary_search'}\n",
      "2023-03-26 17:36:57,318 - root - INFO - Checkpointing best model, best avg val score was 0.959, current avg val score is 0.968, val scores are: binary_search: 0.968\n",
      "2023-03-26 17:36:58,252 - root - INFO - Algo binary_search step 4700 current loss 0.301385, current_train_items 150432, l1_weight 0.010000.\n",
      "2023-03-26 17:36:58,856 - root - INFO - (val) algo binary_search step 4700: {'return': 0.879638671875, 'score': 0.879638671875, 'examples_seen': 150432, 'step': 4700, 'algorithm': 'binary_search'}\n",
      "2023-03-26 17:36:58,856 - root - INFO - Not saving new best model, best avg val score was 0.968, current avg val score is 0.880, val scores are: binary_search: 0.880\n",
      "2023-03-26 17:36:59,847 - root - INFO - Algo binary_search step 4750 current loss 0.398696, current_train_items 152032, l1_weight 0.010000.\n",
      "2023-03-26 17:37:00,468 - root - INFO - (val) algo binary_search step 4750: {'return': 0.853271484375, 'score': 0.853271484375, 'examples_seen': 152032, 'step': 4750, 'algorithm': 'binary_search'}\n",
      "2023-03-26 17:37:00,469 - root - INFO - Not saving new best model, best avg val score was 0.968, current avg val score is 0.853, val scores are: binary_search: 0.853\n",
      "2023-03-26 17:37:01,387 - root - INFO - Algo binary_search step 4800 current loss 0.122689, current_train_items 153632, l1_weight 0.010000.\n",
      "2023-03-26 17:37:01,999 - root - INFO - (val) algo binary_search step 4800: {'return': 0.9365234375, 'score': 0.9365234375, 'examples_seen': 153632, 'step': 4800, 'algorithm': 'binary_search'}\n",
      "2023-03-26 17:37:01,999 - root - INFO - Not saving new best model, best avg val score was 0.968, current avg val score is 0.937, val scores are: binary_search: 0.937\n",
      "2023-03-26 17:37:02,967 - root - INFO - Algo binary_search step 4850 current loss 0.448256, current_train_items 155232, l1_weight 0.010000.\n",
      "2023-03-26 17:37:03,566 - root - INFO - (val) algo binary_search step 4850: {'return': 0.939697265625, 'score': 0.939697265625, 'examples_seen': 155232, 'step': 4850, 'algorithm': 'binary_search'}\n",
      "2023-03-26 17:37:03,567 - root - INFO - Not saving new best model, best avg val score was 0.968, current avg val score is 0.940, val scores are: binary_search: 0.940\n",
      "2023-03-26 17:37:04,419 - root - INFO - Algo binary_search step 4900 current loss 0.132661, current_train_items 156832, l1_weight 0.010000.\n",
      "2023-03-26 17:37:04,850 - root - INFO - (val) algo binary_search step 4900: {'return': 0.924072265625, 'score': 0.924072265625, 'examples_seen': 156832, 'step': 4900, 'algorithm': 'binary_search'}\n",
      "2023-03-26 17:37:04,851 - root - INFO - Not saving new best model, best avg val score was 0.968, current avg val score is 0.924, val scores are: binary_search: 0.924\n",
      "2023-03-26 17:37:05,758 - root - INFO - Algo binary_search step 4950 current loss 0.080456, current_train_items 158432, l1_weight 0.010000.\n",
      "2023-03-26 17:37:06,320 - root - INFO - (val) algo binary_search step 4950: {'return': 0.867919921875, 'score': 0.867919921875, 'examples_seen': 158432, 'step': 4950, 'algorithm': 'binary_search'}\n",
      "2023-03-26 17:37:06,320 - root - INFO - Not saving new best model, best avg val score was 0.968, current avg val score is 0.868, val scores are: binary_search: 0.868\n",
      "2023-03-26 17:37:07,141 - root - INFO - Algo binary_search step 5000 current loss 0.101774, current_train_items 160032, l1_weight 0.010000.\n",
      "2023-03-26 17:37:07,760 - root - INFO - (val) algo binary_search step 5000: {'return': 0.93896484375, 'score': 0.93896484375, 'examples_seen': 160032, 'step': 5000, 'algorithm': 'binary_search'}\n",
      "2023-03-26 17:37:07,761 - root - INFO - Not saving new best model, best avg val score was 0.968, current avg val score is 0.939, val scores are: binary_search: 0.939\n",
      "2023-03-26 17:37:08,664 - root - INFO - Algo binary_search step 5050 current loss 0.086704, current_train_items 161632, l1_weight 0.010000.\n",
      "2023-03-26 17:37:09,254 - root - INFO - (val) algo binary_search step 5050: {'return': 0.951171875, 'score': 0.951171875, 'examples_seen': 161632, 'step': 5050, 'algorithm': 'binary_search'}\n",
      "2023-03-26 17:37:09,255 - root - INFO - Not saving new best model, best avg val score was 0.968, current avg val score is 0.951, val scores are: binary_search: 0.951\n",
      "2023-03-26 17:37:10,153 - root - INFO - Algo binary_search step 5100 current loss 0.167455, current_train_items 163232, l1_weight 0.010000.\n",
      "2023-03-26 17:37:10,745 - root - INFO - (val) algo binary_search step 5100: {'return': 0.887451171875, 'score': 0.887451171875, 'examples_seen': 163232, 'step': 5100, 'algorithm': 'binary_search'}\n",
      "2023-03-26 17:37:10,746 - root - INFO - Not saving new best model, best avg val score was 0.968, current avg val score is 0.887, val scores are: binary_search: 0.887\n",
      "2023-03-26 17:37:11,706 - root - INFO - Algo binary_search step 5150 current loss 0.959883, current_train_items 164832, l1_weight 0.010000.\n",
      "2023-03-26 17:37:12,314 - root - INFO - (val) algo binary_search step 5150: {'return': 0.88037109375, 'score': 0.88037109375, 'examples_seen': 164832, 'step': 5150, 'algorithm': 'binary_search'}\n",
      "2023-03-26 17:37:12,315 - root - INFO - Not saving new best model, best avg val score was 0.968, current avg val score is 0.880, val scores are: binary_search: 0.880\n",
      "2023-03-26 17:37:13,263 - root - INFO - Algo binary_search step 5200 current loss 0.198704, current_train_items 166432, l1_weight 0.010000.\n",
      "2023-03-26 17:37:13,897 - root - INFO - (val) algo binary_search step 5200: {'return': 0.96630859375, 'score': 0.96630859375, 'examples_seen': 166432, 'step': 5200, 'algorithm': 'binary_search'}\n",
      "2023-03-26 17:37:13,898 - root - INFO - Not saving new best model, best avg val score was 0.968, current avg val score is 0.966, val scores are: binary_search: 0.966\n",
      "2023-03-26 17:37:14,889 - root - INFO - Algo binary_search step 5250 current loss 0.078937, current_train_items 168032, l1_weight 0.010000.\n",
      "2023-03-26 17:37:15,529 - root - INFO - (val) algo binary_search step 5250: {'return': 0.95166015625, 'score': 0.95166015625, 'examples_seen': 168032, 'step': 5250, 'algorithm': 'binary_search'}\n",
      "2023-03-26 17:37:15,530 - root - INFO - Not saving new best model, best avg val score was 0.968, current avg val score is 0.952, val scores are: binary_search: 0.952\n",
      "2023-03-26 17:37:16,537 - root - INFO - Algo binary_search step 5300 current loss 0.527519, current_train_items 169632, l1_weight 0.010000.\n",
      "2023-03-26 17:37:17,150 - root - INFO - (val) algo binary_search step 5300: {'return': 0.916259765625, 'score': 0.916259765625, 'examples_seen': 169632, 'step': 5300, 'algorithm': 'binary_search'}\n",
      "2023-03-26 17:37:17,151 - root - INFO - Not saving new best model, best avg val score was 0.968, current avg val score is 0.916, val scores are: binary_search: 0.916\n",
      "2023-03-26 17:37:18,181 - root - INFO - Algo binary_search step 5350 current loss 0.215951, current_train_items 171232, l1_weight 0.010000.\n",
      "2023-03-26 17:37:18,727 - root - INFO - (val) algo binary_search step 5350: {'return': 0.970458984375, 'score': 0.970458984375, 'examples_seen': 171232, 'step': 5350, 'algorithm': 'binary_search'}\n",
      "2023-03-26 17:37:18,727 - root - INFO - Checkpointing best model, best avg val score was 0.968, current avg val score is 0.970, val scores are: binary_search: 0.970\n",
      "2023-03-26 17:37:19,707 - root - INFO - Algo binary_search step 5400 current loss 0.767958, current_train_items 172832, l1_weight 0.010000.\n",
      "2023-03-26 17:37:20,307 - root - INFO - (val) algo binary_search step 5400: {'return': 0.8818359375, 'score': 0.8818359375, 'examples_seen': 172832, 'step': 5400, 'algorithm': 'binary_search'}\n",
      "2023-03-26 17:37:20,309 - root - INFO - Not saving new best model, best avg val score was 0.970, current avg val score is 0.882, val scores are: binary_search: 0.882\n",
      "2023-03-26 17:37:21,267 - root - INFO - Algo binary_search step 5450 current loss 0.105057, current_train_items 174432, l1_weight 0.010000.\n",
      "2023-03-26 17:37:21,884 - root - INFO - (val) algo binary_search step 5450: {'return': 0.936767578125, 'score': 0.936767578125, 'examples_seen': 174432, 'step': 5450, 'algorithm': 'binary_search'}\n",
      "2023-03-26 17:37:21,885 - root - INFO - Not saving new best model, best avg val score was 0.970, current avg val score is 0.937, val scores are: binary_search: 0.937\n",
      "2023-03-26 17:37:22,859 - root - INFO - Algo binary_search step 5500 current loss 0.357586, current_train_items 176032, l1_weight 0.010000.\n",
      "2023-03-26 17:37:23,486 - root - INFO - (val) algo binary_search step 5500: {'return': 0.94140625, 'score': 0.94140625, 'examples_seen': 176032, 'step': 5500, 'algorithm': 'binary_search'}\n",
      "2023-03-26 17:37:23,487 - root - INFO - Not saving new best model, best avg val score was 0.970, current avg val score is 0.941, val scores are: binary_search: 0.941\n",
      "2023-03-26 17:37:24,466 - root - INFO - Algo binary_search step 5550 current loss 0.108046, current_train_items 177632, l1_weight 0.010000.\n",
      "2023-03-26 17:37:25,074 - root - INFO - (val) algo binary_search step 5550: {'return': 0.88427734375, 'score': 0.88427734375, 'examples_seen': 177632, 'step': 5550, 'algorithm': 'binary_search'}\n",
      "2023-03-26 17:37:25,075 - root - INFO - Not saving new best model, best avg val score was 0.970, current avg val score is 0.884, val scores are: binary_search: 0.884\n",
      "2023-03-26 17:37:25,980 - root - INFO - Algo binary_search step 5600 current loss 0.656973, current_train_items 179232, l1_weight 0.010000.\n",
      "2023-03-26 17:37:26,583 - root - INFO - (val) algo binary_search step 5600: {'return': 0.951904296875, 'score': 0.951904296875, 'examples_seen': 179232, 'step': 5600, 'algorithm': 'binary_search'}\n",
      "2023-03-26 17:37:26,584 - root - INFO - Not saving new best model, best avg val score was 0.970, current avg val score is 0.952, val scores are: binary_search: 0.952\n",
      "2023-03-26 17:37:27,605 - root - INFO - Algo binary_search step 5650 current loss 0.403412, current_train_items 180832, l1_weight 0.010000.\n",
      "2023-03-26 17:37:28,175 - root - INFO - (val) algo binary_search step 5650: {'return': 0.913818359375, 'score': 0.913818359375, 'examples_seen': 180832, 'step': 5650, 'algorithm': 'binary_search'}\n",
      "2023-03-26 17:37:28,176 - root - INFO - Not saving new best model, best avg val score was 0.970, current avg val score is 0.914, val scores are: binary_search: 0.914\n",
      "2023-03-26 17:37:29,073 - root - INFO - Algo binary_search step 5700 current loss 0.357411, current_train_items 182432, l1_weight 0.010000.\n",
      "2023-03-26 17:37:29,665 - root - INFO - (val) algo binary_search step 5700: {'return': 0.876953125, 'score': 0.876953125, 'examples_seen': 182432, 'step': 5700, 'algorithm': 'binary_search'}\n",
      "2023-03-26 17:37:29,666 - root - INFO - Not saving new best model, best avg val score was 0.970, current avg val score is 0.877, val scores are: binary_search: 0.877\n",
      "2023-03-26 17:37:30,684 - root - INFO - Algo binary_search step 5750 current loss 0.410156, current_train_items 184032, l1_weight 0.010000.\n",
      "2023-03-26 17:37:31,259 - root - INFO - (val) algo binary_search step 5750: {'return': 0.8857421875, 'score': 0.8857421875, 'examples_seen': 184032, 'step': 5750, 'algorithm': 'binary_search'}\n",
      "2023-03-26 17:37:31,260 - root - INFO - Not saving new best model, best avg val score was 0.970, current avg val score is 0.886, val scores are: binary_search: 0.886\n",
      "2023-03-26 17:37:32,248 - root - INFO - Algo binary_search step 5800 current loss 0.520454, current_train_items 185632, l1_weight 0.010000.\n",
      "2023-03-26 17:37:32,799 - root - INFO - (val) algo binary_search step 5800: {'return': 0.90478515625, 'score': 0.90478515625, 'examples_seen': 185632, 'step': 5800, 'algorithm': 'binary_search'}\n",
      "2023-03-26 17:37:32,800 - root - INFO - Not saving new best model, best avg val score was 0.970, current avg val score is 0.905, val scores are: binary_search: 0.905\n",
      "2023-03-26 17:37:33,702 - root - INFO - Algo binary_search step 5850 current loss 0.555724, current_train_items 187232, l1_weight 0.010000.\n",
      "2023-03-26 17:37:34,381 - root - INFO - (val) algo binary_search step 5850: {'return': 0.946533203125, 'score': 0.946533203125, 'examples_seen': 187232, 'step': 5850, 'algorithm': 'binary_search'}\n",
      "2023-03-26 17:37:34,382 - root - INFO - Not saving new best model, best avg val score was 0.970, current avg val score is 0.947, val scores are: binary_search: 0.947\n",
      "2023-03-26 17:37:35,379 - root - INFO - Algo binary_search step 5900 current loss 0.072369, current_train_items 188832, l1_weight 0.010000.\n",
      "2023-03-26 17:37:35,927 - root - INFO - (val) algo binary_search step 5900: {'return': 0.9580078125, 'score': 0.9580078125, 'examples_seen': 188832, 'step': 5900, 'algorithm': 'binary_search'}\n",
      "2023-03-26 17:37:35,928 - root - INFO - Not saving new best model, best avg val score was 0.970, current avg val score is 0.958, val scores are: binary_search: 0.958\n",
      "2023-03-26 17:37:36,840 - root - INFO - Algo binary_search step 5950 current loss 0.631103, current_train_items 190432, l1_weight 0.010000.\n",
      "2023-03-26 17:37:37,480 - root - INFO - (val) algo binary_search step 5950: {'return': 0.9140625, 'score': 0.9140625, 'examples_seen': 190432, 'step': 5950, 'algorithm': 'binary_search'}\n",
      "2023-03-26 17:37:37,481 - root - INFO - Not saving new best model, best avg val score was 0.970, current avg val score is 0.914, val scores are: binary_search: 0.914\n",
      "2023-03-26 17:37:38,421 - root - INFO - Algo binary_search step 6000 current loss 0.078670, current_train_items 192032, l1_weight 0.010000.\n",
      "2023-03-26 17:37:39,036 - root - INFO - (val) algo binary_search step 6000: {'return': 0.927001953125, 'score': 0.927001953125, 'examples_seen': 192032, 'step': 6000, 'algorithm': 'binary_search'}\n",
      "2023-03-26 17:37:39,037 - root - INFO - Not saving new best model, best avg val score was 0.970, current avg val score is 0.927, val scores are: binary_search: 0.927\n",
      "2023-03-26 17:37:39,971 - root - INFO - Algo binary_search step 6050 current loss 0.060083, current_train_items 193632, l1_weight 0.010000.\n",
      "2023-03-26 17:37:40,624 - root - INFO - (val) algo binary_search step 6050: {'return': 0.94091796875, 'score': 0.94091796875, 'examples_seen': 193632, 'step': 6050, 'algorithm': 'binary_search'}\n",
      "2023-03-26 17:37:40,625 - root - INFO - Not saving new best model, best avg val score was 0.970, current avg val score is 0.941, val scores are: binary_search: 0.941\n",
      "2023-03-26 17:37:41,604 - root - INFO - Algo binary_search step 6100 current loss 0.152369, current_train_items 195232, l1_weight 0.010000.\n",
      "2023-03-26 17:37:42,202 - root - INFO - (val) algo binary_search step 6100: {'return': 0.95556640625, 'score': 0.95556640625, 'examples_seen': 195232, 'step': 6100, 'algorithm': 'binary_search'}\n",
      "2023-03-26 17:37:42,203 - root - INFO - Not saving new best model, best avg val score was 0.970, current avg val score is 0.956, val scores are: binary_search: 0.956\n",
      "2023-03-26 17:37:43,207 - root - INFO - Algo binary_search step 6150 current loss 0.153496, current_train_items 196832, l1_weight 0.010000.\n",
      "2023-03-26 17:37:43,802 - root - INFO - (val) algo binary_search step 6150: {'return': 0.85595703125, 'score': 0.85595703125, 'examples_seen': 196832, 'step': 6150, 'algorithm': 'binary_search'}\n",
      "2023-03-26 17:37:43,803 - root - INFO - Not saving new best model, best avg val score was 0.970, current avg val score is 0.856, val scores are: binary_search: 0.856\n",
      "2023-03-26 17:37:44,692 - root - INFO - Algo binary_search step 6200 current loss 0.218810, current_train_items 198432, l1_weight 0.010000.\n",
      "2023-03-26 17:37:45,310 - root - INFO - (val) algo binary_search step 6200: {'return': 0.961669921875, 'score': 0.961669921875, 'examples_seen': 198432, 'step': 6200, 'algorithm': 'binary_search'}\n",
      "2023-03-26 17:37:45,311 - root - INFO - Not saving new best model, best avg val score was 0.970, current avg val score is 0.962, val scores are: binary_search: 0.962\n",
      "2023-03-26 17:37:46,200 - root - INFO - Algo binary_search step 6250 current loss 0.567361, current_train_items 200032, l1_weight 0.010000.\n",
      "2023-03-26 17:37:46,801 - root - INFO - (val) algo binary_search step 6250: {'return': 0.8974609375, 'score': 0.8974609375, 'examples_seen': 200032, 'step': 6250, 'algorithm': 'binary_search'}\n",
      "2023-03-26 17:37:46,802 - root - INFO - Not saving new best model, best avg val score was 0.970, current avg val score is 0.897, val scores are: binary_search: 0.897\n",
      "2023-03-26 17:37:47,786 - root - INFO - Algo binary_search step 6300 current loss 0.085656, current_train_items 201632, l1_weight 0.010000.\n",
      "2023-03-26 17:37:48,429 - root - INFO - (val) algo binary_search step 6300: {'return': 0.8828125, 'score': 0.8828125, 'examples_seen': 201632, 'step': 6300, 'algorithm': 'binary_search'}\n",
      "2023-03-26 17:37:48,430 - root - INFO - Not saving new best model, best avg val score was 0.970, current avg val score is 0.883, val scores are: binary_search: 0.883\n",
      "2023-03-26 17:37:49,399 - root - INFO - Algo binary_search step 6350 current loss 0.290095, current_train_items 203232, l1_weight 0.010000.\n",
      "2023-03-26 17:37:50,019 - root - INFO - (val) algo binary_search step 6350: {'return': 0.931396484375, 'score': 0.931396484375, 'examples_seen': 203232, 'step': 6350, 'algorithm': 'binary_search'}\n",
      "2023-03-26 17:37:50,020 - root - INFO - Not saving new best model, best avg val score was 0.970, current avg val score is 0.931, val scores are: binary_search: 0.931\n",
      "2023-03-26 17:37:50,951 - root - INFO - Algo binary_search step 6400 current loss 0.350715, current_train_items 204832, l1_weight 0.010000.\n",
      "2023-03-26 17:37:51,496 - root - INFO - (val) algo binary_search step 6400: {'return': 0.891357421875, 'score': 0.891357421875, 'examples_seen': 204832, 'step': 6400, 'algorithm': 'binary_search'}\n",
      "2023-03-26 17:37:51,497 - root - INFO - Not saving new best model, best avg val score was 0.970, current avg val score is 0.891, val scores are: binary_search: 0.891\n",
      "2023-03-26 17:37:52,447 - root - INFO - Algo binary_search step 6450 current loss 0.334869, current_train_items 206432, l1_weight 0.010000.\n",
      "2023-03-26 17:37:53,048 - root - INFO - (val) algo binary_search step 6450: {'return': 0.93798828125, 'score': 0.93798828125, 'examples_seen': 206432, 'step': 6450, 'algorithm': 'binary_search'}\n",
      "2023-03-26 17:37:53,048 - root - INFO - Not saving new best model, best avg val score was 0.970, current avg val score is 0.938, val scores are: binary_search: 0.938\n",
      "2023-03-26 17:37:53,952 - root - INFO - Algo binary_search step 6500 current loss 0.318515, current_train_items 208032, l1_weight 0.010000.\n",
      "2023-03-26 17:37:54,568 - root - INFO - (val) algo binary_search step 6500: {'return': 0.935791015625, 'score': 0.935791015625, 'examples_seen': 208032, 'step': 6500, 'algorithm': 'binary_search'}\n",
      "2023-03-26 17:37:54,569 - root - INFO - Not saving new best model, best avg val score was 0.970, current avg val score is 0.936, val scores are: binary_search: 0.936\n",
      "2023-03-26 17:37:55,593 - root - INFO - Algo binary_search step 6550 current loss 0.229846, current_train_items 209632, l1_weight 0.010000.\n",
      "2023-03-26 17:37:56,211 - root - INFO - (val) algo binary_search step 6550: {'return': 0.86572265625, 'score': 0.86572265625, 'examples_seen': 209632, 'step': 6550, 'algorithm': 'binary_search'}\n",
      "2023-03-26 17:37:56,212 - root - INFO - Not saving new best model, best avg val score was 0.970, current avg val score is 0.866, val scores are: binary_search: 0.866\n",
      "2023-03-26 17:37:57,139 - root - INFO - Algo binary_search step 6600 current loss 0.164814, current_train_items 211232, l1_weight 0.010000.\n",
      "2023-03-26 17:37:57,777 - root - INFO - (val) algo binary_search step 6600: {'return': 0.969482421875, 'score': 0.969482421875, 'examples_seen': 211232, 'step': 6600, 'algorithm': 'binary_search'}\n",
      "2023-03-26 17:37:57,778 - root - INFO - Not saving new best model, best avg val score was 0.970, current avg val score is 0.969, val scores are: binary_search: 0.969\n",
      "2023-03-26 17:37:58,736 - root - INFO - Algo binary_search step 6650 current loss 1.396219, current_train_items 212832, l1_weight 0.010000.\n",
      "2023-03-26 17:37:59,308 - root - INFO - (val) algo binary_search step 6650: {'return': 0.841064453125, 'score': 0.841064453125, 'examples_seen': 212832, 'step': 6650, 'algorithm': 'binary_search'}\n",
      "2023-03-26 17:37:59,309 - root - INFO - Not saving new best model, best avg val score was 0.970, current avg val score is 0.841, val scores are: binary_search: 0.841\n",
      "2023-03-26 17:38:00,259 - root - INFO - Algo binary_search step 6700 current loss 0.363108, current_train_items 214432, l1_weight 0.010000.\n",
      "2023-03-26 17:38:00,884 - root - INFO - (val) algo binary_search step 6700: {'return': 0.883544921875, 'score': 0.883544921875, 'examples_seen': 214432, 'step': 6700, 'algorithm': 'binary_search'}\n",
      "2023-03-26 17:38:00,885 - root - INFO - Not saving new best model, best avg val score was 0.970, current avg val score is 0.884, val scores are: binary_search: 0.884\n",
      "2023-03-26 17:38:01,805 - root - INFO - Algo binary_search step 6750 current loss 0.079437, current_train_items 216032, l1_weight 0.010000.\n",
      "2023-03-26 17:38:02,407 - root - INFO - (val) algo binary_search step 6750: {'return': 0.940185546875, 'score': 0.940185546875, 'examples_seen': 216032, 'step': 6750, 'algorithm': 'binary_search'}\n",
      "2023-03-26 17:38:02,408 - root - INFO - Not saving new best model, best avg val score was 0.970, current avg val score is 0.940, val scores are: binary_search: 0.940\n",
      "2023-03-26 17:38:03,285 - root - INFO - Algo binary_search step 6800 current loss 0.057102, current_train_items 217632, l1_weight 0.010000.\n",
      "2023-03-26 17:38:03,873 - root - INFO - (val) algo binary_search step 6800: {'return': 0.966064453125, 'score': 0.966064453125, 'examples_seen': 217632, 'step': 6800, 'algorithm': 'binary_search'}\n",
      "2023-03-26 17:38:03,874 - root - INFO - Not saving new best model, best avg val score was 0.970, current avg val score is 0.966, val scores are: binary_search: 0.966\n",
      "2023-03-26 17:38:04,791 - root - INFO - Algo binary_search step 6850 current loss 0.459333, current_train_items 219232, l1_weight 0.010000.\n",
      "2023-03-26 17:38:05,344 - root - INFO - (val) algo binary_search step 6850: {'return': 0.914794921875, 'score': 0.914794921875, 'examples_seen': 219232, 'step': 6850, 'algorithm': 'binary_search'}\n",
      "2023-03-26 17:38:05,345 - root - INFO - Not saving new best model, best avg val score was 0.970, current avg val score is 0.915, val scores are: binary_search: 0.915\n",
      "2023-03-26 17:38:06,281 - root - INFO - Algo binary_search step 6900 current loss 0.507242, current_train_items 220832, l1_weight 0.010000.\n",
      "2023-03-26 17:38:06,844 - root - INFO - (val) algo binary_search step 6900: {'return': 0.891357421875, 'score': 0.891357421875, 'examples_seen': 220832, 'step': 6900, 'algorithm': 'binary_search'}\n",
      "2023-03-26 17:38:06,845 - root - INFO - Not saving new best model, best avg val score was 0.970, current avg val score is 0.891, val scores are: binary_search: 0.891\n",
      "2023-03-26 17:38:07,881 - root - INFO - Algo binary_search step 6950 current loss 2.650697, current_train_items 222432, l1_weight 0.010000.\n",
      "2023-03-26 17:38:08,581 - root - INFO - (val) algo binary_search step 6950: {'return': 0.896240234375, 'score': 0.896240234375, 'examples_seen': 222432, 'step': 6950, 'algorithm': 'binary_search'}\n",
      "2023-03-26 17:38:08,581 - root - INFO - Not saving new best model, best avg val score was 0.970, current avg val score is 0.896, val scores are: binary_search: 0.896\n",
      "2023-03-26 17:38:09,521 - root - INFO - Algo binary_search step 7000 current loss 0.166866, current_train_items 224032, l1_weight 0.010000.\n",
      "2023-03-26 17:38:10,072 - root - INFO - (val) algo binary_search step 7000: {'return': 0.919189453125, 'score': 0.919189453125, 'examples_seen': 224032, 'step': 7000, 'algorithm': 'binary_search'}\n",
      "2023-03-26 17:38:10,073 - root - INFO - Not saving new best model, best avg val score was 0.970, current avg val score is 0.919, val scores are: binary_search: 0.919\n",
      "2023-03-26 17:38:11,038 - root - INFO - Algo binary_search step 7050 current loss 0.068734, current_train_items 225632, l1_weight 0.010000.\n",
      "2023-03-26 17:38:11,643 - root - INFO - (val) algo binary_search step 7050: {'return': 0.8759765625, 'score': 0.8759765625, 'examples_seen': 225632, 'step': 7050, 'algorithm': 'binary_search'}\n",
      "2023-03-26 17:38:11,644 - root - INFO - Not saving new best model, best avg val score was 0.970, current avg val score is 0.876, val scores are: binary_search: 0.876\n",
      "2023-03-26 17:38:12,432 - root - INFO - Algo binary_search step 7100 current loss 0.068292, current_train_items 227232, l1_weight 0.010000.\n",
      "2023-03-26 17:38:12,975 - root - INFO - (val) algo binary_search step 7100: {'return': 0.932861328125, 'score': 0.932861328125, 'examples_seen': 227232, 'step': 7100, 'algorithm': 'binary_search'}\n",
      "2023-03-26 17:38:12,976 - root - INFO - Not saving new best model, best avg val score was 0.970, current avg val score is 0.933, val scores are: binary_search: 0.933\n",
      "2023-03-26 17:38:13,920 - root - INFO - Algo binary_search step 7150 current loss 0.383183, current_train_items 228832, l1_weight 0.010000.\n",
      "2023-03-26 17:38:14,499 - root - INFO - (val) algo binary_search step 7150: {'return': 0.906494140625, 'score': 0.906494140625, 'examples_seen': 228832, 'step': 7150, 'algorithm': 'binary_search'}\n",
      "2023-03-26 17:38:14,500 - root - INFO - Not saving new best model, best avg val score was 0.970, current avg val score is 0.906, val scores are: binary_search: 0.906\n",
      "2023-03-26 17:38:15,416 - root - INFO - Algo binary_search step 7200 current loss 0.056911, current_train_items 230432, l1_weight 0.010000.\n",
      "2023-03-26 17:38:16,054 - root - INFO - (val) algo binary_search step 7200: {'return': 0.91064453125, 'score': 0.91064453125, 'examples_seen': 230432, 'step': 7200, 'algorithm': 'binary_search'}\n",
      "2023-03-26 17:38:16,054 - root - INFO - Not saving new best model, best avg val score was 0.970, current avg val score is 0.911, val scores are: binary_search: 0.911\n",
      "2023-03-26 17:38:17,057 - root - INFO - Algo binary_search step 7250 current loss 0.982137, current_train_items 232032, l1_weight 0.010000.\n",
      "2023-03-26 17:38:17,724 - root - INFO - (val) algo binary_search step 7250: {'return': 0.862548828125, 'score': 0.862548828125, 'examples_seen': 232032, 'step': 7250, 'algorithm': 'binary_search'}\n",
      "2023-03-26 17:38:17,725 - root - INFO - Not saving new best model, best avg val score was 0.970, current avg val score is 0.863, val scores are: binary_search: 0.863\n",
      "2023-03-26 17:38:18,696 - root - INFO - Algo binary_search step 7300 current loss 0.393570, current_train_items 233632, l1_weight 0.010000.\n",
      "2023-03-26 17:38:19,254 - root - INFO - (val) algo binary_search step 7300: {'return': 0.904541015625, 'score': 0.904541015625, 'examples_seen': 233632, 'step': 7300, 'algorithm': 'binary_search'}\n",
      "2023-03-26 17:38:19,254 - root - INFO - Not saving new best model, best avg val score was 0.970, current avg val score is 0.905, val scores are: binary_search: 0.905\n",
      "2023-03-26 17:38:20,184 - root - INFO - Algo binary_search step 7350 current loss 0.307146, current_train_items 235232, l1_weight 0.010000.\n",
      "2023-03-26 17:38:20,772 - root - INFO - (val) algo binary_search step 7350: {'return': 0.947265625, 'score': 0.947265625, 'examples_seen': 235232, 'step': 7350, 'algorithm': 'binary_search'}\n",
      "2023-03-26 17:38:20,773 - root - INFO - Not saving new best model, best avg val score was 0.970, current avg val score is 0.947, val scores are: binary_search: 0.947\n",
      "2023-03-26 17:38:21,607 - root - INFO - Algo binary_search step 7400 current loss 0.774733, current_train_items 236832, l1_weight 0.010000.\n",
      "2023-03-26 17:38:22,182 - root - INFO - (val) algo binary_search step 7400: {'return': 0.949951171875, 'score': 0.949951171875, 'examples_seen': 236832, 'step': 7400, 'algorithm': 'binary_search'}\n",
      "2023-03-26 17:38:22,183 - root - INFO - Not saving new best model, best avg val score was 0.970, current avg val score is 0.950, val scores are: binary_search: 0.950\n",
      "2023-03-26 17:38:23,180 - root - INFO - Algo binary_search step 7450 current loss 0.062644, current_train_items 238432, l1_weight 0.010000.\n",
      "2023-03-26 17:38:23,760 - root - INFO - (val) algo binary_search step 7450: {'return': 0.942626953125, 'score': 0.942626953125, 'examples_seen': 238432, 'step': 7450, 'algorithm': 'binary_search'}\n",
      "2023-03-26 17:38:23,761 - root - INFO - Not saving new best model, best avg val score was 0.970, current avg val score is 0.943, val scores are: binary_search: 0.943\n",
      "2023-03-26 17:38:24,765 - root - INFO - Algo binary_search step 7500 current loss 0.080795, current_train_items 240032, l1_weight 0.010000.\n",
      "2023-03-26 17:38:25,343 - root - INFO - (val) algo binary_search step 7500: {'return': 0.90771484375, 'score': 0.90771484375, 'examples_seen': 240032, 'step': 7500, 'algorithm': 'binary_search'}\n",
      "2023-03-26 17:38:25,343 - root - INFO - Not saving new best model, best avg val score was 0.970, current avg val score is 0.908, val scores are: binary_search: 0.908\n",
      "2023-03-26 17:38:26,254 - root - INFO - Algo binary_search step 7550 current loss 0.477327, current_train_items 241632, l1_weight 0.010000.\n",
      "2023-03-26 17:38:26,830 - root - INFO - (val) algo binary_search step 7550: {'return': 0.870361328125, 'score': 0.870361328125, 'examples_seen': 241632, 'step': 7550, 'algorithm': 'binary_search'}\n",
      "2023-03-26 17:38:26,831 - root - INFO - Not saving new best model, best avg val score was 0.970, current avg val score is 0.870, val scores are: binary_search: 0.870\n",
      "2023-03-26 17:38:27,804 - root - INFO - Algo binary_search step 7600 current loss 0.273837, current_train_items 243232, l1_weight 0.010000.\n",
      "2023-03-26 17:38:28,427 - root - INFO - (val) algo binary_search step 7600: {'return': 0.949462890625, 'score': 0.949462890625, 'examples_seen': 243232, 'step': 7600, 'algorithm': 'binary_search'}\n",
      "2023-03-26 17:38:28,427 - root - INFO - Not saving new best model, best avg val score was 0.970, current avg val score is 0.949, val scores are: binary_search: 0.949\n",
      "2023-03-26 17:38:29,376 - root - INFO - Algo binary_search step 7650 current loss 0.396046, current_train_items 244832, l1_weight 0.010000.\n",
      "2023-03-26 17:38:29,920 - root - INFO - (val) algo binary_search step 7650: {'return': 0.9306640625, 'score': 0.9306640625, 'examples_seen': 244832, 'step': 7650, 'algorithm': 'binary_search'}\n",
      "2023-03-26 17:38:29,921 - root - INFO - Not saving new best model, best avg val score was 0.970, current avg val score is 0.931, val scores are: binary_search: 0.931\n",
      "2023-03-26 17:38:30,875 - root - INFO - Algo binary_search step 7700 current loss 0.431582, current_train_items 246432, l1_weight 0.010000.\n",
      "2023-03-26 17:38:31,511 - root - INFO - (val) algo binary_search step 7700: {'return': 0.920166015625, 'score': 0.920166015625, 'examples_seen': 246432, 'step': 7700, 'algorithm': 'binary_search'}\n",
      "2023-03-26 17:38:31,512 - root - INFO - Not saving new best model, best avg val score was 0.970, current avg val score is 0.920, val scores are: binary_search: 0.920\n",
      "2023-03-26 17:38:32,460 - root - INFO - Algo binary_search step 7750 current loss 0.108628, current_train_items 248032, l1_weight 0.010000.\n",
      "2023-03-26 17:38:33,062 - root - INFO - (val) algo binary_search step 7750: {'return': 0.94189453125, 'score': 0.94189453125, 'examples_seen': 248032, 'step': 7750, 'algorithm': 'binary_search'}\n",
      "2023-03-26 17:38:33,063 - root - INFO - Not saving new best model, best avg val score was 0.970, current avg val score is 0.942, val scores are: binary_search: 0.942\n",
      "2023-03-26 17:38:33,972 - root - INFO - Algo binary_search step 7800 current loss 0.062547, current_train_items 249632, l1_weight 0.010000.\n",
      "2023-03-26 17:38:34,548 - root - INFO - (val) algo binary_search step 7800: {'return': 0.91259765625, 'score': 0.91259765625, 'examples_seen': 249632, 'step': 7800, 'algorithm': 'binary_search'}\n",
      "2023-03-26 17:38:34,549 - root - INFO - Not saving new best model, best avg val score was 0.970, current avg val score is 0.913, val scores are: binary_search: 0.913\n",
      "2023-03-26 17:38:35,542 - root - INFO - Algo binary_search step 7850 current loss 0.689499, current_train_items 251232, l1_weight 0.010000.\n",
      "2023-03-26 17:38:36,179 - root - INFO - (val) algo binary_search step 7850: {'return': 0.959228515625, 'score': 0.959228515625, 'examples_seen': 251232, 'step': 7850, 'algorithm': 'binary_search'}\n",
      "2023-03-26 17:38:36,179 - root - INFO - Not saving new best model, best avg val score was 0.970, current avg val score is 0.959, val scores are: binary_search: 0.959\n",
      "2023-03-26 17:38:37,172 - root - INFO - Algo binary_search step 7900 current loss 0.481849, current_train_items 252832, l1_weight 0.010000.\n",
      "2023-03-26 17:38:37,808 - root - INFO - (val) algo binary_search step 7900: {'return': 0.9345703125, 'score': 0.9345703125, 'examples_seen': 252832, 'step': 7900, 'algorithm': 'binary_search'}\n",
      "2023-03-26 17:38:37,810 - root - INFO - Not saving new best model, best avg val score was 0.970, current avg val score is 0.935, val scores are: binary_search: 0.935\n",
      "2023-03-26 17:38:38,752 - root - INFO - Algo binary_search step 7950 current loss 0.112681, current_train_items 254432, l1_weight 0.010000.\n",
      "2023-03-26 17:38:39,406 - root - INFO - (val) algo binary_search step 7950: {'return': 0.877197265625, 'score': 0.877197265625, 'examples_seen': 254432, 'step': 7950, 'algorithm': 'binary_search'}\n",
      "2023-03-26 17:38:39,407 - root - INFO - Not saving new best model, best avg val score was 0.970, current avg val score is 0.877, val scores are: binary_search: 0.877\n",
      "2023-03-26 17:38:40,323 - root - INFO - Algo binary_search step 8000 current loss 0.062382, current_train_items 256032, l1_weight 0.010000.\n",
      "2023-03-26 17:38:40,904 - root - INFO - (val) algo binary_search step 8000: {'return': 0.896240234375, 'score': 0.896240234375, 'examples_seen': 256032, 'step': 8000, 'algorithm': 'binary_search'}\n",
      "2023-03-26 17:38:40,905 - root - INFO - Not saving new best model, best avg val score was 0.970, current avg val score is 0.896, val scores are: binary_search: 0.896\n",
      "2023-03-26 17:38:41,846 - root - INFO - Algo binary_search step 8050 current loss 0.053508, current_train_items 257632, l1_weight 0.010000.\n",
      "2023-03-26 17:38:42,410 - root - INFO - (val) algo binary_search step 8050: {'return': 0.930419921875, 'score': 0.930419921875, 'examples_seen': 257632, 'step': 8050, 'algorithm': 'binary_search'}\n",
      "2023-03-26 17:38:42,411 - root - INFO - Not saving new best model, best avg val score was 0.970, current avg val score is 0.930, val scores are: binary_search: 0.930\n",
      "2023-03-26 17:38:43,448 - root - INFO - Algo binary_search step 8100 current loss 0.400811, current_train_items 259232, l1_weight 0.010000.\n",
      "2023-03-26 17:38:44,003 - root - INFO - (val) algo binary_search step 8100: {'return': 0.95556640625, 'score': 0.95556640625, 'examples_seen': 259232, 'step': 8100, 'algorithm': 'binary_search'}\n",
      "2023-03-26 17:38:44,004 - root - INFO - Not saving new best model, best avg val score was 0.970, current avg val score is 0.956, val scores are: binary_search: 0.956\n",
      "2023-03-26 17:38:44,972 - root - INFO - Algo binary_search step 8150 current loss 0.595756, current_train_items 260832, l1_weight 0.010000.\n",
      "2023-03-26 17:38:45,562 - root - INFO - (val) algo binary_search step 8150: {'return': 0.910888671875, 'score': 0.910888671875, 'examples_seen': 260832, 'step': 8150, 'algorithm': 'binary_search'}\n",
      "2023-03-26 17:38:45,563 - root - INFO - Not saving new best model, best avg val score was 0.970, current avg val score is 0.911, val scores are: binary_search: 0.911\n",
      "2023-03-26 17:38:46,411 - root - INFO - Algo binary_search step 8200 current loss 0.110526, current_train_items 262432, l1_weight 0.010000.\n",
      "2023-03-26 17:38:47,016 - root - INFO - (val) algo binary_search step 8200: {'return': 0.9296875, 'score': 0.9296875, 'examples_seen': 262432, 'step': 8200, 'algorithm': 'binary_search'}\n",
      "2023-03-26 17:38:47,017 - root - INFO - Not saving new best model, best avg val score was 0.970, current avg val score is 0.930, val scores are: binary_search: 0.930\n",
      "2023-03-26 17:38:47,852 - root - INFO - Algo binary_search step 8250 current loss 0.090625, current_train_items 264032, l1_weight 0.010000.\n",
      "2023-03-26 17:38:48,448 - root - INFO - (val) algo binary_search step 8250: {'return': 0.951904296875, 'score': 0.951904296875, 'examples_seen': 264032, 'step': 8250, 'algorithm': 'binary_search'}\n",
      "2023-03-26 17:38:48,449 - root - INFO - Not saving new best model, best avg val score was 0.970, current avg val score is 0.952, val scores are: binary_search: 0.952\n",
      "2023-03-26 17:38:49,333 - root - INFO - Algo binary_search step 8300 current loss 0.833836, current_train_items 265632, l1_weight 0.010000.\n",
      "2023-03-26 17:38:49,901 - root - INFO - (val) algo binary_search step 8300: {'return': 0.907958984375, 'score': 0.907958984375, 'examples_seen': 265632, 'step': 8300, 'algorithm': 'binary_search'}\n",
      "2023-03-26 17:38:49,902 - root - INFO - Not saving new best model, best avg val score was 0.970, current avg val score is 0.908, val scores are: binary_search: 0.908\n",
      "2023-03-26 17:38:50,774 - root - INFO - Algo binary_search step 8350 current loss 0.274820, current_train_items 267232, l1_weight 0.010000.\n",
      "2023-03-26 17:38:51,446 - root - INFO - (val) algo binary_search step 8350: {'return': 0.884033203125, 'score': 0.884033203125, 'examples_seen': 267232, 'step': 8350, 'algorithm': 'binary_search'}\n",
      "2023-03-26 17:38:51,446 - root - INFO - Not saving new best model, best avg val score was 0.970, current avg val score is 0.884, val scores are: binary_search: 0.884\n",
      "2023-03-26 17:38:52,433 - root - INFO - Algo binary_search step 8400 current loss 0.050109, current_train_items 268832, l1_weight 0.010000.\n",
      "2023-03-26 17:38:53,058 - root - INFO - (val) algo binary_search step 8400: {'return': 0.94921875, 'score': 0.94921875, 'examples_seen': 268832, 'step': 8400, 'algorithm': 'binary_search'}\n",
      "2023-03-26 17:38:53,059 - root - INFO - Not saving new best model, best avg val score was 0.970, current avg val score is 0.949, val scores are: binary_search: 0.949\n",
      "2023-03-26 17:38:53,980 - root - INFO - Algo binary_search step 8450 current loss 0.353368, current_train_items 270432, l1_weight 0.010000.\n",
      "2023-03-26 17:38:54,585 - root - INFO - (val) algo binary_search step 8450: {'return': 0.97802734375, 'score': 0.97802734375, 'examples_seen': 270432, 'step': 8450, 'algorithm': 'binary_search'}\n",
      "2023-03-26 17:38:54,586 - root - INFO - Checkpointing best model, best avg val score was 0.970, current avg val score is 0.978, val scores are: binary_search: 0.978\n",
      "2023-03-26 17:38:55,547 - root - INFO - Algo binary_search step 8500 current loss 1.351665, current_train_items 272032, l1_weight 0.010000.\n",
      "2023-03-26 17:38:56,196 - root - INFO - (val) algo binary_search step 8500: {'return': 0.9013671875, 'score': 0.9013671875, 'examples_seen': 272032, 'step': 8500, 'algorithm': 'binary_search'}\n",
      "2023-03-26 17:38:56,197 - root - INFO - Not saving new best model, best avg val score was 0.978, current avg val score is 0.901, val scores are: binary_search: 0.901\n",
      "2023-03-26 17:38:57,119 - root - INFO - Algo binary_search step 8550 current loss 0.099991, current_train_items 273632, l1_weight 0.010000.\n",
      "2023-03-26 17:38:57,714 - root - INFO - (val) algo binary_search step 8550: {'return': 0.92333984375, 'score': 0.92333984375, 'examples_seen': 273632, 'step': 8550, 'algorithm': 'binary_search'}\n",
      "2023-03-26 17:38:57,715 - root - INFO - Not saving new best model, best avg val score was 0.978, current avg val score is 0.923, val scores are: binary_search: 0.923\n",
      "2023-03-26 17:38:58,768 - root - INFO - Algo binary_search step 8600 current loss 0.467890, current_train_items 275232, l1_weight 0.010000.\n",
      "2023-03-26 17:38:59,366 - root - INFO - (val) algo binary_search step 8600: {'return': 0.957763671875, 'score': 0.957763671875, 'examples_seen': 275232, 'step': 8600, 'algorithm': 'binary_search'}\n",
      "2023-03-26 17:38:59,367 - root - INFO - Not saving new best model, best avg val score was 0.978, current avg val score is 0.958, val scores are: binary_search: 0.958\n",
      "2023-03-26 17:39:00,399 - root - INFO - Algo binary_search step 8650 current loss 0.046072, current_train_items 276832, l1_weight 0.010000.\n",
      "2023-03-26 17:39:01,021 - root - INFO - (val) algo binary_search step 8650: {'return': 0.906005859375, 'score': 0.906005859375, 'examples_seen': 276832, 'step': 8650, 'algorithm': 'binary_search'}\n",
      "2023-03-26 17:39:01,022 - root - INFO - Not saving new best model, best avg val score was 0.978, current avg val score is 0.906, val scores are: binary_search: 0.906\n",
      "2023-03-26 17:39:02,019 - root - INFO - Algo binary_search step 8700 current loss 1.098123, current_train_items 278432, l1_weight 0.010000.\n",
      "2023-03-26 17:39:02,639 - root - INFO - (val) algo binary_search step 8700: {'return': 0.912109375, 'score': 0.912109375, 'examples_seen': 278432, 'step': 8700, 'algorithm': 'binary_search'}\n",
      "2023-03-26 17:39:02,639 - root - INFO - Not saving new best model, best avg val score was 0.978, current avg val score is 0.912, val scores are: binary_search: 0.912\n",
      "2023-03-26 17:39:03,653 - root - INFO - Algo binary_search step 8750 current loss 0.072516, current_train_items 280032, l1_weight 0.010000.\n",
      "2023-03-26 17:39:04,248 - root - INFO - (val) algo binary_search step 8750: {'return': 0.9609375, 'score': 0.9609375, 'examples_seen': 280032, 'step': 8750, 'algorithm': 'binary_search'}\n",
      "2023-03-26 17:39:04,249 - root - INFO - Not saving new best model, best avg val score was 0.978, current avg val score is 0.961, val scores are: binary_search: 0.961\n",
      "2023-03-26 17:39:05,203 - root - INFO - Algo binary_search step 8800 current loss 1.194924, current_train_items 281632, l1_weight 0.010000.\n",
      "2023-03-26 17:39:05,798 - root - INFO - (val) algo binary_search step 8800: {'return': 0.921630859375, 'score': 0.921630859375, 'examples_seen': 281632, 'step': 8800, 'algorithm': 'binary_search'}\n",
      "2023-03-26 17:39:05,799 - root - INFO - Not saving new best model, best avg val score was 0.978, current avg val score is 0.922, val scores are: binary_search: 0.922\n",
      "2023-03-26 17:39:06,800 - root - INFO - Algo binary_search step 8850 current loss 0.461601, current_train_items 283232, l1_weight 0.010000.\n",
      "2023-03-26 17:39:07,374 - root - INFO - (val) algo binary_search step 8850: {'return': 0.9033203125, 'score': 0.9033203125, 'examples_seen': 283232, 'step': 8850, 'algorithm': 'binary_search'}\n",
      "2023-03-26 17:39:07,375 - root - INFO - Not saving new best model, best avg val score was 0.978, current avg val score is 0.903, val scores are: binary_search: 0.903\n",
      "2023-03-26 17:39:08,378 - root - INFO - Algo binary_search step 8900 current loss 0.188959, current_train_items 284832, l1_weight 0.010000.\n",
      "2023-03-26 17:39:09,007 - root - INFO - (val) algo binary_search step 8900: {'return': 0.87744140625, 'score': 0.87744140625, 'examples_seen': 284832, 'step': 8900, 'algorithm': 'binary_search'}\n",
      "2023-03-26 17:39:09,008 - root - INFO - Not saving new best model, best avg val score was 0.978, current avg val score is 0.877, val scores are: binary_search: 0.877\n",
      "2023-03-26 17:39:09,960 - root - INFO - Algo binary_search step 8950 current loss 0.080164, current_train_items 286432, l1_weight 0.010000.\n",
      "2023-03-26 17:39:10,544 - root - INFO - (val) algo binary_search step 8950: {'return': 0.9638671875, 'score': 0.9638671875, 'examples_seen': 286432, 'step': 8950, 'algorithm': 'binary_search'}\n",
      "2023-03-26 17:39:10,545 - root - INFO - Not saving new best model, best avg val score was 0.978, current avg val score is 0.964, val scores are: binary_search: 0.964\n",
      "2023-03-26 17:39:11,498 - root - INFO - Algo binary_search step 9000 current loss 0.115086, current_train_items 288032, l1_weight 0.010000.\n",
      "2023-03-26 17:39:12,170 - root - INFO - (val) algo binary_search step 9000: {'return': 0.9541015625, 'score': 0.9541015625, 'examples_seen': 288032, 'step': 9000, 'algorithm': 'binary_search'}\n",
      "2023-03-26 17:39:12,171 - root - INFO - Not saving new best model, best avg val score was 0.978, current avg val score is 0.954, val scores are: binary_search: 0.954\n",
      "2023-03-26 17:39:13,137 - root - INFO - Algo binary_search step 9050 current loss 2.812957, current_train_items 289632, l1_weight 0.010000.\n",
      "2023-03-26 17:39:13,732 - root - INFO - (val) algo binary_search step 9050: {'return': 0.9560546875, 'score': 0.9560546875, 'examples_seen': 289632, 'step': 9050, 'algorithm': 'binary_search'}\n",
      "2023-03-26 17:39:13,733 - root - INFO - Not saving new best model, best avg val score was 0.978, current avg val score is 0.956, val scores are: binary_search: 0.956\n",
      "2023-03-26 17:39:14,763 - root - INFO - Algo binary_search step 9100 current loss 0.116139, current_train_items 291232, l1_weight 0.010000.\n",
      "2023-03-26 17:39:15,337 - root - INFO - (val) algo binary_search step 9100: {'return': 0.92822265625, 'score': 0.92822265625, 'examples_seen': 291232, 'step': 9100, 'algorithm': 'binary_search'}\n",
      "2023-03-26 17:39:15,338 - root - INFO - Not saving new best model, best avg val score was 0.978, current avg val score is 0.928, val scores are: binary_search: 0.928\n",
      "2023-03-26 17:39:16,213 - root - INFO - Algo binary_search step 9150 current loss 0.387744, current_train_items 292832, l1_weight 0.010000.\n",
      "2023-03-26 17:39:16,782 - root - INFO - (val) algo binary_search step 9150: {'return': 0.950927734375, 'score': 0.950927734375, 'examples_seen': 292832, 'step': 9150, 'algorithm': 'binary_search'}\n",
      "2023-03-26 17:39:16,783 - root - INFO - Not saving new best model, best avg val score was 0.978, current avg val score is 0.951, val scores are: binary_search: 0.951\n",
      "2023-03-26 17:39:17,863 - root - INFO - Algo binary_search step 9200 current loss 0.681066, current_train_items 294432, l1_weight 0.010000.\n",
      "2023-03-26 17:39:18,506 - root - INFO - (val) algo binary_search step 9200: {'return': 0.93212890625, 'score': 0.93212890625, 'examples_seen': 294432, 'step': 9200, 'algorithm': 'binary_search'}\n",
      "2023-03-26 17:39:18,506 - root - INFO - Not saving new best model, best avg val score was 0.978, current avg val score is 0.932, val scores are: binary_search: 0.932\n",
      "2023-03-26 17:39:19,492 - root - INFO - Algo binary_search step 9250 current loss 0.572812, current_train_items 296032, l1_weight 0.010000.\n",
      "2023-03-26 17:39:20,113 - root - INFO - (val) algo binary_search step 9250: {'return': 0.935791015625, 'score': 0.935791015625, 'examples_seen': 296032, 'step': 9250, 'algorithm': 'binary_search'}\n",
      "2023-03-26 17:39:20,113 - root - INFO - Not saving new best model, best avg val score was 0.978, current avg val score is 0.936, val scores are: binary_search: 0.936\n",
      "2023-03-26 17:39:21,005 - root - INFO - Algo binary_search step 9300 current loss 0.554475, current_train_items 297632, l1_weight 0.010000.\n",
      "2023-03-26 17:39:21,594 - root - INFO - (val) algo binary_search step 9300: {'return': 0.960693359375, 'score': 0.960693359375, 'examples_seen': 297632, 'step': 9300, 'algorithm': 'binary_search'}\n",
      "2023-03-26 17:39:21,595 - root - INFO - Not saving new best model, best avg val score was 0.978, current avg val score is 0.961, val scores are: binary_search: 0.961\n",
      "2023-03-26 17:39:22,490 - root - INFO - Algo binary_search step 9350 current loss 0.715690, current_train_items 299232, l1_weight 0.010000.\n",
      "2023-03-26 17:39:23,077 - root - INFO - (val) algo binary_search step 9350: {'return': 0.901611328125, 'score': 0.901611328125, 'examples_seen': 299232, 'step': 9350, 'algorithm': 'binary_search'}\n",
      "2023-03-26 17:39:23,078 - root - INFO - Not saving new best model, best avg val score was 0.978, current avg val score is 0.902, val scores are: binary_search: 0.902\n",
      "2023-03-26 17:39:24,032 - root - INFO - Algo binary_search step 9400 current loss 0.046865, current_train_items 300832, l1_weight 0.010000.\n",
      "2023-03-26 17:39:24,637 - root - INFO - (val) algo binary_search step 9400: {'return': 0.886962890625, 'score': 0.886962890625, 'examples_seen': 300832, 'step': 9400, 'algorithm': 'binary_search'}\n",
      "2023-03-26 17:39:24,638 - root - INFO - Not saving new best model, best avg val score was 0.978, current avg val score is 0.887, val scores are: binary_search: 0.887\n",
      "2023-03-26 17:39:25,653 - root - INFO - Algo binary_search step 9450 current loss 0.058322, current_train_items 302432, l1_weight 0.010000.\n",
      "2023-03-26 17:39:26,251 - root - INFO - (val) algo binary_search step 9450: {'return': 0.966064453125, 'score': 0.966064453125, 'examples_seen': 302432, 'step': 9450, 'algorithm': 'binary_search'}\n",
      "2023-03-26 17:39:26,252 - root - INFO - Not saving new best model, best avg val score was 0.978, current avg val score is 0.966, val scores are: binary_search: 0.966\n",
      "2023-03-26 17:39:27,119 - root - INFO - Algo binary_search step 9500 current loss 0.909007, current_train_items 304032, l1_weight 0.010000.\n",
      "2023-03-26 17:39:27,760 - root - INFO - (val) algo binary_search step 9500: {'return': 0.962646484375, 'score': 0.962646484375, 'examples_seen': 304032, 'step': 9500, 'algorithm': 'binary_search'}\n",
      "2023-03-26 17:39:27,761 - root - INFO - Not saving new best model, best avg val score was 0.978, current avg val score is 0.963, val scores are: binary_search: 0.963\n",
      "2023-03-26 17:39:28,778 - root - INFO - Algo binary_search step 9550 current loss 0.140143, current_train_items 305632, l1_weight 0.010000.\n",
      "2023-03-26 17:39:29,336 - root - INFO - (val) algo binary_search step 9550: {'return': 0.6767578125, 'score': 0.6767578125, 'examples_seen': 305632, 'step': 9550, 'algorithm': 'binary_search'}\n",
      "2023-03-26 17:39:29,337 - root - INFO - Not saving new best model, best avg val score was 0.978, current avg val score is 0.677, val scores are: binary_search: 0.677\n",
      "2023-03-26 17:39:30,327 - root - INFO - Algo binary_search step 9600 current loss 0.173801, current_train_items 307232, l1_weight 0.010000.\n",
      "2023-03-26 17:39:30,888 - root - INFO - (val) algo binary_search step 9600: {'return': 0.880859375, 'score': 0.880859375, 'examples_seen': 307232, 'step': 9600, 'algorithm': 'binary_search'}\n",
      "2023-03-26 17:39:30,889 - root - INFO - Not saving new best model, best avg val score was 0.978, current avg val score is 0.881, val scores are: binary_search: 0.881\n",
      "2023-03-26 17:39:31,949 - root - INFO - Algo binary_search step 9650 current loss 0.176516, current_train_items 308832, l1_weight 0.010000.\n",
      "2023-03-26 17:39:32,566 - root - INFO - (val) algo binary_search step 9650: {'return': 0.862060546875, 'score': 0.862060546875, 'examples_seen': 308832, 'step': 9650, 'algorithm': 'binary_search'}\n",
      "2023-03-26 17:39:32,567 - root - INFO - Not saving new best model, best avg val score was 0.978, current avg val score is 0.862, val scores are: binary_search: 0.862\n",
      "2023-03-26 17:39:33,542 - root - INFO - Algo binary_search step 9700 current loss 0.216713, current_train_items 310432, l1_weight 0.010000.\n",
      "2023-03-26 17:39:34,078 - root - INFO - (val) algo binary_search step 9700: {'return': 0.96923828125, 'score': 0.96923828125, 'examples_seen': 310432, 'step': 9700, 'algorithm': 'binary_search'}\n",
      "2023-03-26 17:39:34,078 - root - INFO - Not saving new best model, best avg val score was 0.978, current avg val score is 0.969, val scores are: binary_search: 0.969\n",
      "2023-03-26 17:39:35,132 - root - INFO - Algo binary_search step 9750 current loss 0.042073, current_train_items 312032, l1_weight 0.010000.\n",
      "2023-03-26 17:39:35,710 - root - INFO - (val) algo binary_search step 9750: {'return': 0.966552734375, 'score': 0.966552734375, 'examples_seen': 312032, 'step': 9750, 'algorithm': 'binary_search'}\n",
      "2023-03-26 17:39:35,711 - root - INFO - Not saving new best model, best avg val score was 0.978, current avg val score is 0.967, val scores are: binary_search: 0.967\n",
      "2023-03-26 17:39:36,706 - root - INFO - Algo binary_search step 9800 current loss 0.328611, current_train_items 313632, l1_weight 0.010000.\n",
      "2023-03-26 17:39:37,264 - root - INFO - (val) algo binary_search step 9800: {'return': 0.943359375, 'score': 0.943359375, 'examples_seen': 313632, 'step': 9800, 'algorithm': 'binary_search'}\n",
      "2023-03-26 17:39:37,265 - root - INFO - Not saving new best model, best avg val score was 0.978, current avg val score is 0.943, val scores are: binary_search: 0.943\n",
      "2023-03-26 17:39:38,327 - root - INFO - Algo binary_search step 9850 current loss 0.255191, current_train_items 315232, l1_weight 0.010000.\n",
      "2023-03-26 17:39:38,983 - root - INFO - (val) algo binary_search step 9850: {'return': 0.862060546875, 'score': 0.862060546875, 'examples_seen': 315232, 'step': 9850, 'algorithm': 'binary_search'}\n",
      "2023-03-26 17:39:38,984 - root - INFO - Not saving new best model, best avg val score was 0.978, current avg val score is 0.862, val scores are: binary_search: 0.862\n",
      "2023-03-26 17:39:39,960 - root - INFO - Algo binary_search step 9900 current loss 0.170564, current_train_items 316832, l1_weight 0.010000.\n",
      "2023-03-26 17:39:40,613 - root - INFO - (val) algo binary_search step 9900: {'return': 0.9609375, 'score': 0.9609375, 'examples_seen': 316832, 'step': 9900, 'algorithm': 'binary_search'}\n",
      "2023-03-26 17:39:40,613 - root - INFO - Not saving new best model, best avg val score was 0.978, current avg val score is 0.961, val scores are: binary_search: 0.961\n",
      "2023-03-26 17:39:41,474 - root - INFO - Algo binary_search step 9950 current loss 0.086371, current_train_items 318432, l1_weight 0.010000.\n",
      "2023-03-26 17:39:42,093 - root - INFO - (val) algo binary_search step 9950: {'return': 0.963623046875, 'score': 0.963623046875, 'examples_seen': 318432, 'step': 9950, 'algorithm': 'binary_search'}\n",
      "2023-03-26 17:39:42,094 - root - INFO - Not saving new best model, best avg val score was 0.978, current avg val score is 0.964, val scores are: binary_search: 0.964\n",
      "2023-03-26 17:39:43,000 - root - INFO - Checkpointing final model, best avg val score was 0.978, current avg val score is 0.964, val scores are: binary_search: 0.964\n",
      "2023-03-26 17:39:43,031 - root - INFO - Restoring best model from checkpoint...\n"
     ]
    }
   ],
   "source": [
    "# Training loop.\n",
    "best_score = -1.0\n",
    "current_train_items = [0] * len(FLAGS.algorithms)\n",
    "step = 0\n",
    "next_eval = 0\n",
    "# Make sure scores improve on first step, but not overcome best score\n",
    "# until all algos have had at least one evaluation.\n",
    "val_scores = [-99999.9] * len(FLAGS.algorithms)\n",
    "length_idx = 0\n",
    "\n",
    "while step < FLAGS.train_steps:\n",
    "    feedback_list = [next(t) for t in train_samplers]\n",
    "\n",
    "    # Initialize model.\n",
    "    if step == 0:\n",
    "        all_features = [f.features for f in feedback_list]\n",
    "        if FLAGS.chunked_training:\n",
    "            # We need to initialize the model with samples of all lengths for\n",
    "            # all algorithms. Also, we need to make sure that the order of these\n",
    "            # sample sizes is the same as the order of the actual training sizes.\n",
    "            all_length_features = [all_features] + [\n",
    "                [next(t).features for t in train_samplers]\n",
    "                for _ in range(len(train_lengths))]\n",
    "            train_model.init(all_length_features[:-1], FLAGS.seed + 1)\n",
    "        else:\n",
    "            train_model.init(all_features, FLAGS.seed + 1)\n",
    "\n",
    "    train_model.l1_weight = l1_weight_fn(step)\n",
    "    # Training step.\n",
    "    for algo_idx in range(len(train_samplers)):\n",
    "        feedback = feedback_list[algo_idx]\n",
    "        rng_key, new_rng_key = jax.random.split(rng_key)\n",
    "        if FLAGS.chunked_training:\n",
    "            # In chunked training, we must indicate which training length we are\n",
    "            # using, so the model uses the correct state.\n",
    "            length_and_algo_idx = (length_idx, algo_idx)\n",
    "        else:\n",
    "            # In non-chunked training, all training lengths can be treated equally,\n",
    "            # since there is no state to maintain between batches.\n",
    "            length_and_algo_idx = algo_idx\n",
    "        cur_loss = train_model.feedback(\n",
    "            rng_key, feedback, length_and_algo_idx)\n",
    "        rng_key = new_rng_key\n",
    "\n",
    "        if FLAGS.chunked_training:\n",
    "            examples_in_chunk = np.sum(feedback.features.is_last).item()\n",
    "        else:\n",
    "            examples_in_chunk = len(feedback.features.lengths)\n",
    "        current_train_items[algo_idx] += examples_in_chunk\n",
    "        if step % 50 == 0:\n",
    "            logging.info('Algo %s step %i current loss %f, current_train_items %i, l1_weight %f.',\n",
    "                        FLAGS.algorithms[algo_idx], step,\n",
    "                        cur_loss, current_train_items[algo_idx], train_model.l1_weight)\n",
    "\n",
    "    # Periodically evaluate model\n",
    "    if step >= next_eval:\n",
    "        eval_model.params = train_model.params\n",
    "        for algo_idx in range(len(train_samplers)):\n",
    "            common_extras = {'examples_seen': current_train_items[algo_idx],\n",
    "                             'step': step,\n",
    "                             'algorithm': FLAGS.algorithms[algo_idx]}\n",
    "\n",
    "            # Validation info.\n",
    "            new_rng_key, rng_key = jax.random.split(rng_key)\n",
    "            val_stats = collect_and_eval(\n",
    "                val_samplers[algo_idx],\n",
    "                functools.partial(eval_model.predict,\n",
    "                                  algorithm_index=algo_idx),\n",
    "                val_sample_counts[algo_idx],\n",
    "                new_rng_key,\n",
    "                extras=common_extras)\n",
    "            logging.info('(val) algo %s step %d: %s',\n",
    "                         FLAGS.algorithms[algo_idx], step, val_stats)\n",
    "            val_scores[algo_idx] = val_stats['score']\n",
    "\n",
    "        next_eval += FLAGS.eval_every\n",
    "\n",
    "        # If best total score, update best checkpoint.\n",
    "        # Also save a best checkpoint on the first step.\n",
    "        msg = (f'best avg val score was '\n",
    "               f'{best_score/len(FLAGS.algorithms):.3f}, '\n",
    "               f'current avg val score is {np.mean(val_scores):.3f}, '\n",
    "               f'val scores are: ')\n",
    "        msg += ', '.join(\n",
    "            ['%s: %.3f' % (x, y) for (x, y) in zip(FLAGS.algorithms, val_scores)])\n",
    "        if (sum(val_scores) > best_score) or step == 0:\n",
    "            best_score = sum(val_scores)\n",
    "            logging.info('Checkpointing best model, %s', msg)\n",
    "            train_model.save_model('best.pkl')\n",
    "        else:\n",
    "            logging.info('Not saving new best model, %s', msg)\n",
    "\n",
    "    step += 1\n",
    "    length_idx = (length_idx + 1) % len(train_lengths)\n",
    "\n",
    "logging.info('Checkpointing final model, %s', msg)\n",
    "train_model.save_model('final.pkl')\n",
    "\n",
    "logging.info('Restoring best model from checkpoint...')\n",
    "eval_model.restore_model('best.pkl', only_load_processor=False)\n",
    "# logging.info('Restoring final model from checkpoint...')\n",
    "# eval_model.restore_model('final.pkl', only_load_processor=False)"
   ]
  },
  {
   "cell_type": "code",
   "execution_count": 16,
   "id": "7414d87c",
   "metadata": {},
   "outputs": [],
   "source": [
    "import pickle\n",
    "\n",
    "def restore_model(model, file_name):\n",
    "    \"\"\"Restore model from `file_name`.\"\"\"\n",
    "    with open(file_name, 'rb') as f:\n",
    "        restored_state = pickle.load(f)\n",
    "        restored_params = restored_state['params']\n",
    "        model.params = hk.data_structures.merge(restored_params)\n",
    "        model.opt_state = restored_state['opt_state']\n",
    "\n",
    "def save_model(model, file_name):\n",
    "    \"\"\"Save model (processor weights only) to `file_name`.\"\"\"\n",
    "    to_save = {'params': model.params, 'opt_state': model.opt_state}\n",
    "    with open(file_name, 'wb') as f:\n",
    "        pickle.dump(to_save, f)"
   ]
  },
  {
   "cell_type": "code",
   "execution_count": 17,
   "id": "c4c11566",
   "metadata": {},
   "outputs": [],
   "source": [
    "# save_model(eval_model, 'eval_model_1e-3.pkl')"
   ]
  },
  {
   "cell_type": "code",
   "execution_count": 18,
   "id": "fb459f1b",
   "metadata": {},
   "outputs": [],
   "source": [
    "# restore_model(eval_model, 'eval_model_asdf.pkl')"
   ]
  },
  {
   "cell_type": "code",
   "execution_count": 19,
   "id": "1aed2485",
   "metadata": {},
   "outputs": [
    {
     "name": "stdout",
     "output_type": "stream",
     "text": [
      "{'return': 0.969970703125, 'score': 0.969970703125}\n"
     ]
    }
   ],
   "source": [
    "algo_idx = 0\n",
    "common_extras = {}\n",
    "\n",
    "new_rng_key, rng_key = jax.random.split(rng_key)\n",
    "val_stats = collect_and_eval(\n",
    "    val_samplers[algo_idx],\n",
    "    functools.partial(eval_model.predict, algorithm_index=algo_idx),\n",
    "    val_sample_counts[algo_idx],\n",
    "    new_rng_key,\n",
    "    extras=common_extras)\n",
    "\n",
    "print(val_stats)"
   ]
  },
  {
   "cell_type": "code",
   "execution_count": 20,
   "id": "a2b7510d",
   "metadata": {},
   "outputs": [
    {
     "name": "stdout",
     "output_type": "stream",
     "text": [
      "{'return': 0.84033203125, 'score': 0.84033203125}\n"
     ]
    }
   ],
   "source": [
    "new_rng_key, rng_key = jax.random.split(rng_key)\n",
    "test_stats = collect_and_eval(\n",
    "    test_samplers[algo_idx],\n",
    "    functools.partial(eval_model.predict, algorithm_index=algo_idx),\n",
    "    test_sample_counts[algo_idx],\n",
    "    new_rng_key,\n",
    "    extras=common_extras)\n",
    "\n",
    "print(test_stats)"
   ]
  },
  {
   "cell_type": "code",
   "execution_count": 21,
   "id": "00b5f2bd",
   "metadata": {},
   "outputs": [],
   "source": [
    "feedback = next(train_samplers[0])"
   ]
  },
  {
   "cell_type": "code",
   "execution_count": 22,
   "id": "6eede5e8",
   "metadata": {},
   "outputs": [
    {
     "data": {
      "text/plain": [
       "['_asdict',\n",
       " '_field_defaults',\n",
       " '_fields',\n",
       " '_fields_defaults',\n",
       " '_make',\n",
       " '_replace',\n",
       " 'count',\n",
       " 'features',\n",
       " 'index',\n",
       " 'outputs']"
      ]
     },
     "execution_count": 22,
     "metadata": {},
     "output_type": "execute_result"
    }
   ],
   "source": [
    "list(filter(lambda x: x[:2] != '__', dir(feedback)))"
   ]
  },
  {
   "cell_type": "code",
   "execution_count": 23,
   "id": "aa70e0c0",
   "metadata": {},
   "outputs": [
    {
     "data": {
      "text/plain": [
       "['_asdict',\n",
       " '_field_defaults',\n",
       " '_fields',\n",
       " '_fields_defaults',\n",
       " '_make',\n",
       " '_replace',\n",
       " 'count',\n",
       " 'hints',\n",
       " 'index',\n",
       " 'inputs',\n",
       " 'lengths']"
      ]
     },
     "execution_count": 23,
     "metadata": {},
     "output_type": "execute_result"
    }
   ],
   "source": [
    "list(filter(lambda x: x[:2] != '__', dir(feedback.features)))"
   ]
  },
  {
   "cell_type": "code",
   "execution_count": 24,
   "id": "87285504",
   "metadata": {},
   "outputs": [
    {
     "data": {
      "text/plain": [
       "Features(inputs=(DataPoint(name=\"pos\",\tlocation=node,\ttype=scalar,\tdata=Array(32, 4)), DataPoint(name=\"key\",\tlocation=node,\ttype=scalar,\tdata=Array(32, 4)), DataPoint(name=\"target\",\tlocation=graph,\ttype=scalar,\tdata=Array(32,)), DataPoint(name=\"pred\",\tlocation=node,\ttype=pointer,\tdata=Array(32, 4))), hints=(DataPoint(name=\"low\",\tlocation=node,\ttype=mask_one,\tdata=Array(3, 32, 4)), DataPoint(name=\"high\",\tlocation=node,\ttype=mask_one,\tdata=Array(3, 32, 4)), DataPoint(name=\"mid\",\tlocation=node,\ttype=mask_one,\tdata=Array(3, 32, 4))), lengths=array([3., 3., 3., 3., 3., 3., 3., 3., 3., 3., 3., 3., 3., 3., 3., 3., 3.,\n",
       "       3., 3., 3., 3., 3., 3., 3., 3., 3., 3., 3., 3., 3., 3., 3.]))"
      ]
     },
     "execution_count": 24,
     "metadata": {},
     "output_type": "execute_result"
    }
   ],
   "source": [
    "feedback.features"
   ]
  },
  {
   "cell_type": "code",
   "execution_count": 25,
   "id": "9cd67ac0",
   "metadata": {},
   "outputs": [
    {
     "data": {
      "text/plain": [
       "(DataPoint(name=\"pos\",\tlocation=node,\ttype=scalar,\tdata=Array(32, 4)),\n",
       " DataPoint(name=\"key\",\tlocation=node,\ttype=scalar,\tdata=Array(32, 4)),\n",
       " DataPoint(name=\"target\",\tlocation=graph,\ttype=scalar,\tdata=Array(32,)),\n",
       " DataPoint(name=\"pred\",\tlocation=node,\ttype=pointer,\tdata=Array(32, 4)))"
      ]
     },
     "execution_count": 25,
     "metadata": {},
     "output_type": "execute_result"
    }
   ],
   "source": [
    "feedback.features.inputs"
   ]
  },
  {
   "cell_type": "code",
   "execution_count": 26,
   "id": "14e01e9f",
   "metadata": {},
   "outputs": [
    {
     "data": {
      "text/plain": [
       "array([[0.  , 0.25, 0.5 , 0.75],\n",
       "       [0.  , 0.25, 0.5 , 0.75],\n",
       "       [0.  , 0.25, 0.5 , 0.75],\n",
       "       [0.  , 0.25, 0.5 , 0.75],\n",
       "       [0.  , 0.25, 0.5 , 0.75],\n",
       "       [0.  , 0.25, 0.5 , 0.75],\n",
       "       [0.  , 0.25, 0.5 , 0.75],\n",
       "       [0.  , 0.25, 0.5 , 0.75],\n",
       "       [0.  , 0.25, 0.5 , 0.75],\n",
       "       [0.  , 0.25, 0.5 , 0.75],\n",
       "       [0.  , 0.25, 0.5 , 0.75],\n",
       "       [0.  , 0.25, 0.5 , 0.75],\n",
       "       [0.  , 0.25, 0.5 , 0.75],\n",
       "       [0.  , 0.25, 0.5 , 0.75],\n",
       "       [0.  , 0.25, 0.5 , 0.75],\n",
       "       [0.  , 0.25, 0.5 , 0.75],\n",
       "       [0.  , 0.25, 0.5 , 0.75],\n",
       "       [0.  , 0.25, 0.5 , 0.75],\n",
       "       [0.  , 0.25, 0.5 , 0.75],\n",
       "       [0.  , 0.25, 0.5 , 0.75],\n",
       "       [0.  , 0.25, 0.5 , 0.75],\n",
       "       [0.  , 0.25, 0.5 , 0.75],\n",
       "       [0.  , 0.25, 0.5 , 0.75],\n",
       "       [0.  , 0.25, 0.5 , 0.75],\n",
       "       [0.  , 0.25, 0.5 , 0.75],\n",
       "       [0.  , 0.25, 0.5 , 0.75],\n",
       "       [0.  , 0.25, 0.5 , 0.75],\n",
       "       [0.  , 0.25, 0.5 , 0.75],\n",
       "       [0.  , 0.25, 0.5 , 0.75],\n",
       "       [0.  , 0.25, 0.5 , 0.75],\n",
       "       [0.  , 0.25, 0.5 , 0.75],\n",
       "       [0.  , 0.25, 0.5 , 0.75]])"
      ]
     },
     "execution_count": 26,
     "metadata": {},
     "output_type": "execute_result"
    }
   ],
   "source": [
    "feedback.features.inputs[0].data"
   ]
  },
  {
   "cell_type": "code",
   "execution_count": 27,
   "id": "03d5c9a0",
   "metadata": {},
   "outputs": [
    {
     "data": {
      "text/plain": [
       "array([[0.14505245, 0.50669634, 0.69746885, 0.99827601],\n",
       "       [0.04907691, 0.55939811, 0.60407716, 0.69362913],\n",
       "       [0.22850282, 0.32995465, 0.45680348, 0.4631161 ],\n",
       "       [0.60183918, 0.61901712, 0.75530681, 0.84752412],\n",
       "       [0.06522265, 0.49855728, 0.71561711, 0.74078881],\n",
       "       [0.13983012, 0.26721134, 0.34307139, 0.61253297],\n",
       "       [0.44517601, 0.59939087, 0.70310817, 0.71624527],\n",
       "       [0.21499737, 0.22490709, 0.2290317 , 0.27179855],\n",
       "       [0.0659541 , 0.36794665, 0.64325931, 0.66634537],\n",
       "       [0.00141337, 0.02005159, 0.42050811, 0.75774222],\n",
       "       [0.47937064, 0.76829195, 0.77577855, 0.89999182],\n",
       "       [0.11322815, 0.4436976 , 0.45798428, 0.73927385],\n",
       "       [0.02718076, 0.39560593, 0.47574331, 0.57584161],\n",
       "       [0.25199846, 0.42218847, 0.66165925, 0.75193187],\n",
       "       [0.17945598, 0.19686362, 0.23018133, 0.98835444],\n",
       "       [0.03165351, 0.19228618, 0.82584994, 0.9468503 ],\n",
       "       [0.17438562, 0.74685971, 0.74929382, 0.85605148],\n",
       "       [0.10119071, 0.32314454, 0.49878189, 0.85232654],\n",
       "       [0.06727201, 0.20323862, 0.23001904, 0.50684549],\n",
       "       [0.11054454, 0.62387887, 0.83323288, 0.84450592],\n",
       "       [0.0831403 , 0.24122579, 0.65606492, 0.87078072],\n",
       "       [0.07264727, 0.19025479, 0.35795472, 0.79279348],\n",
       "       [0.38655067, 0.76316131, 0.8115511 , 0.95745659],\n",
       "       [0.23878137, 0.30550811, 0.41370526, 0.47864961],\n",
       "       [0.22205631, 0.27953945, 0.59365271, 0.7501302 ],\n",
       "       [0.22402623, 0.6847051 , 0.69710173, 0.92975466],\n",
       "       [0.18353386, 0.23174681, 0.70026261, 0.77073594],\n",
       "       [0.23150672, 0.6449111 , 0.84121712, 0.96025621],\n",
       "       [0.41883853, 0.53734346, 0.69045939, 0.90988346],\n",
       "       [0.16118089, 0.2325547 , 0.34271266, 0.5817026 ],\n",
       "       [0.09291824, 0.1437308 , 0.16971238, 0.61925323],\n",
       "       [0.48965323, 0.68657781, 0.68861899, 0.88458432]])"
      ]
     },
     "execution_count": 27,
     "metadata": {},
     "output_type": "execute_result"
    }
   ],
   "source": [
    "feedback.features.inputs[1].data"
   ]
  },
  {
   "cell_type": "code",
   "execution_count": 28,
   "id": "b16a11f0",
   "metadata": {},
   "outputs": [
    {
     "data": {
      "text/plain": [
       "array([0.90789178, 0.76675769, 0.46466379, 0.21048436, 0.19953704,\n",
       "       0.71214855, 0.72076151, 0.11210543, 0.72746734, 0.47947478,\n",
       "       0.50966803, 0.45263618, 0.77380012, 0.48942764, 0.96081892,\n",
       "       0.95727694, 0.10890818, 0.5357713 , 0.80139012, 0.57620145,\n",
       "       0.93474738, 0.89697058, 0.57118694, 0.48263026, 0.2236446 ,\n",
       "       0.6904246 , 0.91944913, 0.11814233, 0.64556645, 0.37133494,\n",
       "       0.4398061 , 0.70607906])"
      ]
     },
     "execution_count": 28,
     "metadata": {},
     "output_type": "execute_result"
    }
   ],
   "source": [
    "feedback.features.inputs[2].data"
   ]
  },
  {
   "cell_type": "code",
   "execution_count": 29,
   "id": "97d00fa5",
   "metadata": {},
   "outputs": [
    {
     "data": {
      "text/plain": [
       "array([[0., 0., 1., 2.],\n",
       "       [0., 0., 1., 2.],\n",
       "       [0., 0., 1., 2.],\n",
       "       [0., 0., 1., 2.],\n",
       "       [0., 0., 1., 2.],\n",
       "       [0., 0., 1., 2.],\n",
       "       [0., 0., 1., 2.],\n",
       "       [0., 0., 1., 2.],\n",
       "       [0., 0., 1., 2.],\n",
       "       [0., 0., 1., 2.],\n",
       "       [0., 0., 1., 2.],\n",
       "       [0., 0., 1., 2.],\n",
       "       [0., 0., 1., 2.],\n",
       "       [0., 0., 1., 2.],\n",
       "       [0., 0., 1., 2.],\n",
       "       [0., 0., 1., 2.],\n",
       "       [0., 0., 1., 2.],\n",
       "       [0., 0., 1., 2.],\n",
       "       [0., 0., 1., 2.],\n",
       "       [0., 0., 1., 2.],\n",
       "       [0., 0., 1., 2.],\n",
       "       [0., 0., 1., 2.],\n",
       "       [0., 0., 1., 2.],\n",
       "       [0., 0., 1., 2.],\n",
       "       [0., 0., 1., 2.],\n",
       "       [0., 0., 1., 2.],\n",
       "       [0., 0., 1., 2.],\n",
       "       [0., 0., 1., 2.],\n",
       "       [0., 0., 1., 2.],\n",
       "       [0., 0., 1., 2.],\n",
       "       [0., 0., 1., 2.],\n",
       "       [0., 0., 1., 2.]])"
      ]
     },
     "execution_count": 29,
     "metadata": {},
     "output_type": "execute_result"
    }
   ],
   "source": [
    "feedback.features.inputs[3].data"
   ]
  },
  {
   "cell_type": "code",
   "execution_count": 30,
   "id": "9a78496b",
   "metadata": {},
   "outputs": [],
   "source": [
    "A = feedback.features.inputs[2].data\n",
    "adj = feedback.features.inputs[3].data"
   ]
  },
  {
   "cell_type": "code",
   "execution_count": 31,
   "id": "b58635a0",
   "metadata": {},
   "outputs": [
    {
     "data": {
      "text/plain": [
       "(Array([ 0,  0,  1,  1,  2,  2,  3,  3,  4,  4,  5,  5,  6,  6,  7,  7,  8,\n",
       "         8,  9,  9, 10, 10, 11, 11, 12, 12, 13, 13, 14, 14, 15, 15, 16, 16,\n",
       "        17, 17, 18, 18, 19, 19, 20, 20, 21, 21, 22, 22, 23, 23, 24, 24, 25,\n",
       "        25, 26, 26, 27, 27, 28, 28, 29, 29, 30, 30, 31, 31], dtype=int32),\n",
       " Array([0, 1, 0, 1, 0, 1, 0, 1, 0, 1, 0, 1, 0, 1, 0, 1, 0, 1, 0, 1, 0, 1,\n",
       "        0, 1, 0, 1, 0, 1, 0, 1, 0, 1, 0, 1, 0, 1, 0, 1, 0, 1, 0, 1, 0, 1,\n",
       "        0, 1, 0, 1, 0, 1, 0, 1, 0, 1, 0, 1, 0, 1, 0, 1, 0, 1, 0, 1],      dtype=int32))"
      ]
     },
     "execution_count": 31,
     "metadata": {},
     "output_type": "execute_result"
    }
   ],
   "source": [
    "jnp.where(jnp.expand_dims((A != 0), 1) & (adj == 0))"
   ]
  },
  {
   "cell_type": "code",
   "execution_count": 32,
   "id": "19b9ee9c",
   "metadata": {},
   "outputs": [
    {
     "data": {
      "text/plain": [
       "(DataPoint(name=\"low\",\tlocation=node,\ttype=mask_one,\tdata=Array(3, 32, 4)),\n",
       " DataPoint(name=\"high\",\tlocation=node,\ttype=mask_one,\tdata=Array(3, 32, 4)),\n",
       " DataPoint(name=\"mid\",\tlocation=node,\ttype=mask_one,\tdata=Array(3, 32, 4)))"
      ]
     },
     "execution_count": 32,
     "metadata": {},
     "output_type": "execute_result"
    }
   ],
   "source": [
    "feedback.features.hints"
   ]
  },
  {
   "cell_type": "code",
   "execution_count": 33,
   "id": "0b088c90",
   "metadata": {},
   "outputs": [
    {
     "data": {
      "text/plain": [
       "array([0, 0, 0, 0, 0, 0, 0, 0, 0, 0, 0, 0, 0, 0, 0, 0, 0, 0, 0, 0, 0, 0,\n",
       "       0, 0, 0, 0, 0, 0, 0, 0, 0, 0])"
      ]
     },
     "execution_count": 33,
     "metadata": {},
     "output_type": "execute_result"
    }
   ],
   "source": [
    "np.argmin(feedback.features.inputs[0].data, axis=1)"
   ]
  },
  {
   "cell_type": "code",
   "execution_count": 34,
   "id": "7396caeb",
   "metadata": {},
   "outputs": [
    {
     "data": {
      "text/plain": [
       "(array([ 0,  1,  2,  3,  4,  5,  6,  7,  8,  9, 10, 11, 12, 13, 14, 15, 16,\n",
       "        17, 18, 19, 20, 21, 22, 23, 24, 25, 26, 27, 28, 29, 30, 31]),\n",
       " array([3, 3, 3, 0, 1, 3, 3, 0, 3, 3, 1, 2, 3, 2, 3, 3, 0, 3, 3, 1, 3, 3,\n",
       "        1, 3, 1, 2, 3, 0, 2, 3, 3, 3]))"
      ]
     },
     "execution_count": 34,
     "metadata": {},
     "output_type": "execute_result"
    }
   ],
   "source": [
    "np.where(feedback.outputs[0].data == 1)"
   ]
  },
  {
   "cell_type": "code",
   "execution_count": 35,
   "id": "96f1aa77",
   "metadata": {},
   "outputs": [
    {
     "data": {
      "text/plain": [
       "2048"
      ]
     },
     "execution_count": 35,
     "metadata": {},
     "output_type": "execute_result"
    }
   ],
   "source": [
    "test_sample_counts[0]"
   ]
  },
  {
   "cell_type": "code",
   "execution_count": 36,
   "id": "183fb917",
   "metadata": {},
   "outputs": [
    {
     "data": {
      "text/plain": [
       "Features(inputs=(DataPoint(name=\"pos\",\tlocation=node,\ttype=scalar,\tdata=Array(32, 4)), DataPoint(name=\"key\",\tlocation=node,\ttype=scalar,\tdata=Array(32, 4)), DataPoint(name=\"target\",\tlocation=graph,\ttype=scalar,\tdata=Array(32,)), DataPoint(name=\"pred\",\tlocation=node,\ttype=pointer,\tdata=Array(32, 4))), hints=(DataPoint(name=\"low\",\tlocation=node,\ttype=mask_one,\tdata=Array(3, 32, 4)), DataPoint(name=\"high\",\tlocation=node,\ttype=mask_one,\tdata=Array(3, 32, 4)), DataPoint(name=\"mid\",\tlocation=node,\ttype=mask_one,\tdata=Array(3, 32, 4))), lengths=array([3., 3., 3., 3., 3., 3., 3., 3., 3., 3., 3., 3., 3., 3., 3., 3., 3.,\n",
       "       3., 3., 3., 3., 3., 3., 3., 3., 3., 3., 3., 3., 3., 3., 3.]))"
      ]
     },
     "execution_count": 36,
     "metadata": {},
     "output_type": "execute_result"
    }
   ],
   "source": [
    "feedback.features"
   ]
  },
  {
   "cell_type": "code",
   "execution_count": 37,
   "id": "2be7a6b8",
   "metadata": {},
   "outputs": [],
   "source": [
    "def _concat(dps, axis):\n",
    "    return jax.tree_util.tree_map(lambda *x: np.concatenate(x, axis), *dps)\n",
    "\n",
    "def get_msgs(sampler, predict_fn, sample_count, rng_key, criteria, sample_prob=0.001, threshold_max_elem=0.001):\n",
    "    \"\"\"Get messages from model.\n",
    "    \n",
    "    CAUTION: size of msgs can get large very quickly, so beware when\n",
    "        running with a large number of samples.\n",
    "    Use sample_prob to reduce the number of messages that are saved\n",
    "    by randomly sampling messages\n",
    "    \n",
    "    Note: we can only perform symbolic regression on a maximum of\n",
    "    ~5000 messages anyways, so we can use sample_prob to get to this threshold\n",
    "    \"\"\"\n",
    "    processed_samples = 0\n",
    "    msgs = []\n",
    "    while processed_samples < sample_count:\n",
    "        feedback = next(sampler)\n",
    "        batch_size = feedback.outputs[0].data.shape[0]\n",
    "        new_rng_key, rng_key = jax.random.split(rng_key)\n",
    "        _, _, cur_msgs, cur_input_msg, cur_input_algo = predict_fn(new_rng_key, feedback.features)\n",
    "        \n",
    "        print(cur_msgs.shape, cur_msgs.shape[-1], cur_input_msg.shape[-1], cur_input_algo.shape[-1])\n",
    "        \n",
    "        cur_msgs = cur_msgs.reshape(-1, cur_msgs.shape[-1])\n",
    "        cur_input_msg = cur_input_msg.reshape(-1, cur_input_msg.shape[-1])\n",
    "        cur_input_algo = cur_input_algo.reshape(-1, cur_input_algo.shape[-1])\n",
    "        cur_msg_concat = jnp.concatenate((cur_msgs, cur_input_msg, cur_input_algo), axis=-1)\n",
    "        \n",
    "        N = cur_msg_concat.shape[0]\n",
    "        max_element_mask = jnp.max(jnp.abs(cur_msgs), axis=1) > threshold_max_elem\n",
    "        print(\"Thresholding:\", jnp.sum(max_element_mask), \"of\", N)\n",
    "        cur_msg_concat = cur_msg_concat[max_element_mask]\n",
    "\n",
    "        if criteria is not None:\n",
    "            crit_mask = criteria(cur_msg_concat)\n",
    "            print(\"Criteria thresholding:\", jnp.sum(crit_mask), \"of\", N)\n",
    "            cur_msg_concat = cur_msg_concat[crit_mask]\n",
    "\n",
    "        # sampled_rate = jnp.sum(max_element_mask) / cur_msg_concat.shape[0]\n",
    "        # new_sample_prob = max(1., sample_prob / sampled_rate)\n",
    "        # print(\"New sample prob:\", new_sample_prob)\n",
    "\n",
    "        new_rng_key, rng_key = jax.random.split(rng_key)\n",
    "        mask = jax.random.choice(new_rng_key,\n",
    "                                 a=jnp.array([False, True]),\n",
    "                                 shape=(cur_msg_concat.shape[0],),\n",
    "                                 p=jnp.array([1 - sample_prob, sample_prob]),\n",
    "                                 replace=True,)\n",
    "        cur_msg_concat = cur_msg_concat[mask]\n",
    "        print(\"Random sampling:\", cur_msg_concat.shape[0], \"of\", N)\n",
    "        \n",
    "        msgs.append(cur_msg_concat)\n",
    "        processed_samples += batch_size\n",
    "    msgs = _concat(msgs, axis=0)\n",
    "    \n",
    "    return msgs\n"
   ]
  },
  {
   "cell_type": "code",
   "execution_count": 38,
   "id": "189e76f0",
   "metadata": {},
   "outputs": [
    {
     "name": "stdout",
     "output_type": "stream",
     "text": [
      "(32, 6, 64, 64, 32) 32 512 12\n",
      "Thresholding: 36480 of 786432\n",
      "Criteria thresholding: 160 of 786432\n",
      "Random sampling: 160 of 786432\n",
      "(32, 6, 64, 64, 32) 32 512 12\n",
      "Thresholding: 36480 of 786432\n",
      "Criteria thresholding: 160 of 786432\n",
      "Random sampling: 160 of 786432\n",
      "(32, 6, 64, 64, 32) 32 512 12\n",
      "Thresholding: 36480 of 786432\n",
      "Criteria thresholding: 160 of 786432\n",
      "Random sampling: 160 of 786432\n",
      "(32, 6, 64, 64, 32) 32 512 12\n",
      "Thresholding: 36480 of 786432\n",
      "Criteria thresholding: 160 of 786432\n",
      "Random sampling: 160 of 786432\n",
      "(32, 6, 64, 64, 32) 32 512 12\n",
      "Thresholding: 36480 of 786432\n",
      "Criteria thresholding: 160 of 786432\n",
      "Random sampling: 160 of 786432\n",
      "(32, 6, 64, 64, 32) 32 512 12\n",
      "Thresholding: 36480 of 786432\n",
      "Criteria thresholding: 160 of 786432\n",
      "Random sampling: 160 of 786432\n",
      "(32, 6, 64, 64, 32) 32 512 12\n",
      "Thresholding: 36480 of 786432\n",
      "Criteria thresholding: 160 of 786432\n",
      "Random sampling: 160 of 786432\n",
      "(32, 6, 64, 64, 32) 32 512 12\n",
      "Thresholding: 36480 of 786432\n",
      "Criteria thresholding: 160 of 786432\n",
      "Random sampling: 160 of 786432\n",
      "(32, 6, 64, 64, 32) 32 512 12\n",
      "Thresholding: 36480 of 786432\n",
      "Criteria thresholding: 160 of 786432\n",
      "Random sampling: 160 of 786432\n",
      "(32, 6, 64, 64, 32) 32 512 12\n",
      "Thresholding: 36480 of 786432\n",
      "Criteria thresholding: 160 of 786432\n",
      "Random sampling: 160 of 786432\n",
      "(32, 6, 64, 64, 32) 32 512 12\n",
      "Thresholding: 36480 of 786432\n",
      "Criteria thresholding: 160 of 786432\n",
      "Random sampling: 160 of 786432\n",
      "(32, 6, 64, 64, 32) 32 512 12\n",
      "Thresholding: 36480 of 786432\n",
      "Criteria thresholding: 160 of 786432\n",
      "Random sampling: 160 of 786432\n",
      "(32, 6, 64, 64, 32) 32 512 12\n",
      "Thresholding: 36480 of 786432\n",
      "Criteria thresholding: 160 of 786432\n",
      "Random sampling: 160 of 786432\n",
      "(32, 6, 64, 64, 32) 32 512 12\n",
      "Thresholding: 36480 of 786432\n",
      "Criteria thresholding: 160 of 786432\n",
      "Random sampling: 160 of 786432\n",
      "(32, 6, 64, 64, 32) 32 512 12\n",
      "Thresholding: 36480 of 786432\n",
      "Criteria thresholding: 160 of 786432\n",
      "Random sampling: 160 of 786432\n",
      "(32, 6, 64, 64, 32) 32 512 12\n",
      "Thresholding: 36480 of 786432\n",
      "Criteria thresholding: 160 of 786432\n",
      "Random sampling: 160 of 786432\n"
     ]
    },
    {
     "data": {
      "text/plain": [
       "(2560, 556)"
      ]
     },
     "execution_count": 38,
     "metadata": {},
     "output_type": "execute_result"
    }
   ],
   "source": [
    "new_rng_key, rng_key = jax.random.split(rng_key)\n",
    "batched_msgs = get_msgs(\n",
    "    test_samplers[0],\n",
    "    functools.partial(eval_model.predict, algorithm_index=0),\n",
    "#     test_sample_counts[0],  # EXPLODING MEMORY LOL\n",
    "    4*32*4,\n",
    "    new_rng_key,\n",
    "    # For binary search: mid1 == 1 or mid2 == 1\n",
    "    criteria=lambda x: jnp.bitwise_or(x[:, -1] == 1, x[:, -2] == 1),\n",
    "    # criteria=None,\n",
    "    sample_prob=1)\n",
    "\n",
    "batched_msgs.shape"
   ]
  },
  {
   "cell_type": "code",
   "execution_count": 39,
   "id": "a54a1ce7",
   "metadata": {},
   "outputs": [
    {
     "data": {
      "text/plain": [
       "Array(0, dtype=int32)"
      ]
     },
     "execution_count": 39,
     "metadata": {},
     "output_type": "execute_result"
    }
   ],
   "source": [
    "jnp.sum(jnp.linalg.norm(batched_msgs[:,:32],axis=1) < 0.01)"
   ]
  },
  {
   "cell_type": "code",
   "execution_count": 40,
   "id": "7200bf49",
   "metadata": {},
   "outputs": [
    {
     "data": {
      "text/plain": [
       "Array(0, dtype=int32)"
      ]
     },
     "execution_count": 40,
     "metadata": {},
     "output_type": "execute_result"
    }
   ],
   "source": [
    "jnp.sum(jnp.max(jnp.abs(batched_msgs[:,:32]),axis=1) < 0.001)"
   ]
  },
  {
   "cell_type": "code",
   "execution_count": 41,
   "id": "d39b3e2a",
   "metadata": {},
   "outputs": [
    {
     "data": {
      "text/plain": [
       "(array([ 0.00534434,  0.01189603, -0.00382944,  0.02849215, -0.03913853,\n",
       "         0.00183683,  0.00156496, -0.00409985, -0.01521713,  0.01439717,\n",
       "        -0.00150602,  0.00463728, -0.00399449,  0.00196688, -0.0068343 ,\n",
       "         0.00131548,  0.00502482,  0.00650771, -0.01354096, -0.01831378,\n",
       "        -0.19837418, -0.00603805, -0.00237461, -0.05014059, -0.00740246,\n",
       "         0.03730302,  0.01441531,  0.00877945, -0.00520488,  0.01159833,\n",
       "         0.00759637, -0.01081368], dtype=float32),\n",
       " array([ 0.03320879,  0.04407987, -0.00084735,  0.13575622, -0.01653911,\n",
       "         0.00129851, -0.00069931, -0.00797095, -0.01319141,  0.03220263,\n",
       "        -0.00725338,  0.0096392 ,  0.02251916, -0.01418712, -0.00893275,\n",
       "         0.01097056,  0.0066552 ,  0.01265418, -0.00241181, -0.01818826,\n",
       "        -0.22285303, -0.00447331,  0.00479253, -0.03724431, -0.00351885,\n",
       "        -0.00307219,  0.02288583,  0.01096382,  0.02635154,  0.10819051,\n",
       "         0.01001652, -0.00472461], dtype=float32),\n",
       " array([ 0.0273145 ,  0.03732489, -0.00377885,  0.11837484, -0.02725492,\n",
       "        -0.00042927, -0.00272785, -0.00952376, -0.01212669,  0.03500539,\n",
       "        -0.01086785,  0.00204462,  0.01948963, -0.00867052, -0.00679782,\n",
       "         0.00478584,  0.0041691 ,  0.01437613, -0.00413291, -0.02063677,\n",
       "        -0.18122098, -0.00229834,  0.00308231, -0.03940229, -0.00109595,\n",
       "         0.00655702,  0.02399388,  0.01232657,  0.02490603,  0.07408229,\n",
       "         0.00920208, -0.00518175], dtype=float32))"
      ]
     },
     "execution_count": 41,
     "metadata": {},
     "output_type": "execute_result"
    }
   ],
   "source": [
    "batched_msgs[0][:32], batched_msgs[1][:32], batched_msgs[2][:32]"
   ]
  },
  {
   "cell_type": "code",
   "execution_count": 42,
   "id": "1bec654a",
   "metadata": {},
   "outputs": [],
   "source": [
    "file_name = 'binary_search_val_msgs.pkl'\n",
    "with open(file_name, 'wb') as f:\n",
    "    pickle.dump(batched_msgs, f)"
   ]
  },
  {
   "cell_type": "code",
   "execution_count": 43,
   "id": "4e9a3dff",
   "metadata": {},
   "outputs": [
    {
     "data": {
      "text/plain": [
       "5693568"
      ]
     },
     "execution_count": 43,
     "metadata": {},
     "output_type": "execute_result"
    }
   ],
   "source": [
    "import sys\n",
    "sys.getsizeof(batched_msgs)"
   ]
  },
  {
   "cell_type": "code",
   "execution_count": 44,
   "id": "c29ad849",
   "metadata": {},
   "outputs": [
    {
     "data": {
      "text/plain": [
       "2048"
      ]
     },
     "execution_count": 44,
     "metadata": {},
     "output_type": "execute_result"
    }
   ],
   "source": [
    "test_sample_counts[0]"
   ]
  },
  {
   "cell_type": "code",
   "execution_count": 45,
   "id": "3cbf7089",
   "metadata": {},
   "outputs": [
    {
     "data": {
      "text/plain": [
       "5.693568"
      ]
     },
     "execution_count": 45,
     "metadata": {},
     "output_type": "execute_result"
    }
   ],
   "source": [
    "sys.getsizeof(batched_msgs) / 1000000"
   ]
  }
 ],
 "metadata": {
  "kernelspec": {
   "display_name": "Python 3.8.16 ('pysr')",
   "language": "python",
   "name": "python3"
  },
  "language_info": {
   "codemirror_mode": {
    "name": "ipython",
    "version": 3
   },
   "file_extension": ".py",
   "mimetype": "text/x-python",
   "name": "python",
   "nbconvert_exporter": "python",
   "pygments_lexer": "ipython3",
   "version": "3.8.16"
  },
  "vscode": {
   "interpreter": {
    "hash": "36b0488005d1a76292731de31d3f8eec57be1775967151d475554d081124d99a"
   }
  }
 },
 "nbformat": 4,
 "nbformat_minor": 5
}
