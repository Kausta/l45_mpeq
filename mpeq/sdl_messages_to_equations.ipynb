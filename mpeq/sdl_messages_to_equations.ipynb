{
 "cells": [
  {
   "cell_type": "code",
   "execution_count": 1,
   "metadata": {},
   "outputs": [],
   "source": [
    "import numpy as np\n",
    "import os\n",
    "from matplotlib import pyplot as plt\n",
    "%matplotlib inline"
   ]
  },
  {
   "cell_type": "code",
   "execution_count": 2,
   "metadata": {},
   "outputs": [],
   "source": [
    "import pickle \n",
    "\n",
    "file_name = 'binary_search_val_msgs.pkl'\n",
    "with open(file_name, 'rb') as f:\n",
    "    batched_msgs = pickle.load(f)"
   ]
  },
  {
   "cell_type": "code",
   "execution_count": 3,
   "metadata": {},
   "outputs": [
    {
     "data": {
      "text/plain": [
       "(31464, 320)"
      ]
     },
     "execution_count": 3,
     "metadata": {},
     "output_type": "execute_result"
    }
   ],
   "source": [
    "batched_msgs.shape"
   ]
  },
  {
   "cell_type": "code",
   "execution_count": 13,
   "metadata": {},
   "outputs": [
    {
     "name": "stdout",
     "output_type": "stream",
     "text": [
      "[0.01252689 0.00762447 0.00774388 0.00922599 0.00726951 0.00537647\n",
      " 0.00499492 0.0099197  0.02389987 0.023113   0.00855329 0.01252523\n",
      " 0.01380229 0.00437027 0.00469598 0.01421649 0.01667366 0.012155\n",
      " 0.01566231 0.00479985 0.01285292 0.00879293 0.00541652 0.01384215\n",
      " 0.00416283 0.00412787 0.00931411 0.00486765 0.01204427 0.02159762\n",
      " 0.00875297 0.01016873 0.01413494 0.01031967 0.00998424 0.01553409\n",
      " 0.0117391  0.0108287  0.00954389 0.00682799 0.00657129 0.02217012\n",
      " 0.01966925 0.00273711 0.00825443 0.01134973 0.02308673 0.00820303\n",
      " 0.00660286 0.0067474  0.01689328 0.01634214 0.00350134 0.0069412\n",
      " 0.00877685 0.00802486 0.0121758  0.01061562 0.00656631 0.0102165\n",
      " 0.02361109 0.00786607 0.00651675 0.0101824  0.20594607 0.35757607\n",
      " 0.271627   0.363441   0.18785411 0.6017315  0.13898751 0.24175665\n",
      " 0.26299733 0.09713102 0.4098434  0.15418614 0.14572759 0.5805387\n",
      " 0.2919327  0.15503152 0.63866925 0.40523705 0.11090343 0.8240292\n",
      " 0.22983459 0.39106402 0.61454076 0.26210502 0.22109796 0.47565815\n",
      " 0.3184269  0.20192963 0.5071882  0.6152902  0.48110488 0.33791688\n",
      " 0.38782886 0.13372727 0.2929173  0.33983126]\n",
      "Best: 83 , std_dev: 0.8240292\n",
      "Best 10: [83 80 93 86 69 77 92 94 89 74] , std_devs: [0.8240292  0.63866925 0.6152902  0.61454076 0.6017315  0.5805387\n",
      " 0.5071882  0.48110488 0.47565815 0.4098434 ]\n"
     ]
    }
   ],
   "source": [
    "std_devs = np.array([np.std(batched_msgs[:,i]) for i in range(100)])\n",
    "print(std_devs)\n",
    "sort_idx = np.argsort(-std_devs)\n",
    "best_10_idx = sort_idx[:10]\n",
    "best_idx = np.argmax(std_devs)\n",
    "print(\"Best:\", best_idx, \", std_dev:\", std_devs[best_idx])\n",
    "print(\"Best 10:\", best_10_idx, \", std_devs:\", std_devs[best_10_idx])"
   ]
  },
  {
   "cell_type": "code",
   "execution_count": 8,
   "metadata": {},
   "outputs": [],
   "source": [
    "best_message = np.argmax([np.std(batched_msgs[:,i]) for i in range(100)])"
   ]
  },
  {
   "cell_type": "code",
   "execution_count": 9,
   "metadata": {},
   "outputs": [
    {
     "data": {
      "text/plain": [
       "83"
      ]
     },
     "execution_count": 9,
     "metadata": {},
     "output_type": "execute_result"
    }
   ],
   "source": [
    "best_message"
   ]
  },
  {
   "cell_type": "code",
   "execution_count": 14,
   "metadata": {},
   "outputs": [],
   "source": [
    "import numpy as np\n",
    "import pickle as pkl\n",
    "from pysr import PySRRegressor\n",
    "import sympy"
   ]
  },
  {
   "cell_type": "code",
   "execution_count": 16,
   "metadata": {},
   "outputs": [
    {
     "data": {
      "text/plain": [
       "array([[ 0.00033134, -0.00036411,  0.00042683, ...,  0.10840471,\n",
       "         0.22307397, -0.02588965],\n",
       "       [ 0.00033134, -0.00036411,  0.00042683, ...,  0.10840471,\n",
       "         0.22307397, -0.02588965],\n",
       "       [ 0.00033134, -0.00036411,  0.00042683, ...,  0.10840471,\n",
       "         0.22307397, -0.02588965],\n",
       "       ...,\n",
       "       [ 0.00033134, -0.00036411,  0.00042683, ...,  0.0638169 ,\n",
       "         0.14041297, -0.01902727],\n",
       "       [ 0.00033134, -0.00036411,  0.00042683, ...,  0.0638169 ,\n",
       "         0.14041297, -0.01902727],\n",
       "       [-0.00183076, -0.0200084 ,  0.02849627, ...,  0.0638169 ,\n",
       "         0.14041297, -0.01902727]], dtype=float32)"
      ]
     },
     "execution_count": 16,
     "metadata": {},
     "output_type": "execute_result"
    }
   ],
   "source": [
    "batched_msgs"
   ]
  },
  {
   "cell_type": "code",
   "execution_count": 17,
   "metadata": {},
   "outputs": [
    {
     "name": "stdout",
     "output_type": "stream",
     "text": [
      "(31464, 9) (31464,)\n"
     ]
    }
   ],
   "source": [
    "X = batched_msgs[:,best_10_idx[1:]]\n",
    "y = batched_msgs[:,best_10_idx[0]]\n",
    "\n",
    "print(X.shape, y.shape)"
   ]
  },
  {
   "cell_type": "code",
   "execution_count": 18,
   "metadata": {},
   "outputs": [],
   "source": [
    "model = PySRRegressor(\n",
    "    model_selection=\"best\",  # Result is mix of simplicity+accuracy\n",
    "    niterations=100,\n",
    "    binary_operators=[\n",
    "        \"plus\", \"sub\", \"mult\", \"div\", \"pow\",\n",
    "        \"min\", \"max\",\n",
    "    ],\n",
    "    unary_operators=[\n",
    "        \"exp\", \"log\", \"abs\",\n",
    "        \"relu(x) = (x >= 0.0f3) ? x : 0.0f3\",\n",
    "        \"heaviside(x) = x > 0.0f3 ? 1.0f3 : x == 0.0f3 ? 0.5f3 : 0.0f3\",\n",
    "    ],\n",
    "    extra_sympy_mappings={\n",
    "        \"min\": lambda x, y: sympy.Piecewise((x, x < y), (y, True)),\n",
    "        \"max\": lambda x, y: sympy.Piecewise((y, x < y), (x, True)),\n",
    "        \"abs\": lambda x: sympy.Piecewise((x, x >= 0.0), (-x, True)),\n",
    "        \"relu\": lambda x: sympy.Piecewise((x, x >= 0.0), (0.0, True)),\n",
    "        \"heaviside\": sympy.Heaviside,\n",
    "    },\n",
    "    complexity_of_operators={\"pow\":3, \"exp\":3, \"log\":3},\n",
    "    # loss=\"loss(x, y) = (x - y)^2\",\n",
    "    loss=\"L1DistLoss()\",\n",
    "    maxsize=10,\n",
    "    maxdepth=5\n",
    ")"
   ]
  },
  {
   "cell_type": "code",
   "execution_count": 19,
   "metadata": {},
   "outputs": [
    {
     "name": "stderr",
     "output_type": "stream",
     "text": [
      "/home/kausta/miniconda3/envs/pysr/lib/python3.8/site-packages/pysr/sr.py:1257: UserWarning: Note: it looks like you are running in Jupyter. The progress bar will be turned off.\n",
      "  warnings.warn(\n"
     ]
    }
   ],
   "source": [
    "model.fit(X[:100], y[:100])"
   ]
  }
 ],
 "metadata": {
  "kernelspec": {
   "display_name": "Python 3.8.16 ('pysr')",
   "language": "python",
   "name": "python3"
  },
  "language_info": {
   "codemirror_mode": {
    "name": "ipython",
    "version": 3
   },
   "file_extension": ".py",
   "mimetype": "text/x-python",
   "name": "python",
   "nbconvert_exporter": "python",
   "pygments_lexer": "ipython3",
   "version": "3.8.16"
  },
  "orig_nbformat": 4,
  "vscode": {
   "interpreter": {
    "hash": "36b0488005d1a76292731de31d3f8eec57be1775967151d475554d081124d99a"
   }
  }
 },
 "nbformat": 4,
 "nbformat_minor": 2
}
